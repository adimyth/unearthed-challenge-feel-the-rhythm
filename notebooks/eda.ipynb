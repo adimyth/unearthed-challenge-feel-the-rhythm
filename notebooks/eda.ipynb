{
 "cells": [
  {
   "cell_type": "code",
   "execution_count": 1,
   "id": "cd64b079",
   "metadata": {},
   "outputs": [
    {
     "name": "stdout",
     "output_type": "stream",
     "text": [
      "Collecting pandas\n",
      "  Downloading pandas-1.3.1-cp37-cp37m-manylinux_2_17_x86_64.manylinux2014_x86_64.whl (11.5 MB)\n",
      "\u001b[K     |████████████████████████████████| 11.5 MB 2.6 MB/s eta 0:00:01\n",
      "\u001b[?25hRequirement already satisfied: python-dateutil>=2.7.3 in /home/sharad/miniconda3/envs/unearthed-challenge-name/lib/python3.7/site-packages (from pandas) (2.8.2)\n",
      "Collecting pytz>=2017.3\n",
      "  Using cached pytz-2021.1-py2.py3-none-any.whl (510 kB)\n",
      "Collecting numpy>=1.17.3\n",
      "  Downloading numpy-1.21.1-cp37-cp37m-manylinux_2_12_x86_64.manylinux2010_x86_64.whl (15.7 MB)\n",
      "\u001b[K     |████████████████████████████████| 15.7 MB 1.8 MB/s eta 0:00:01\n",
      "\u001b[?25hRequirement already satisfied: six>=1.5 in /home/sharad/miniconda3/envs/unearthed-challenge-name/lib/python3.7/site-packages (from python-dateutil>=2.7.3->pandas) (1.16.0)\n",
      "Installing collected packages: pytz, numpy, pandas\n",
      "Successfully installed numpy-1.21.1 pandas-1.3.1 pytz-2021.1\n"
     ]
    }
   ],
   "source": [
    "! pip install pandas"
   ]
  },
  {
   "cell_type": "code",
   "execution_count": 2,
   "id": "606e260e",
   "metadata": {},
   "outputs": [],
   "source": [
    "import pandas as pd\n",
    "import numpy as np"
   ]
  },
  {
   "cell_type": "code",
   "execution_count": 6,
   "id": "d7eb6245",
   "metadata": {},
   "outputs": [
    {
     "name": "stdout",
     "output_type": "stream",
     "text": [
      "../../incident-insights/data/public/public.csv.gz:\t 85.4% -- replaced with ../../incident-insights/data/public/public.csv\n",
      "gzip: ../../incident-insights/data/public/ is a directory -- ignored\n"
     ]
    }
   ],
   "source": [
    "! gunzip -v ../../incident-insights/data/public/public.csv.gz ../../incident-insights/data/public/ "
   ]
  },
  {
   "cell_type": "code",
   "execution_count": 8,
   "id": "e1e0dd46",
   "metadata": {
    "scrolled": true
   },
   "outputs": [
    {
     "name": "stderr",
     "output_type": "stream",
     "text": [
      "/home/sharad/miniconda3/envs/unearthed-challenge-name/lib/python3.7/site-packages/IPython/core/interactiveshell.py:3441: DtypeWarning: Columns (7) have mixed types.Specify dtype option on import or set low_memory=False.\n",
      "  exec(code_obj, self.user_global_ns, self.user_ns)\n"
     ]
    }
   ],
   "source": [
    "df = pd.read_csv('../../incident-insights/data/public/public.csv')"
   ]
  },
  {
   "cell_type": "code",
   "execution_count": 9,
   "id": "b6a85604",
   "metadata": {},
   "outputs": [
    {
     "data": {
      "text/plain": [
       "(12354494, 9)"
      ]
     },
     "execution_count": 9,
     "metadata": {},
     "output_type": "execute_result"
    }
   ],
   "source": [
    "df.shape"
   ]
  },
  {
   "cell_type": "code",
   "execution_count": 10,
   "id": "17c05312",
   "metadata": {},
   "outputs": [
    {
     "data": {
      "text/plain": [
       "Index(['Work_DateTime', 'TIME_TYPE', 'WORK_NO', 'WORK_DESC', 'FUNC_CAT',\n",
       "       'TOT_BRK_TM', 'EmpNo_Anon', 'Incident_Number', 'incident'],\n",
       "      dtype='object')"
      ]
     },
     "execution_count": 10,
     "metadata": {},
     "output_type": "execute_result"
    }
   ],
   "source": [
    "df.columns"
   ]
  },
  {
   "cell_type": "code",
   "execution_count": 12,
   "id": "a989528e",
   "metadata": {},
   "outputs": [
    {
     "data": {
      "text/plain": [
       "False    12354004\n",
       "True          490\n",
       "Name: incident, dtype: int64"
      ]
     },
     "execution_count": 12,
     "metadata": {},
     "output_type": "execute_result"
    }
   ],
   "source": [
    "df.incident.value_counts()"
   ]
  },
  {
   "cell_type": "code",
   "execution_count": 13,
   "id": "ceadd5a4",
   "metadata": {},
   "outputs": [
    {
     "data": {
      "text/plain": [
       "483"
      ]
     },
     "execution_count": 13,
     "metadata": {},
     "output_type": "execute_result"
    }
   ],
   "source": [
    "df['Incident_Number'].nunique()"
   ]
  },
  {
   "cell_type": "markdown",
   "id": "7480c282",
   "metadata": {},
   "source": [
    "**Total number of employees**"
   ]
  },
  {
   "cell_type": "code",
   "execution_count": 19,
   "id": "db27694d",
   "metadata": {},
   "outputs": [
    {
     "data": {
      "text/plain": [
       "2114"
      ]
     },
     "execution_count": 19,
     "metadata": {},
     "output_type": "execute_result"
    }
   ],
   "source": [
    "df.EmpNo_Anon.nunique()"
   ]
  },
  {
   "cell_type": "code",
   "execution_count": 22,
   "id": "a3cd47c1",
   "metadata": {},
   "outputs": [
    {
     "data": {
      "text/plain": [
       "(1785, 9)"
      ]
     },
     "execution_count": 22,
     "metadata": {},
     "output_type": "execute_result"
    }
   ],
   "source": [
    "df[df.TOT_BRK_TM == df.TOT_BRK_TM.max()].shape"
   ]
  },
  {
   "cell_type": "code",
   "execution_count": 115,
   "id": "38012f21",
   "metadata": {},
   "outputs": [
    {
     "data": {
      "text/html": [
       "<div>\n",
       "<style scoped>\n",
       "    .dataframe tbody tr th:only-of-type {\n",
       "        vertical-align: middle;\n",
       "    }\n",
       "\n",
       "    .dataframe tbody tr th {\n",
       "        vertical-align: top;\n",
       "    }\n",
       "\n",
       "    .dataframe thead th {\n",
       "        text-align: right;\n",
       "    }\n",
       "</style>\n",
       "<table border=\"1\" class=\"dataframe\">\n",
       "  <thead>\n",
       "    <tr style=\"text-align: right;\">\n",
       "      <th></th>\n",
       "      <th>Work_DateTime</th>\n",
       "      <th>TIME_TYPE</th>\n",
       "      <th>WORK_NO</th>\n",
       "      <th>WORK_DESC</th>\n",
       "      <th>FUNC_CAT</th>\n",
       "      <th>TOT_BRK_TM</th>\n",
       "      <th>EmpNo_Anon</th>\n",
       "      <th>Incident_Number</th>\n",
       "      <th>incident</th>\n",
       "      <th>weather</th>\n",
       "      <th>day_of_week</th>\n",
       "    </tr>\n",
       "  </thead>\n",
       "  <tbody>\n",
       "    <tr>\n",
       "      <th>26057</th>\n",
       "      <td>2014-07-31 08:00:00</td>\n",
       "      <td>Normal Time</td>\n",
       "      <td>4702883</td>\n",
       "      <td>DESIGN CONNECTION ASSETS MY031873</td>\n",
       "      <td>Support</td>\n",
       "      <td>6.0</td>\n",
       "      <td>38482332.0</td>\n",
       "      <td>NaN</td>\n",
       "      <td>False</td>\n",
       "      <td>Winter</td>\n",
       "      <td>3</td>\n",
       "    </tr>\n",
       "    <tr>\n",
       "      <th>26892</th>\n",
       "      <td>2014-07-31 09:00:00</td>\n",
       "      <td>Normal Time</td>\n",
       "      <td>4702883</td>\n",
       "      <td>DESIGN CONNECTION ASSETS MY031873</td>\n",
       "      <td>Support</td>\n",
       "      <td>6.0</td>\n",
       "      <td>38482332.0</td>\n",
       "      <td>NaN</td>\n",
       "      <td>False</td>\n",
       "      <td>Winter</td>\n",
       "      <td>3</td>\n",
       "    </tr>\n",
       "    <tr>\n",
       "      <th>27768</th>\n",
       "      <td>2014-07-31 10:00:00</td>\n",
       "      <td>Normal Time</td>\n",
       "      <td>4702883</td>\n",
       "      <td>DESIGN CONNECTION ASSETS MY031873</td>\n",
       "      <td>Support</td>\n",
       "      <td>6.0</td>\n",
       "      <td>38482332.0</td>\n",
       "      <td>NaN</td>\n",
       "      <td>False</td>\n",
       "      <td>Winter</td>\n",
       "      <td>3</td>\n",
       "    </tr>\n",
       "    <tr>\n",
       "      <th>28644</th>\n",
       "      <td>2014-07-31 11:00:00</td>\n",
       "      <td>Normal Time</td>\n",
       "      <td>4702883</td>\n",
       "      <td>DESIGN CONNECTION ASSETS MY031873</td>\n",
       "      <td>Support</td>\n",
       "      <td>6.0</td>\n",
       "      <td>38482332.0</td>\n",
       "      <td>NaN</td>\n",
       "      <td>False</td>\n",
       "      <td>Winter</td>\n",
       "      <td>3</td>\n",
       "    </tr>\n",
       "    <tr>\n",
       "      <th>29519</th>\n",
       "      <td>2014-07-31 12:00:00</td>\n",
       "      <td>Normal Time</td>\n",
       "      <td>4702883</td>\n",
       "      <td>DESIGN CONNECTION ASSETS MY031873</td>\n",
       "      <td>Support</td>\n",
       "      <td>6.0</td>\n",
       "      <td>38482332.0</td>\n",
       "      <td>NaN</td>\n",
       "      <td>False</td>\n",
       "      <td>Winter</td>\n",
       "      <td>3</td>\n",
       "    </tr>\n",
       "  </tbody>\n",
       "</table>\n",
       "</div>"
      ],
      "text/plain": [
       "            Work_DateTime    TIME_TYPE  WORK_NO  \\\n",
       "26057 2014-07-31 08:00:00  Normal Time  4702883   \n",
       "26892 2014-07-31 09:00:00  Normal Time  4702883   \n",
       "27768 2014-07-31 10:00:00  Normal Time  4702883   \n",
       "28644 2014-07-31 11:00:00  Normal Time  4702883   \n",
       "29519 2014-07-31 12:00:00  Normal Time  4702883   \n",
       "\n",
       "                               WORK_DESC FUNC_CAT  TOT_BRK_TM  EmpNo_Anon  \\\n",
       "26057  DESIGN CONNECTION ASSETS MY031873  Support         6.0  38482332.0   \n",
       "26892  DESIGN CONNECTION ASSETS MY031873  Support         6.0  38482332.0   \n",
       "27768  DESIGN CONNECTION ASSETS MY031873  Support         6.0  38482332.0   \n",
       "28644  DESIGN CONNECTION ASSETS MY031873  Support         6.0  38482332.0   \n",
       "29519  DESIGN CONNECTION ASSETS MY031873  Support         6.0  38482332.0   \n",
       "\n",
       "      Incident_Number  incident weather  day_of_week  \n",
       "26057             NaN     False  Winter            3  \n",
       "26892             NaN     False  Winter            3  \n",
       "27768             NaN     False  Winter            3  \n",
       "28644             NaN     False  Winter            3  \n",
       "29519             NaN     False  Winter            3  "
      ]
     },
     "execution_count": 115,
     "metadata": {},
     "output_type": "execute_result"
    }
   ],
   "source": [
    "df[(df.EmpNo_Anon == 38482332.0)]"
   ]
  },
  {
   "cell_type": "code",
   "execution_count": 112,
   "id": "b5086b74",
   "metadata": {},
   "outputs": [
    {
     "data": {
      "text/plain": [
       "38478632.0    15593\n",
       "40922307.0    14813\n",
       "41032807.0    14474\n",
       "40859157.0    14399\n",
       "38513682.0    14349\n",
       "              ...  \n",
       "38482332.0        5\n",
       "41182307.0        4\n",
       "41002457.0        4\n",
       "40859957.0        3\n",
       "40926557.0        3\n",
       "Name: EmpNo_Anon, Length: 2114, dtype: int64"
      ]
     },
     "execution_count": 112,
     "metadata": {},
     "output_type": "execute_result"
    }
   ],
   "source": [
    "df.EmpNo_Anon.value_counts()"
   ]
  },
  {
   "cell_type": "markdown",
   "id": "49a6ee1a",
   "metadata": {},
   "source": [
    "**Type of domains**"
   ]
  },
  {
   "cell_type": "code",
   "execution_count": 25,
   "id": "33ccd0ae",
   "metadata": {},
   "outputs": [
    {
     "data": {
      "text/plain": [
       "Operational         7756407\n",
       "Network or Asset    3277805\n",
       "Support             1320282\n",
       "Name: FUNC_CAT, dtype: int64"
      ]
     },
     "execution_count": 25,
     "metadata": {},
     "output_type": "execute_result"
    }
   ],
   "source": [
    "df.FUNC_CAT.value_counts()"
   ]
  },
  {
   "cell_type": "markdown",
   "id": "de7657f4",
   "metadata": {},
   "source": [
    "**Different type of works**"
   ]
  },
  {
   "cell_type": "code",
   "execution_count": 27,
   "id": "dd6cf97e",
   "metadata": {},
   "outputs": [
    {
     "data": {
      "text/plain": [
       "221125"
      ]
     },
     "execution_count": 27,
     "metadata": {},
     "output_type": "execute_result"
    }
   ],
   "source": [
    "df.WORK_DESC.nunique()"
   ]
  },
  {
   "cell_type": "code",
   "execution_count": 31,
   "id": "472affee",
   "metadata": {},
   "outputs": [
    {
     "data": {
      "text/plain": [
       "Index(['Training', 'Admin', 'TCS: Pole Distribution',\n",
       "       'NC- Distribution Standard Jobs', 'TCS: Conductor', 'Safety',\n",
       "       'Housekeeping', 'TCS: NP   No Power', 'Meeting/briefings',\n",
       "       'CONSTRUCTION'],\n",
       "      dtype='object')"
      ]
     },
     "execution_count": 31,
     "metadata": {},
     "output_type": "execute_result"
    }
   ],
   "source": [
    "df.WORK_DESC.value_counts()[:10].index"
   ]
  },
  {
   "cell_type": "code",
   "execution_count": 32,
   "id": "cc275029",
   "metadata": {},
   "outputs": [
    {
     "data": {
      "text/plain": [
       "array(['ME007497', 'ME007499', 'ME007502', ..., '06211411', '4999190E',\n",
       "       '06210965'], dtype=object)"
      ]
     },
     "execution_count": 32,
     "metadata": {},
     "output_type": "execute_result"
    }
   ],
   "source": [
    "df.WORK_NO.unique()"
   ]
  },
  {
   "cell_type": "code",
   "execution_count": 38,
   "id": "d078ee31",
   "metadata": {},
   "outputs": [],
   "source": [
    "work_desc_df = df.groupby('WORK_DESC').WORK_NO.nunique().reset_index()"
   ]
  },
  {
   "cell_type": "code",
   "execution_count": 41,
   "id": "86a3f52a",
   "metadata": {},
   "outputs": [
    {
     "data": {
      "text/html": [
       "<div>\n",
       "<style scoped>\n",
       "    .dataframe tbody tr th:only-of-type {\n",
       "        vertical-align: middle;\n",
       "    }\n",
       "\n",
       "    .dataframe tbody tr th {\n",
       "        vertical-align: top;\n",
       "    }\n",
       "\n",
       "    .dataframe thead th {\n",
       "        text-align: right;\n",
       "    }\n",
       "</style>\n",
       "<table border=\"1\" class=\"dataframe\">\n",
       "  <thead>\n",
       "    <tr style=\"text-align: right;\">\n",
       "      <th></th>\n",
       "      <th>WORK_DESC</th>\n",
       "      <th>WORK_NO</th>\n",
       "    </tr>\n",
       "  </thead>\n",
       "  <tbody>\n",
       "    <tr>\n",
       "      <th>201856</th>\n",
       "      <td>TCS: NP   No Power</td>\n",
       "      <td>32234</td>\n",
       "    </tr>\n",
       "    <tr>\n",
       "      <th>201569</th>\n",
       "      <td>TCS: Conductor</td>\n",
       "      <td>20339</td>\n",
       "    </tr>\n",
       "    <tr>\n",
       "      <th>201913</th>\n",
       "      <td>TCS: Pole Distribution</td>\n",
       "      <td>13542</td>\n",
       "    </tr>\n",
       "    <tr>\n",
       "      <th>201892</th>\n",
       "      <td>TCS: PP   Part Power</td>\n",
       "      <td>10021</td>\n",
       "    </tr>\n",
       "    <tr>\n",
       "      <th>201878</th>\n",
       "      <td>TCS: PB   Pole Broken/Damaged</td>\n",
       "      <td>7573</td>\n",
       "    </tr>\n",
       "    <tr>\n",
       "      <th>201825</th>\n",
       "      <td>TCS: Mini Pillar</td>\n",
       "      <td>7450</td>\n",
       "    </tr>\n",
       "    <tr>\n",
       "      <th>201628</th>\n",
       "      <td>TCS: ES   Electric Shock</td>\n",
       "      <td>7245</td>\n",
       "    </tr>\n",
       "    <tr>\n",
       "      <th>201808</th>\n",
       "      <td>TCS: MH   Miscellaneous Hazard</td>\n",
       "      <td>6705</td>\n",
       "    </tr>\n",
       "    <tr>\n",
       "      <th>201943</th>\n",
       "      <td>TCS: RC   Reconnection</td>\n",
       "      <td>6117</td>\n",
       "    </tr>\n",
       "    <tr>\n",
       "      <th>201806</th>\n",
       "      <td>TCS: MC   Miscellaneous Non Hazard</td>\n",
       "      <td>5749</td>\n",
       "    </tr>\n",
       "  </tbody>\n",
       "</table>\n",
       "</div>"
      ],
      "text/plain": [
       "                                 WORK_DESC  WORK_NO\n",
       "201856                  TCS: NP   No Power    32234\n",
       "201569                      TCS: Conductor    20339\n",
       "201913              TCS: Pole Distribution    13542\n",
       "201892                TCS: PP   Part Power    10021\n",
       "201878       TCS: PB   Pole Broken/Damaged     7573\n",
       "201825                    TCS: Mini Pillar     7450\n",
       "201628            TCS: ES   Electric Shock     7245\n",
       "201808      TCS: MH   Miscellaneous Hazard     6705\n",
       "201943              TCS: RC   Reconnection     6117\n",
       "201806  TCS: MC   Miscellaneous Non Hazard     5749"
      ]
     },
     "execution_count": 41,
     "metadata": {},
     "output_type": "execute_result"
    }
   ],
   "source": [
    "work_desc_df.sort_values('WORK_NO', ascending=False).head(10)"
   ]
  },
  {
   "cell_type": "markdown",
   "id": "977ceb06",
   "metadata": {},
   "source": [
    "- Every work description(`WORK_DESC`) has one to many mapping to work numbers(`WORK_NO`)"
   ]
  },
  {
   "cell_type": "code",
   "execution_count": 30,
   "id": "bb723e56",
   "metadata": {},
   "outputs": [
    {
     "data": {
      "text/plain": [
       "Normal Time    10923131\n",
       "Overtime        1431363\n",
       "Name: TIME_TYPE, dtype: int64"
      ]
     },
     "execution_count": 30,
     "metadata": {},
     "output_type": "execute_result"
    }
   ],
   "source": [
    "df.TIME_TYPE.value_counts()"
   ]
  },
  {
   "cell_type": "markdown",
   "id": "33a61bfe",
   "metadata": {},
   "source": [
    "**Minimum and maximum Work Time in entire data**"
   ]
  },
  {
   "cell_type": "code",
   "execution_count": 48,
   "id": "1355f04c",
   "metadata": {},
   "outputs": [
    {
     "data": {
      "text/plain": [
       "(Timestamp('2019-12-31 23:00:00'), Timestamp('2014-05-12 07:00:00'))"
      ]
     },
     "execution_count": 48,
     "metadata": {},
     "output_type": "execute_result"
    }
   ],
   "source": [
    "pd.to_datetime(df.Work_DateTime, format='%Y-%m-%d %H:%M:%S').max(), pd.to_datetime(df.Work_DateTime, format='%Y-%m-%d %H:%M:%S').min() "
   ]
  },
  {
   "cell_type": "code",
   "execution_count": 49,
   "id": "c07a9873",
   "metadata": {},
   "outputs": [],
   "source": [
    "df.loc[:, 'Work_DateTime'] = pd.to_datetime(df.Work_DateTime, format='%Y-%m-%d %H:%M:%S')"
   ]
  },
  {
   "cell_type": "markdown",
   "id": "5211f087",
   "metadata": {},
   "source": [
    "**Daylight saving is not followed in Perth. Follow the article: https://www.timeanddate.com/time/change/australia/perth#:~:text=Perth%20currently%20observes%20Australian%20Western,not%20change%20in%20Perth%2C%20Australia.**"
   ]
  },
  {
   "cell_type": "code",
   "execution_count": 69,
   "id": "8683b810",
   "metadata": {},
   "outputs": [],
   "source": [
    "weather_dict = {'Summer': [12, 1, 2], 'Autumn': [3, 4, 5], 'Winter': [6, 7, 8], 'Spring': [9, 10, 11]}\n",
    "#https://www.australia.com/en-in/facts-and-planning/weather-in-australia/perth-weather.html"
   ]
  },
  {
   "cell_type": "code",
   "execution_count": 70,
   "id": "c0f3d471",
   "metadata": {},
   "outputs": [],
   "source": [
    "df.loc[df.Work_DateTime.dt.month.isin(weather_dict['Summer']), 'weather'] = 'Summer'\n",
    "df.loc[df.Work_DateTime.dt.month.isin(weather_dict['Autumn']), 'weather'] = 'Autumn'\n",
    "df.loc[df.Work_DateTime.dt.month.isin(weather_dict['Winter']), 'weather'] = 'Winter'\n",
    "df.loc[df.Work_DateTime.dt.month.isin(weather_dict['Spring']), 'weather'] = 'Spring'"
   ]
  },
  {
   "cell_type": "code",
   "execution_count": 110,
   "id": "2110a062",
   "metadata": {},
   "outputs": [
    {
     "data": {
      "text/plain": [
       "Spring    0.286175\n",
       "Winter    0.255008\n",
       "Autumn    0.233317\n",
       "Summer    0.225499\n",
       "Name: weather, dtype: float64"
      ]
     },
     "execution_count": 110,
     "metadata": {},
     "output_type": "execute_result"
    }
   ],
   "source": [
    "df.weather.value_counts(1)"
   ]
  },
  {
   "cell_type": "markdown",
   "id": "0a93e826",
   "metadata": {},
   "source": [
    "**Incidence rate by weather**"
   ]
  },
  {
   "cell_type": "code",
   "execution_count": 111,
   "id": "33d26ef0",
   "metadata": {},
   "outputs": [
    {
     "data": {
      "text/html": [
       "<div>\n",
       "<style scoped>\n",
       "    .dataframe tbody tr th:only-of-type {\n",
       "        vertical-align: middle;\n",
       "    }\n",
       "\n",
       "    .dataframe tbody tr th {\n",
       "        vertical-align: top;\n",
       "    }\n",
       "\n",
       "    .dataframe thead tr th {\n",
       "        text-align: left;\n",
       "    }\n",
       "\n",
       "    .dataframe thead tr:last-of-type th {\n",
       "        text-align: right;\n",
       "    }\n",
       "</style>\n",
       "<table border=\"1\" class=\"dataframe\">\n",
       "  <thead>\n",
       "    <tr>\n",
       "      <th></th>\n",
       "      <th colspan=\"3\" halign=\"left\">incident</th>\n",
       "    </tr>\n",
       "    <tr>\n",
       "      <th></th>\n",
       "      <th>mean</th>\n",
       "      <th>sum</th>\n",
       "      <th>count</th>\n",
       "    </tr>\n",
       "    <tr>\n",
       "      <th>weather</th>\n",
       "      <th></th>\n",
       "      <th></th>\n",
       "      <th></th>\n",
       "    </tr>\n",
       "  </thead>\n",
       "  <tbody>\n",
       "    <tr>\n",
       "      <th>Autumn</th>\n",
       "      <td>0.000038</td>\n",
       "      <td>110</td>\n",
       "      <td>2882518</td>\n",
       "    </tr>\n",
       "    <tr>\n",
       "      <th>Spring</th>\n",
       "      <td>0.000048</td>\n",
       "      <td>170</td>\n",
       "      <td>3535548</td>\n",
       "    </tr>\n",
       "    <tr>\n",
       "      <th>Summer</th>\n",
       "      <td>0.000041</td>\n",
       "      <td>114</td>\n",
       "      <td>2785932</td>\n",
       "    </tr>\n",
       "    <tr>\n",
       "      <th>Winter</th>\n",
       "      <td>0.000030</td>\n",
       "      <td>96</td>\n",
       "      <td>3150496</td>\n",
       "    </tr>\n",
       "  </tbody>\n",
       "</table>\n",
       "</div>"
      ],
      "text/plain": [
       "         incident              \n",
       "             mean  sum    count\n",
       "weather                        \n",
       "Autumn   0.000038  110  2882518\n",
       "Spring   0.000048  170  3535548\n",
       "Summer   0.000041  114  2785932\n",
       "Winter   0.000030   96  3150496"
      ]
     },
     "execution_count": 111,
     "metadata": {},
     "output_type": "execute_result"
    }
   ],
   "source": [
    "df.groupby('weather').agg({'incident': ['mean', 'sum', 'count']})"
   ]
  },
  {
   "cell_type": "markdown",
   "id": "bf43b528",
   "metadata": {},
   "source": [
    "**Incident rate by day of the week**"
   ]
  },
  {
   "cell_type": "code",
   "execution_count": 80,
   "id": "783a739c",
   "metadata": {},
   "outputs": [],
   "source": [
    "df.loc[:, 'day_of_week'] = df.Work_DateTime.dt.weekday"
   ]
  },
  {
   "cell_type": "code",
   "execution_count": 90,
   "id": "032662a3",
   "metadata": {},
   "outputs": [
    {
     "data": {
      "text/html": [
       "<div>\n",
       "<style scoped>\n",
       "    .dataframe tbody tr th:only-of-type {\n",
       "        vertical-align: middle;\n",
       "    }\n",
       "\n",
       "    .dataframe tbody tr th {\n",
       "        vertical-align: top;\n",
       "    }\n",
       "\n",
       "    .dataframe thead tr th {\n",
       "        text-align: left;\n",
       "    }\n",
       "\n",
       "    .dataframe thead tr:last-of-type th {\n",
       "        text-align: right;\n",
       "    }\n",
       "</style>\n",
       "<table border=\"1\" class=\"dataframe\">\n",
       "  <thead>\n",
       "    <tr>\n",
       "      <th></th>\n",
       "      <th colspan=\"2\" halign=\"left\">incident</th>\n",
       "    </tr>\n",
       "    <tr>\n",
       "      <th></th>\n",
       "      <th>mean</th>\n",
       "      <th>sum</th>\n",
       "    </tr>\n",
       "    <tr>\n",
       "      <th>day_of_week</th>\n",
       "      <th></th>\n",
       "      <th></th>\n",
       "    </tr>\n",
       "  </thead>\n",
       "  <tbody>\n",
       "    <tr>\n",
       "      <th>0</th>\n",
       "      <td>0.000028</td>\n",
       "      <td>50</td>\n",
       "    </tr>\n",
       "    <tr>\n",
       "      <th>1</th>\n",
       "      <td>0.000039</td>\n",
       "      <td>97</td>\n",
       "    </tr>\n",
       "    <tr>\n",
       "      <th>2</th>\n",
       "      <td>0.000042</td>\n",
       "      <td>106</td>\n",
       "    </tr>\n",
       "    <tr>\n",
       "      <th>3</th>\n",
       "      <td>0.000042</td>\n",
       "      <td>106</td>\n",
       "    </tr>\n",
       "    <tr>\n",
       "      <th>4</th>\n",
       "      <td>0.000040</td>\n",
       "      <td>91</td>\n",
       "    </tr>\n",
       "    <tr>\n",
       "      <th>5</th>\n",
       "      <td>0.000055</td>\n",
       "      <td>19</td>\n",
       "    </tr>\n",
       "    <tr>\n",
       "      <th>6</th>\n",
       "      <td>0.000052</td>\n",
       "      <td>21</td>\n",
       "    </tr>\n",
       "  </tbody>\n",
       "</table>\n",
       "</div>"
      ],
      "text/plain": [
       "             incident     \n",
       "                 mean  sum\n",
       "day_of_week               \n",
       "0            0.000028   50\n",
       "1            0.000039   97\n",
       "2            0.000042  106\n",
       "3            0.000042  106\n",
       "4            0.000040   91\n",
       "5            0.000055   19\n",
       "6            0.000052   21"
      ]
     },
     "execution_count": 90,
     "metadata": {},
     "output_type": "execute_result"
    }
   ],
   "source": [
    "df.groupby('day_of_week').agg({'incident': ['mean', 'sum']})"
   ]
  },
  {
   "cell_type": "markdown",
   "id": "16d53b1a",
   "metadata": {},
   "source": [
    "**Incident rate by domain**"
   ]
  },
  {
   "cell_type": "code",
   "execution_count": 98,
   "id": "acbf20c1",
   "metadata": {},
   "outputs": [
    {
     "data": {
      "text/html": [
       "<div>\n",
       "<style scoped>\n",
       "    .dataframe tbody tr th:only-of-type {\n",
       "        vertical-align: middle;\n",
       "    }\n",
       "\n",
       "    .dataframe tbody tr th {\n",
       "        vertical-align: top;\n",
       "    }\n",
       "\n",
       "    .dataframe thead tr th {\n",
       "        text-align: left;\n",
       "    }\n",
       "\n",
       "    .dataframe thead tr:last-of-type th {\n",
       "        text-align: right;\n",
       "    }\n",
       "</style>\n",
       "<table border=\"1\" class=\"dataframe\">\n",
       "  <thead>\n",
       "    <tr>\n",
       "      <th></th>\n",
       "      <th colspan=\"3\" halign=\"left\">incident</th>\n",
       "    </tr>\n",
       "    <tr>\n",
       "      <th></th>\n",
       "      <th>mean</th>\n",
       "      <th>count</th>\n",
       "      <th>sum</th>\n",
       "    </tr>\n",
       "    <tr>\n",
       "      <th>FUNC_CAT</th>\n",
       "      <th></th>\n",
       "      <th></th>\n",
       "      <th></th>\n",
       "    </tr>\n",
       "  </thead>\n",
       "  <tbody>\n",
       "    <tr>\n",
       "      <th>Network or Asset</th>\n",
       "      <td>0.000020</td>\n",
       "      <td>3277805</td>\n",
       "      <td>64</td>\n",
       "    </tr>\n",
       "    <tr>\n",
       "      <th>Operational</th>\n",
       "      <td>0.000052</td>\n",
       "      <td>7756407</td>\n",
       "      <td>403</td>\n",
       "    </tr>\n",
       "    <tr>\n",
       "      <th>Support</th>\n",
       "      <td>0.000017</td>\n",
       "      <td>1320282</td>\n",
       "      <td>23</td>\n",
       "    </tr>\n",
       "  </tbody>\n",
       "</table>\n",
       "</div>"
      ],
      "text/plain": [
       "                  incident              \n",
       "                      mean    count  sum\n",
       "FUNC_CAT                                \n",
       "Network or Asset  0.000020  3277805   64\n",
       "Operational       0.000052  7756407  403\n",
       "Support           0.000017  1320282   23"
      ]
     },
     "execution_count": 98,
     "metadata": {},
     "output_type": "execute_result"
    }
   ],
   "source": [
    "df.groupby('FUNC_CAT').agg({'incident': ['mean', 'count', 'sum']})"
   ]
  },
  {
   "cell_type": "code",
   "execution_count": 97,
   "id": "2cd6aae7",
   "metadata": {},
   "outputs": [
    {
     "data": {
      "text/html": [
       "<div>\n",
       "<style scoped>\n",
       "    .dataframe tbody tr th:only-of-type {\n",
       "        vertical-align: middle;\n",
       "    }\n",
       "\n",
       "    .dataframe tbody tr th {\n",
       "        vertical-align: top;\n",
       "    }\n",
       "\n",
       "    .dataframe thead th {\n",
       "        text-align: right;\n",
       "    }\n",
       "</style>\n",
       "<table border=\"1\" class=\"dataframe\">\n",
       "  <thead>\n",
       "    <tr style=\"text-align: right;\">\n",
       "      <th></th>\n",
       "      <th>domain</th>\n",
       "      <th>work_desc</th>\n",
       "      <th>incident_mean</th>\n",
       "      <th>incident_sum</th>\n",
       "    </tr>\n",
       "  </thead>\n",
       "  <tbody>\n",
       "    <tr>\n",
       "      <th>227404</th>\n",
       "      <td>Operational</td>\n",
       "      <td>Training</td>\n",
       "      <td>0.000039</td>\n",
       "      <td>14</td>\n",
       "    </tr>\n",
       "    <tr>\n",
       "      <th>127873</th>\n",
       "      <td>Operational</td>\n",
       "      <td>Admin</td>\n",
       "      <td>0.000053</td>\n",
       "      <td>14</td>\n",
       "    </tr>\n",
       "    <tr>\n",
       "      <th>223071</th>\n",
       "      <td>Operational</td>\n",
       "      <td>Safety</td>\n",
       "      <td>0.000114</td>\n",
       "      <td>13</td>\n",
       "    </tr>\n",
       "    <tr>\n",
       "      <th>224323</th>\n",
       "      <td>Operational</td>\n",
       "      <td>TCS: Pole Distribution</td>\n",
       "      <td>0.000067</td>\n",
       "      <td>12</td>\n",
       "    </tr>\n",
       "    <tr>\n",
       "      <th>149775</th>\n",
       "      <td>Operational</td>\n",
       "      <td>Inactive due to restricted duties</td>\n",
       "      <td>0.000421</td>\n",
       "      <td>7</td>\n",
       "    </tr>\n",
       "    <tr>\n",
       "      <th>224288</th>\n",
       "      <td>Operational</td>\n",
       "      <td>TCS: PB   Pole Broken/Damaged</td>\n",
       "      <td>0.000125</td>\n",
       "      <td>7</td>\n",
       "    </tr>\n",
       "    <tr>\n",
       "      <th>224008</th>\n",
       "      <td>Operational</td>\n",
       "      <td>TCS: DOFT Drop Out Fuse Trip</td>\n",
       "      <td>0.000189</td>\n",
       "      <td>6</td>\n",
       "    </tr>\n",
       "    <tr>\n",
       "      <th>224302</th>\n",
       "      <td>Operational</td>\n",
       "      <td>TCS: PP   Part Power</td>\n",
       "      <td>0.000183</td>\n",
       "      <td>6</td>\n",
       "    </tr>\n",
       "    <tr>\n",
       "      <th>149400</th>\n",
       "      <td>Operational</td>\n",
       "      <td>Housekeeping</td>\n",
       "      <td>0.000058</td>\n",
       "      <td>6</td>\n",
       "    </tr>\n",
       "    <tr>\n",
       "      <th>223980</th>\n",
       "      <td>Operational</td>\n",
       "      <td>TCS: Conductor</td>\n",
       "      <td>0.000049</td>\n",
       "      <td>6</td>\n",
       "    </tr>\n",
       "    <tr>\n",
       "      <th>143562</th>\n",
       "      <td>Operational</td>\n",
       "      <td>Downtime</td>\n",
       "      <td>0.000096</td>\n",
       "      <td>5</td>\n",
       "    </tr>\n",
       "    <tr>\n",
       "      <th>224684</th>\n",
       "      <td>Operational</td>\n",
       "      <td>TCS: SW   Street Wire Down</td>\n",
       "      <td>0.000189</td>\n",
       "      <td>4</td>\n",
       "    </tr>\n",
       "    <tr>\n",
       "      <th>224027</th>\n",
       "      <td>Operational</td>\n",
       "      <td>TCS: Drop Out Fuse</td>\n",
       "      <td>0.000163</td>\n",
       "      <td>4</td>\n",
       "    </tr>\n",
       "    <tr>\n",
       "      <th>224325</th>\n",
       "      <td>Operational</td>\n",
       "      <td>TCS: Pole Distribution (T-Fixed)</td>\n",
       "      <td>0.000103</td>\n",
       "      <td>4</td>\n",
       "    </tr>\n",
       "    <tr>\n",
       "      <th>75416</th>\n",
       "      <td>Network or Asset</td>\n",
       "      <td>NC- Distribution Standard Jobs</td>\n",
       "      <td>0.000019</td>\n",
       "      <td>3</td>\n",
       "    </tr>\n",
       "    <tr>\n",
       "      <th>49847</th>\n",
       "      <td>Network or Asset</td>\n",
       "      <td>Downtime</td>\n",
       "      <td>0.000295</td>\n",
       "      <td>3</td>\n",
       "    </tr>\n",
       "    <tr>\n",
       "      <th>137645</th>\n",
       "      <td>Operational</td>\n",
       "      <td>CONSTRUCTION</td>\n",
       "      <td>0.000048</td>\n",
       "      <td>3</td>\n",
       "    </tr>\n",
       "    <tr>\n",
       "      <th>224366</th>\n",
       "      <td>Operational</td>\n",
       "      <td>TCS: RT   Recloser Trip</td>\n",
       "      <td>0.000081</td>\n",
       "      <td>3</td>\n",
       "    </tr>\n",
       "    <tr>\n",
       "      <th>111819</th>\n",
       "      <td>Operational</td>\n",
       "      <td>2019/20 DX K1K2 Administration Internal</td>\n",
       "      <td>0.002551</td>\n",
       "      <td>2</td>\n",
       "    </tr>\n",
       "    <tr>\n",
       "      <th>143407</th>\n",
       "      <td>Operational</td>\n",
       "      <td>DFIS/DFMS Data Correction Metro</td>\n",
       "      <td>0.000111</td>\n",
       "      <td>2</td>\n",
       "    </tr>\n",
       "  </tbody>\n",
       "</table>\n",
       "</div>"
      ],
      "text/plain": [
       "                  domain                                work_desc  \\\n",
       "227404       Operational                                 Training   \n",
       "127873       Operational                                    Admin   \n",
       "223071       Operational                                   Safety   \n",
       "224323       Operational                   TCS: Pole Distribution   \n",
       "149775       Operational        Inactive due to restricted duties   \n",
       "224288       Operational            TCS: PB   Pole Broken/Damaged   \n",
       "224008       Operational             TCS: DOFT Drop Out Fuse Trip   \n",
       "224302       Operational                     TCS: PP   Part Power   \n",
       "149400       Operational                             Housekeeping   \n",
       "223980       Operational                           TCS: Conductor   \n",
       "143562       Operational                                 Downtime   \n",
       "224684       Operational               TCS: SW   Street Wire Down   \n",
       "224027       Operational                       TCS: Drop Out Fuse   \n",
       "224325       Operational         TCS: Pole Distribution (T-Fixed)   \n",
       "75416   Network or Asset           NC- Distribution Standard Jobs   \n",
       "49847   Network or Asset                                 Downtime   \n",
       "137645       Operational                             CONSTRUCTION   \n",
       "224366       Operational                  TCS: RT   Recloser Trip   \n",
       "111819       Operational  2019/20 DX K1K2 Administration Internal   \n",
       "143407       Operational          DFIS/DFMS Data Correction Metro   \n",
       "\n",
       "        incident_mean  incident_sum  \n",
       "227404       0.000039            14  \n",
       "127873       0.000053            14  \n",
       "223071       0.000114            13  \n",
       "224323       0.000067            12  \n",
       "149775       0.000421             7  \n",
       "224288       0.000125             7  \n",
       "224008       0.000189             6  \n",
       "224302       0.000183             6  \n",
       "149400       0.000058             6  \n",
       "223980       0.000049             6  \n",
       "143562       0.000096             5  \n",
       "224684       0.000189             4  \n",
       "224027       0.000163             4  \n",
       "224325       0.000103             4  \n",
       "75416        0.000019             3  \n",
       "49847        0.000295             3  \n",
       "137645       0.000048             3  \n",
       "224366       0.000081             3  \n",
       "111819       0.002551             2  \n",
       "143407       0.000111             2  "
      ]
     },
     "execution_count": 97,
     "metadata": {},
     "output_type": "execute_result"
    }
   ],
   "source": [
    "work_groupby_df = df.groupby(['FUNC_CAT', 'WORK_DESC']).agg({'incident': ['mean', 'sum']}).reset_index()\n",
    "work_groupby_df.columns = ['domain', 'work_desc', 'incident_mean', 'incident_sum']\n",
    "work_groupby_df.sort_values('incident_sum', ascending=False).head(20)"
   ]
  },
  {
   "cell_type": "code",
   "execution_count": 102,
   "id": "3b1f6eb2",
   "metadata": {},
   "outputs": [
    {
     "data": {
      "text/plain": [
       "11    14.693878\n",
       "10    12.244898\n",
       "8      9.591837\n",
       "3      9.183673\n",
       "2      8.979592\n",
       "9      7.755102\n",
       "5      7.551020\n",
       "12     7.142857\n",
       "1      7.142857\n",
       "7      6.938776\n",
       "4      5.714286\n",
       "6      3.061224\n",
       "Name: Work_DateTime, dtype: float64"
      ]
     },
     "execution_count": 102,
     "metadata": {},
     "output_type": "execute_result"
    }
   ],
   "source": [
    "df[df.incident == True].Work_DateTime.dt.month.value_counts(1) * 100"
   ]
  },
  {
   "cell_type": "markdown",
   "id": "9cb0a8aa",
   "metadata": {},
   "source": [
    "**Auxiliary Data**"
   ]
  },
  {
   "cell_type": "code",
   "execution_count": 116,
   "id": "507ba145",
   "metadata": {},
   "outputs": [],
   "source": [
    "aux_df = pd.read_csv('../data/auxillary_incidents.csv')"
   ]
  },
  {
   "cell_type": "code",
   "execution_count": 118,
   "id": "6535b79b",
   "metadata": {},
   "outputs": [
    {
     "data": {
      "text/plain": [
       "Index(['Unnamed: 0', 'Incident_Number', 'Consequences', 'Suburb/Locality',\n",
       "       'Risk_Score', 'Employee_Type', 'OBS_Contractor_Company', 'OBS_Person',\n",
       "       'OBS_Injury_Classification', 'Sign_Off_Date', 'Close_this_Record?',\n",
       "       'Incident_DateTime', 'All_Consequences_of_the_Incident', 'Status',\n",
       "       'Bodily_Location', 'Nature', 'Mechanism', 'Agency'],\n",
       "      dtype='object')"
      ]
     },
     "execution_count": 118,
     "metadata": {},
     "output_type": "execute_result"
    }
   ],
   "source": [
    "aux_df.columns"
   ]
  },
  {
   "cell_type": "code",
   "execution_count": 121,
   "id": "30d7b900",
   "metadata": {},
   "outputs": [
    {
     "data": {
      "text/plain": [
       "(2802, 2915)"
      ]
     },
     "execution_count": 121,
     "metadata": {},
     "output_type": "execute_result"
    }
   ],
   "source": [
    "aux_df.Incident_Number.nunique(), aux_df.shape[0]"
   ]
  },
  {
   "cell_type": "code",
   "execution_count": 123,
   "id": "2f83690c",
   "metadata": {},
   "outputs": [
    {
     "data": {
      "text/plain": [
       "Injury or Illness                                                                                             2720\n",
       "Motor Vehicle Incident, Injury or Illness                                                                       91\n",
       "Injury or Illness, Near Miss                                                                                    47\n",
       "Injury or Illness, Public Electric Shock                                                                        14\n",
       "Network Asset Failure - Western Power, Injury or Illness                                                        12\n",
       "<Undefined>, Injury or Illness                                                                                   6\n",
       "Unplanned Outage, Injury or Illness                                                                              5\n",
       "Environmental, Injury or Illness                                                                                 4\n",
       "Environmental, Injury or Illness, Near Miss                                                                      4\n",
       "Injury or Illness, Non-Network Asset Damage                                                                      2\n",
       "Network Asset Failure - Western Power, Injury or Illness, Land Access                                            2\n",
       "Live Working (No longer used), Injury or Illness                                                                 1\n",
       "Injury or Illness, Land Access                                                                                   1\n",
       "Network Asset Failure - Western Power, Injury or Illness, Near Miss                                              1\n",
       "Network Asset Failure - Western Power, Motor Vehicle Incident, Injury or Illness, Non-Network Asset Damage       1\n",
       "Injury or Illness, Public Electric Shock, Near Miss                                                              1\n",
       "Motor Vehicle Incident, Injury or Illness, Land Access                                                           1\n",
       "Injury or Illness, Fire                                                                                          1\n",
       "Environmental, Motor Vehicle Incident, Injury or Illness                                                         1\n",
       "Name: Consequences, dtype: int64"
      ]
     },
     "execution_count": 123,
     "metadata": {},
     "output_type": "execute_result"
    }
   ],
   "source": [
    "aux_df.Consequences.value_counts()"
   ]
  },
  {
   "cell_type": "code",
   "execution_count": 126,
   "id": "62aa813e",
   "metadata": {},
   "outputs": [
    {
     "data": {
      "text/plain": [
       "116"
      ]
     },
     "execution_count": 126,
     "metadata": {},
     "output_type": "execute_result"
    }
   ],
   "source": [
    "aux_df['Suburb/Locality'].nunique()"
   ]
  },
  {
   "cell_type": "code",
   "execution_count": 128,
   "id": "8cc648b1",
   "metadata": {},
   "outputs": [
    {
     "data": {
      "text/plain": [
       "Low            1468\n",
       "<Undefined>     856\n",
       "Medium          529\n",
       "High             61\n",
       "Extreme           1\n",
       "Name: Risk_Score, dtype: int64"
      ]
     },
     "execution_count": 128,
     "metadata": {},
     "output_type": "execute_result"
    }
   ],
   "source": [
    "aux_df.Risk_Score.value_counts()"
   ]
  },
  {
   "cell_type": "code",
   "execution_count": 130,
   "id": "2a8188e3",
   "metadata": {},
   "outputs": [
    {
     "data": {
      "text/plain": [
       "Employee               1753\n",
       "Contractor             1042\n",
       "External Contractor      16\n",
       "Name: Employee_Type, dtype: int64"
      ]
     },
     "execution_count": 130,
     "metadata": {},
     "output_type": "execute_result"
    }
   ],
   "source": [
    "aux_df.Employee_Type.value_counts()"
   ]
  },
  {
   "cell_type": "code",
   "execution_count": 134,
   "id": "11c4a0e5",
   "metadata": {},
   "outputs": [
    {
     "data": {
      "text/plain": [
       "1025"
      ]
     },
     "execution_count": 134,
     "metadata": {},
     "output_type": "execute_result"
    }
   ],
   "source": [
    "aux_df.OBS_Person.nunique()"
   ]
  },
  {
   "cell_type": "code",
   "execution_count": 136,
   "id": "6b4e9434",
   "metadata": {},
   "outputs": [
    {
     "data": {
      "text/plain": [
       "Classification 2            811\n",
       "Classification 5            605\n",
       "Classification 6            428\n",
       "Classification 7            406\n",
       "Classification 4            316\n",
       "Classification 8            139\n",
       "Classification 3             94\n",
       "Undefined Classification      9\n",
       "Classification 1              2\n",
       "Name: OBS_Injury_Classification, dtype: int64"
      ]
     },
     "execution_count": 136,
     "metadata": {},
     "output_type": "execute_result"
    }
   ],
   "source": [
    "aux_df.OBS_Injury_Classification.value_counts()"
   ]
  },
  {
   "cell_type": "code",
   "execution_count": 142,
   "id": "92aaa5c5",
   "metadata": {},
   "outputs": [
    {
     "data": {
      "text/plain": [
       "Hands                            451\n",
       "<Undefined>                      181\n",
       "Ankle                            159\n",
       "Knees                            144\n",
       "Back                             144\n",
       "                                ... \n",
       "Feet, Chest, Ankle, Lower leg      1\n",
       "Eyes, Neck, Upper back             1\n",
       "Hands, Ankle                       1\n",
       "Legs, Lower arm                    1\n",
       "Arm, Elbow, Wrist                  1\n",
       "Name: Bodily_Location, Length: 184, dtype: int64"
      ]
     },
     "execution_count": 142,
     "metadata": {},
     "output_type": "execute_result"
    }
   ],
   "source": [
    "aux_df['Bodily_Location'].value_counts()"
   ]
  },
  {
   "cell_type": "code",
   "execution_count": 146,
   "id": "b72cdb66",
   "metadata": {},
   "outputs": [
    {
     "data": {
      "text/plain": [
       "Outdoor environment                        631\n",
       "<Undefined>                                383\n",
       "Other agencies                             291\n",
       "Other materials, substances or objects     225\n",
       "Human agencies                             176\n",
       "Non-powered equipment                      148\n",
       "Indoor environment                         134\n",
       "Road transport                             129\n",
       "Non-powered hand tools                     122\n",
       "Live animals                               112\n",
       "Mobile plant                               105\n",
       "Powered equipment, tools and appliances     98\n",
       "Machinery and fixed plant                   88\n",
       "Non-living animals                          47\n",
       "Unspecified agencies                        38\n",
       "Biological agencies                         29\n",
       "Other transport                             18\n",
       "Non-physical agencies                       17\n",
       "Chemicals                                   16\n",
       "Non-metallic substances                      4\n",
       "Underground environment                      1\n",
       "Name: Agency, dtype: int64"
      ]
     },
     "execution_count": 146,
     "metadata": {},
     "output_type": "execute_result"
    }
   ],
   "source": [
    "aux_df['Agency'].value_counts()"
   ]
  },
  {
   "cell_type": "markdown",
   "id": "3a52cbc7",
   "metadata": {},
   "source": [
    "**What We Do?**\n",
    "\n",
    "- Western Power is a Western Australian State Government owned corporation responsible for building, maintaining and operating an electricity network that connects our 2.3 million customers to traditional and renewable energy sources, delivering an essential service to our community."
   ]
  },
  {
   "cell_type": "code",
   "execution_count": null,
   "id": "d2f0046a",
   "metadata": {},
   "outputs": [],
   "source": []
  }
 ],
 "metadata": {
  "kernelspec": {
   "display_name": "Python 3",
   "language": "python",
   "name": "python3"
  },
  "language_info": {
   "codemirror_mode": {
    "name": "ipython",
    "version": 3
   },
   "file_extension": ".py",
   "mimetype": "text/x-python",
   "name": "python",
   "nbconvert_exporter": "python",
   "pygments_lexer": "ipython3",
   "version": "3.7.11"
  }
 },
 "nbformat": 4,
 "nbformat_minor": 5
}
