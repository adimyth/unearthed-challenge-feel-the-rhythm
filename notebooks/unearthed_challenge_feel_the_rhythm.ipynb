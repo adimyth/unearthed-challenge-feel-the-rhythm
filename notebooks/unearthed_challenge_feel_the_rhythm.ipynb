{
 "cells": [
  {
   "cell_type": "markdown",
   "metadata": {
    "id": "aA5LEj8RzjON"
   },
   "source": [
    "# Feel the Rhythm\n",
    "\n",
    "[Challenge Link](https://unearthed.solutions/u/competitions/110/description)\n"
   ]
  },
  {
   "cell_type": "markdown",
   "metadata": {
    "id": "aslS-r1bkSDW"
   },
   "source": [
    "## Install Libraries "
   ]
  },
  {
   "cell_type": "code",
   "execution_count": null,
   "metadata": {
    "id": "SZ9rWV4s3eTN"
   },
   "outputs": [],
   "source": [
    "!pip install -q xgboost tensorflow_decision_forests"
   ]
  },
  {
   "cell_type": "code",
   "execution_count": 1,
   "metadata": {
    "id": "1UPd_u6kIZUv"
   },
   "outputs": [],
   "source": [
    "from collections import Counter\n",
    "import os\n",
    "import pickle\n",
    "import random\n",
    "import string \n",
    "import time\n",
    "\n",
    "import numpy as np\n",
    "import pandas as pd\n",
    "# from sklearn.metrics import roc_auc_score\n",
    "# from sklearn.model_selection import GroupShuffleSplit"
   ]
  },
  {
   "cell_type": "code",
   "execution_count": 2,
   "metadata": {
    "id": "29CvRFcxV0E2"
   },
   "outputs": [],
   "source": [
    "def seed_everything(seed=42):\n",
    "    random.seed(seed)\n",
    "    np.random.seed(seed)\n",
    "    os.environ['PYTHONHASHSEED'] = str(seed)"
   ]
  },
  {
   "cell_type": "markdown",
   "metadata": {
    "id": "ALEdUAatzyyx"
   },
   "source": [
    "## Download Dataset"
   ]
  },
  {
   "cell_type": "code",
   "execution_count": null,
   "metadata": {
    "id": "lrm4PDjr0zJM"
   },
   "outputs": [],
   "source": [
    "from google.colab import drive\n",
    "drive.mount('/gdrive')"
   ]
  },
  {
   "cell_type": "code",
   "execution_count": null,
   "metadata": {
    "id": "f_sW5skPm5Eu"
   },
   "outputs": [],
   "source": [
    "!cp /gdrive/MyDrive/public.csv.zip ."
   ]
  },
  {
   "cell_type": "code",
   "execution_count": null,
   "metadata": {
    "id": "ZLF0oLZum9lN"
   },
   "outputs": [],
   "source": [
    "!unzip -q public.csv.zip"
   ]
  },
  {
   "cell_type": "markdown",
   "metadata": {
    "id": "VxopDl8-In3D"
   },
   "source": [
    "## PREPROCESSING"
   ]
  },
  {
   "cell_type": "code",
   "execution_count": 3,
   "metadata": {
    "id": "h1ofDsITHqr-"
   },
   "outputs": [],
   "source": [
    "wa_hols = [\n",
    "    \"2009-01-01\",\n",
    "    \"2009-01-26\",\n",
    "    \"2009-03-02\",\n",
    "    \"2009-04-10\",\n",
    "    \"2009-04-11\",\n",
    "    \"2009-04-12\",\n",
    "    \"2009-04-13\",\n",
    "    \"2009-04-25\",\n",
    "    \"2009-04-27\",\n",
    "    \"2009-06-01\",\n",
    "    \"2009-09-28\",\n",
    "    \"2009-12-25\",\n",
    "    \"2009-12-26\",\n",
    "    \"2009-12-28\",\n",
    "    \"2010-01-01\",\n",
    "    \"2010-01-26\",\n",
    "    \"2010-03-01\",\n",
    "    \"2010-04-02\",\n",
    "    \"2010-04-05\",\n",
    "    \"2010-04-26\",\n",
    "    \"2010-06-07\",\n",
    "    \"2010-09-27\",\n",
    "    \"2010-12-25\",\n",
    "    \"2010-12-26\",\n",
    "    \"2010-12-27\",\n",
    "    \"2010-12-28\",\n",
    "    \"2011-01-01\",\n",
    "    \"2011-01-26\",\n",
    "    \"2011-03-07\",\n",
    "    \"2011-04-22\",\n",
    "    \"2011-04-25\",\n",
    "    \"2011-04-26\",\n",
    "    \"2011-06-06\",\n",
    "    \"2011-10-28\",\n",
    "    \"2011-12-25\",\n",
    "    \"2011-12-26\",\n",
    "    \"2011-12-27\",\n",
    "    \"2012-01-01\",\n",
    "    \"2012-01-02\",\n",
    "    \"2012-01-26\",\n",
    "    \"2012-03-05\",\n",
    "    \"2012-04-06\",\n",
    "    \"2012-04-09\",\n",
    "    \"2012-04-25\",\n",
    "    \"2012-06-04\",\n",
    "    \"2012-10-01\",\n",
    "    \"2012-12-25\",\n",
    "    \"2012-12-26\",\n",
    "    \"2013-01-01\",\n",
    "    \"2013-01-26\",\n",
    "    \"2013-03-04\",\n",
    "    \"2013-03-29\",\n",
    "    \"2013-04-01\",\n",
    "    \"2013-04-25\",\n",
    "    \"2013-06-03\",\n",
    "    \"2013-09-30\",\n",
    "    \"2013-12-25\",\n",
    "    \"2013-12-26\",\n",
    "    \"2014-01-01\",\n",
    "    \"2014-01-27\",\n",
    "    \"2014-03-03\",\n",
    "    \"2014-04-18\",\n",
    "    \"2014-04-19\",\n",
    "    \"2014-04-21\",\n",
    "    \"2014-04-25\",\n",
    "    \"2014-06-02\",\n",
    "    \"2014-09-29\",\n",
    "    \"2014-12-25\",\n",
    "    \"2014-12-26\",\n",
    "    \"2015-01-01\",\n",
    "    \"2015-01-26\",\n",
    "    \"2015-03-02\",\n",
    "    \"2015-04-03\",\n",
    "    \"2015-04-04\",\n",
    "    \"2015-04-06\",\n",
    "    \"2015-04-25\",\n",
    "    \"2015-04-27\",\n",
    "    \"2015-06-01\",\n",
    "    \"2015-09-28\",\n",
    "    \"2015-12-25\",\n",
    "    \"2016-01-01\",\n",
    "    \"2016-01-26\",\n",
    "    \"2016-03-07\",\n",
    "    \"2016-03-25\",\n",
    "    \"2016-03-28\",\n",
    "    \"2016-04-25\",\n",
    "    \"2016-06-06\",\n",
    "    \"2016-09-26\",\n",
    "    \"2016-12-25\",\n",
    "    \"2016-12-26\",\n",
    "    \"2016-12-27\",\n",
    "    \"2017-01-01\",\n",
    "    \"2017-01-02\",\n",
    "    \"2017-01-26\",\n",
    "    \"2017-03-06\",\n",
    "    \"2017-04-14\",\n",
    "    \"2017-04-17\",\n",
    "    \"2017-04-25\",\n",
    "    \"2017-06-05\",\n",
    "    \"2017-09-25\",\n",
    "    \"2017-12-25\",\n",
    "    \"2017-12-26\",\n",
    "    \"2018-01-01\",\n",
    "    \"2018-01-26\",\n",
    "    \"2018-03-05\",\n",
    "    \"2018-03-30\",\n",
    "    \"2018-04-02\",\n",
    "    \"2018-04-25\",\n",
    "    \"2018-06-04\",\n",
    "    \"2018-09-24\",\n",
    "    \"2018-12-25\",\n",
    "    \"2018-12-26\",\n",
    "    \"2019-01-01\",\n",
    "    \"2019-01-28\",\n",
    "    \"2019-03-04\",\n",
    "    \"2019-04-19\",\n",
    "    \"2019-04-22\",\n",
    "    \"2019-04-25\",\n",
    "    \"2019-06-03\",\n",
    "    \"2019-09-30\",\n",
    "    \"2019-12-25\",\n",
    "    \"2019-12-26\",\n",
    "    \"2020-01-01\",\n",
    "    \"2020-01-27\",\n",
    "    \"2020-03-02\",\n",
    "    \"2020-04-10\",\n",
    "    \"2020-04-13\",\n",
    "    \"2020-04-25\",\n",
    "    \"2020-04-27\",\n",
    "    \"2020-06-01\",\n",
    "    \"2020-09-28\",\n",
    "    \"2020-12-25\",\n",
    "    \"2020-12-26\",\n",
    "    \"2020-12-28\",\n",
    "    \"2021-01-01\",\n",
    "    \"2021-01-26\",\n",
    "    \"2021-03-01\",\n",
    "    \"2021-04-02\",\n",
    "    \"2021-04-05\",\n",
    "    \"2021-04-25\",\n",
    "    \"2021-04-26\",\n",
    "    \"2021-06-07\",\n",
    "    \"2021-09-27\",\n",
    "    \"2021-12-25\",\n",
    "    \"2021-12-26\",\n",
    "    \"2021-12-27\",\n",
    "    \"2021-12-28\",\n",
    "]\n",
    "\n",
    "work_desc = {\"TRAINING\": \"TRAINING\", \n",
    "             \"ADMIN\": \"ADMIN\", \n",
    "             \"TCS POLE DISTRIBUTION\": \"TCS POLE DISTRIBUTION\",\n",
    "             \"TCS POLE DISTRIBUTION TFIXED\": \"TCS POLE DISTRIBUTION\", \n",
    "             \"NC DISTRIBUTION STANDARD JOBS\": \"NC DISTRIBUTION STANDARD JOBS\", \n",
    "             \"TCS CONDUCTOR\": \"TCS CONDUCTOR\", \n",
    "             \"SAFETY\": \"SAFETY\", \n",
    "             \"HOUSEKEEPING\": \"HOUSEKEEPING\", \n",
    "             \"TCS NP NO POWER\": \"TCS NP NO POWER\", \n",
    "             \"DATA MAINTENENCE\": \"DATA MAINTENENCE\", \n",
    "             \"NC TRANSMISSION STANDARD JOBS\": \"NC TRANSMISSION STANDARD JOBS\", \n",
    "             \"VISUAL MANAGEMENT\": \"VISUAL MANAGEMENT\", \n",
    "             \"DOWNTIME\": \"DOWNTIME\", \n",
    "             \"DATA MANAGEMENT\": \"DATA MANAGEMENT\", \n",
    "             \"TCS PB POLE BROKENDAMAGED\": \"TCS PB POLE BROKENDAMAGED\", \n",
    "             \"TEMPORARY DISCONNECTION ONLY\": \"TEMPORARY DISCONNECTION ONLY\", \n",
    "             \"NCIMP CONTINUOUS IMPROVEMENT\": \"NCIMP CONTINUOUS IMPROVEMENT\", \n",
    "             \"TEN HOUR BREAK\": \"TEN HOUR BREAK\", # can probably set target to False\n",
    "             \"TCS LV CABLE UNDERGROUND\": \"TCS LV CABLE UNDERGROUND\", \n",
    "             \"GENERAL TRAINING TRAVEL\": \"GENERAL TRAINING TRAVEL\", \n",
    "             \"PROJECT SCOPING\": \"PROJECT SCOPING\", \n",
    "             \"TCS DISTRIBUTION TRANSFORMER\": \"TCS DISTRIBUTION TRANSFORMER\", \n",
    "             \"TCS RT RECLOSER TRIP\": \"TCS RT RECLOSER TRIP\", \n",
    "             \"HIGH LOAD SURVEY METRO FUTURE GRID\": \"HIGH LOAD SURVEY METRO FUTURE GRID\", \n",
    "             \"TCS HV CABLE UNDERGROUND\": \"TCS HV CABLE UNDERGROUND\", \n",
    "             \"FAULT READY\": \"FAULT READY\", \n",
    "             \"TCS ES ELECTRIC SHOCK\": \"TCS ES ELECTRIC SHOCK\", \n",
    "             \"NEW CONNECTIONS INSTALL METER ENERGISE\": \"NEW CONNECTIONS INSTALL METER ENERGISE\", \n",
    "             \"TCS PP PART POWER\": \"TCS PP PART POWER\", \n",
    "            #  \"LEVEL 3 EVENT WAROONA BFIRES JAN 2016\": \"LEVEL 3 EVENT WAROONA BFIRES JAN 2016\", \n",
    "             \"TCS DOFT DROP OUT FUSE TRIP\": \"TCS DOFT DROP OUT FUSE TRIP\", \n",
    "             \"METER RECONFIGURATION\": \"RECONFIGURATION\",\n",
    "             \"PROTECTION COMMISSIONING\": \"PROTECTION COMMISSIONING\", \n",
    "             \"XA21 SUPPORT 201314 LABOUR\": \"LABOUR SUPPORT\", \n",
    "             \"MISCELLANEOUS HAZARD\": \"HAZARD\", \n",
    "             \"MISCELLANEOUS NON HAZARD\": \"NON HAZARD\", \n",
    "             \"POLICYSTRATEGY\": \"POLICY STRATEGY\", \n",
    "             \"TCS MINI PILLAR\": \"TCS MINI PILLAR\", \n",
    "             \"TCS DROP OUT FUSE\": \"TCS DROP OUT FUSE\", \n",
    "             \"TCS RC RECONNECTION\": \"TCS RC RECONNECTION\", \n",
    "             \"METER REPLACEMENT INTERNAL\": \"METER REPLACEMENT INTERNAL\", \n",
    "             \"ASSET INFORMATION SYSTEMS\": \"ASSET INFORMATION SYSTEMS\",\n",
    "             \"XA21 SUPPORT 201314 LABOUR\": \"XA21 SUPPORT 201314 LABOUR\", \n",
    "             \"DX VEGETATION RESPONSE MET\": \"DX VEGETATION RESPONSE MET\", \n",
    "             \"TCS LV CROSS ARM\": \"TCS LV CROSS ARM\", \n",
    "             # SELF ADDED\n",
    "             \"DESIGN CONNECTION ASSETS\": \"DESIGN CONNECTION ASSETS\",\n",
    "             \"NETWORK PLANNING\": \"NETWORK PLANNING\",\n",
    "             \"DESIGN INTERNAL\": \"DESIGN INTERNAL\",\n",
    "             \"REPLACE WOOD POLE PWOD/PINT\": \"REPLACE WOOD POLE PWOD/PINT\",\n",
    "             \"DESIGN SYSTEM ASSETS\": \"DESIGN SYSTEM ASSETS\",\n",
    "             \"REPAIR EARTH PWOD/PINT\": \"REPAIR EARTH PWOD/PINT\",\n",
    "             \"PROJECT PLANNING\": \"PROJECT PLANNING\",\n",
    "             \"NETWORK FULL INSPECTION\": \"NETWORK FULL INSPECTION\",\n",
    "             \"REINFORCE WOOD POLE\": \"REINFORCE WOOD POLE\",\n",
    "             \"REPLACE OVERHEAD SERVICE\": \"REPLACE OVERHEAD SERVICE\",\n",
    "             \"DESIGN WORK ORDER\": \"DESIGN WORK ORDER\", \n",
    "             \"TRAINING\": \"TRAINING\", \n",
    "             \"GENERAL\": \"GENERAL\", \n",
    "             \"PROJECT MANAGEMENT\": \"PROJECT MANAGEMENT\", \n",
    "             \"PROJECT PLANNING\": \"PROJECT PLANNING\",\n",
    "             \"PROJECT ESTIMATION\": \"PROJECT ESTIMATION\", \n",
    "             \"ADMIN WORK ORDER\": \"ADMIN WORK ORDER\", \n",
    "             \"TCS POLE DISTRIBUTION\": \"TCS POLE DISTRIBUTION\", \n",
    "             \"OFFSITE LABOUR COST\": \"OFFSITE LABOUR COST\", \n",
    "             \"CIVIL CONSTRUCTION\": \"CIVIL CONSTRUCTION\", \n",
    "             \"LINE CONSTRUCTION\": \"LINE CONSTRUCTION\", \n",
    "             \"ELECTRICAL CONSTRUCTION\": \"ELECTRICAL CONSTRUCTION\", \n",
    "             \"CONSTRUCTION MANAGER\": \"CONSTRUCTION MANAGER\", \n",
    "             \"CONSTRUCTION\": \"CONSTRUCTION\", \n",
    "             \"NETWORK PLANNING\": \"NETWORK PLANNING\", \n",
    "             \"DATA MAINTAINENCE\": \"DATA MAINTAINENCE\", \n",
    "             \"DATA WAREHOUSE\": \"DATA WAREHOUSE\", \n",
    "             \"DATA ANALYSIS\": \"DATA ANALYSIS\", \n",
    "             \"ELECTRICAL WORK\": \"ELECTRICAL WORK\", \n",
    "             \"UNDERGROUND\": \"UNDERGROUND\", \n",
    "             \"DESIGN INTERNAL\": \"DESIGN INTERNAL\", \n",
    "             \"INTERNAL DESIGN\": \"DESIGN INTERNAL\", \n",
    "             \"NETWORK SUPPORT\": \"NETWORK SUPPORT\", \n",
    "             \"STATION NETWORK\": \"STATION NETWORK\", \n",
    "             \"OFFSITE\": \"OFFSITE\", \n",
    "             \"MEETING\": \"MEETING\", \"CONTRACT\": \"CONTRACT\", \n",
    "             \"RETAILER\": \"RETAILER REQUESTED\", \"OVERHEAD\": \"OVERHEAD\",\n",
    "             \"TRANSMISSION\": \"TRANSMISSION\", \n",
    "             \"SWITCHING\": \"ANNUAL SWITCHING\", \n",
    "             \"HAZARD\": \"REMOVE HAZARD FROM CONDUCTOR\", \n",
    "             \"ELECTRICAL\": \"ELECTRICAL WORK\",  \n",
    "             \"DELIVERY\": \"PROJECT DELIVERY\", \n",
    "             \"ADMINISTRATION\": \"ADMININSTRATION\", \n",
    "             \"EMERGENCY\": \"EMERGENCY RESCUE\", \n",
    "             \"INCIDENT REPORTING\": \"INCIDENT REPORTING\",\n",
    "             \"INCIDENT INVESTIGATION\": \"INCIDENT REPORTING\", \n",
    "             \"OPERATIONS\": \"OPERATIONS\", \n",
    "             \"FLEET\": \"FLEET WORK\", \"CIVIL\": \"CIVIL WORK\", \n",
    "             \"SUPPLY ABOLISHMENT\": \"SUPPLY ABOLISHMENT\", \n",
    "             \"RISK ANALYSIS\": \"RISK ANALYSIS\", \n",
    "             \"RISK MANAGEMENT\": \"RISK ANALYSIS\", \n",
    "             \"RISK MODELLING\": \"RISK ANALYSIS\",\n",
    "             \"COMMUNITY\": \"COMMUNITY WORK\", \"FITTING\": \"FITTING WORK\", \n",
    "             \"CONTRACTORS\": \"CONTRACTORS TIMESHEET\", \n",
    "             \"VOLTAGE LOW\" : \"VOLTAGE LOW & FLUCTUATION\", \n",
    "             \"VOLTAGE FLUCTUATION\": \"VOLTAGE LOW & FLUCTUATION\",\n",
    "             \"OVERTIME\": \"OVERTIME\", \"RAILWAY\": \"RAILWAY WORK\", \n",
    "             \"OIL SPILL RESPONSECLEANUP\": \"CLEAN\", \n",
    "             \"LIVE INSULATOR CLEAN\": \"LIVE INSULATOR CLEAN\", \n",
    "             \"SECURITY\": \"COMPUTER SECURITY\", \"INSPECTION\": \"INSPECTION\", \n",
    "             \"STREETLIGHT\": \"REPLACE STREETLIGHT\", \n",
    "             \"BOND HARDWARE\": \"BOND HARDWARE\", \"DECOMISSION\": \"DECOMISSION\", \n",
    "             \"METER READING\": \"METER READING\", \"PAYROLL\": \"PAYROLL\", \n",
    "             \"AUTOMATION\": \"AUTOMATION PROJECT\", \"BUSINESS\": \"BUSINESS TEAM\", \n",
    "             \"COMMUNICATIONS\": \"METER COMMUNICATIONS\", \n",
    "             \"INSTALLATION\": \"INSTALLATION\"\n",
    "             }"
   ]
  },
  {
   "cell_type": "code",
   "execution_count": 4,
   "metadata": {
    "id": "1NswFNlbHvnD"
   },
   "outputs": [],
   "source": [
    "def add_time_feat(data):\n",
    "    data[\"hour\"] = data[\"Work_DateTime\"].dt.hour\n",
    "    data[\"year\"] = data[\"Work_DateTime\"].dt.year\n",
    "    data[\"month\"] = data[\"Work_DateTime\"].dt.month\n",
    "    data[\"date\"] = data[\"Work_DateTime\"].dt.date\n",
    "    data[\"day_of_week\"] = data[\"Work_DateTime\"].dt.dayofweek\n",
    "    return data"
   ]
  },
  {
   "cell_type": "code",
   "execution_count": 5,
   "metadata": {
    "id": "O-3hF-oeJu3C"
   },
   "outputs": [],
   "source": [
    "def get_shift_hour(group):\n",
    "    group[\"shift_hour\"] = group[\"Work_DateTime\"] - group.iloc[0][\"Work_DateTime\"]\n",
    "    return group"
   ]
  },
  {
   "cell_type": "code",
   "execution_count": 6,
   "metadata": {
    "id": "5dhYPmvoJwNw"
   },
   "outputs": [],
   "source": [
    "def get_date_group(group):\n",
    "    return group.groupby(\"date\").apply(get_shift_hour)"
   ]
  },
  {
   "cell_type": "code",
   "execution_count": 7,
   "metadata": {
    "id": "nHEH9YjeH6XU"
   },
   "outputs": [],
   "source": [
    "def preprocess(data_file):\n",
    "    print(f\"LOADING DATA\")\n",
    "    df = pd.read_csv(data_file)\n",
    "\n",
    "    print(\"\\nADD TIME FEATURES\")\n",
    "    df[\"Work_DateTime\"] = pd.to_datetime(df[\"Work_DateTime\"], errors=\"coerce\")\n",
    "    df = add_time_feat(df)\n",
    "\n",
    "    print('\\nENCODING \"TIME_TYPE\" & \"FUNC_CAT\"')\n",
    "    df[\"TIME_TYPE\"] = df[\"TIME_TYPE\"].replace({\"Normal Time\": 0, \"Overtime\": 1})\n",
    "    df[\"FUNC_CAT\"] = df[\"FUNC_CAT\"].replace({\"Operational\": 1, \"Network or Asset\": 2, \"Support\": 3})\n",
    "\n",
    "    print(\"\\nWESTERN AUS PUBLIC HOLIDAY\")\n",
    "    df[\"holiday\"] = df[\"Work_DateTime\"].dt.round(\"1D\").isin(wa_hols)\n",
    "\n",
    "    print(\"\\nPERIOD OF THE DAY\")\n",
    "    bins = [0, 4, 8, 12, 16, 20, 24]\n",
    "    labels = [1, 2, 3, 4, 5, 6]\n",
    "    df[\"period\"] = pd.cut(df[\"Work_DateTime\"].dt.hour, bins=bins, labels=labels, include_lowest=True)\n",
    "    df[\"period\"] = pd.to_numeric(df[\"period\"], errors=\"coerce\")\n",
    "\n",
    "    print(\"\\nSEASON OF THE YEAR\")\n",
    "    df.loc[df[\"month\"].isin([12, 1, 2]), \"season\"] = 1\n",
    "    df.loc[df[\"month\"].isin([3, 4, 5]), \"season\"] = 2\n",
    "    df.loc[df[\"month\"].isin([6, 7, 8]), \"season\"] = 3\n",
    "    df.loc[df[\"month\"].isin([9, 10, 11]), \"season\"] = 4\n",
    "\n",
    "    print(\"\\nGAP BETWEEN WORKING DAYS\")\n",
    "    df[\"gap\"] = df.groupby(\"EmpNo_Anon\")[\"date\"].diff().dt.days\n",
    "\n",
    "    print('\\n\"Work Description\" - Mapping & Encoding\"')\n",
    "    start = time.time()\n",
    "    df[\"WORK_DESC\"] = df[\"WORK_DESC\"].str.strip().str.upper()\n",
    "    for key, value in work_desc.items():\n",
    "        df.loc[df[\"WORK_DESC\"].str.contains(key), \"WORK_DESC\"] = value\n",
    "    df.loc[~df[\"WORK_DESC\"].isin(list(work_desc.keys())), \"WORK_DESC\"] = \"OTHERS\"\n",
    "    mapping = dict(zip(list(work_desc.values()), list(range(len(work_desc)))))\n",
    "    df[\"WORK_DESC\"] = df[\"WORK_DESC\"].replace(mapping)\n",
    "    df[\"WORK_DESC\"] = df[\"WORK_DESC\"].replace({\"OTHERS\": 999})\n",
    "    print(f\"Runtime - {time.time() - start}s\")\n",
    "\n",
    "    print(\"\\nSHIFT HOUR CALCULATION\")\n",
    "    start = time.time()\n",
    "    df = df.groupby(\"EmpNo_Anon\").apply(get_date_group)\n",
    "    print(f\"Runtime - {time.time() - start}s\")\n",
    "\n",
    "    return df[input_cols + [\"incident\"]]"
   ]
  },
  {
   "cell_type": "code",
   "execution_count": null,
   "metadata": {
    "colab": {
     "base_uri": "https://localhost:8080/"
    },
    "id": "5jMkeuf8IELk",
    "outputId": "a1a07147-cc25-4514-d08b-3fd54d0cbc1c"
   },
   "outputs": [
    {
     "name": "stdout",
     "output_type": "stream",
     "text": [
      "LOADING DATA\n"
     ]
    },
    {
     "name": "stderr",
     "output_type": "stream",
     "text": [
      "/home/sharad/miniconda3/envs/unearthed-challenge-name/lib/python3.7/site-packages/ipykernel_launcher.py:1: DtypeWarning: Columns (7) have mixed types.Specify dtype option on import or set low_memory=False.\n",
      "  \"\"\"Entry point for launching an IPython kernel.\n"
     ]
    },
    {
     "name": "stdout",
     "output_type": "stream",
     "text": [
      "\n",
      "ADD TIME FEATURES\n",
      "\n",
      "ENCODING \"TIME_TYPE\" & \"FUNC_CAT\"\n",
      "\n",
      "WESTERN AUS PUBLIC HOLIDAY\n",
      "\n",
      "PERIOD OF THE DAY\n",
      "\n",
      "SEASON OF THE YEAR\n",
      "\n",
      "GAP BETWEEN WORKING DAYS\n",
      "\n",
      "\"Work Description\" - Mapping & Encoding\"\n",
      "Runtime - 525.3639886379242s\n",
      "\n",
      "SHIFT HOUR CALCULATION\n"
     ]
    }
   ],
   "source": [
    "%%time\n",
    "df = preprocess(\"../../incident-insights/data/public/public.csv\")\n",
    "df.to_csv(\"../data/processed_data.csv\", index=False)"
   ]
  },
  {
   "cell_type": "code",
   "execution_count": null,
   "metadata": {
    "id": "gvGa2kJkWG2S"
   },
   "outputs": [],
   "source": [
    "!cp processed_data.csv /gdrive/MyDrive/"
   ]
  },
  {
   "cell_type": "code",
   "execution_count": null,
   "metadata": {
    "id": "1541QyG5LUTY"
   },
   "outputs": [],
   "source": [
    "input_cols = [\"WORK_DESC\", \"TIME_TYPE\", \"FUNC_CAT\", \n",
    "              \"TOT_BRK_TM\", \"hour\", \"day_of_week\", \n",
    "              \"month\", \"year\", \"holiday\", \"period\", \n",
    "              \"season\", \"gap\", \"shift_hour\"]\n",
    "\n",
    "target_cols = [\"incident\"]"
   ]
  },
  {
   "cell_type": "markdown",
   "metadata": {
    "id": "8FW69v8kVUD8"
   },
   "source": [
    "## Train Test Split\n",
    "\n",
    "Stratification & Group Split together"
   ]
  },
  {
   "cell_type": "code",
   "execution_count": null,
   "metadata": {
    "id": "iBua3WP7VWc4"
   },
   "outputs": [],
   "source": [
    "true_employees = df.loc[df[\"Incident\"]==True][\"Emp_No\"].tolist()\n",
    "false_employees = df.loc[df[\"Incident\"]==False][\"Emp_No\"].tolist()"
   ]
  },
  {
   "cell_type": "markdown",
   "metadata": {
    "id": "E1n4ny0kZeQY"
   },
   "source": [
    "Randomly pick 20% of employees from both splits & consider them as Validation data. Rest as train data"
   ]
  },
  {
   "cell_type": "code",
   "execution_count": null,
   "metadata": {
    "id": "Z4mCdL4bZy2T"
   },
   "outputs": [],
   "source": [
    "true_count = int(0.2*len(true_employees))\n",
    "false_count = int(0.2*len(false_employees))"
   ]
  },
  {
   "cell_type": "code",
   "execution_count": null,
   "metadata": {
    "id": "0sQUMx7CZdrz"
   },
   "outputs": [],
   "source": [
    "valid_true_emp = random.sample(true_employees, k=true_count)\n",
    "valid_false_emp = random.sample(true_employees, k=false_count)"
   ]
  },
  {
   "cell_type": "code",
   "execution_count": null,
   "metadata": {
    "id": "zVGG55S2Zld-"
   },
   "outputs": [],
   "source": []
  },
  {
   "cell_type": "markdown",
   "metadata": {
    "id": "ZZsKwUQYkWsK"
   },
   "source": [
    "## XGBoost"
   ]
  },
  {
   "cell_type": "code",
   "execution_count": null,
   "metadata": {
    "id": "-bUZwHc_kV0o"
   },
   "outputs": [],
   "source": [
    "import xgboost as xgb"
   ]
  },
  {
   "cell_type": "code",
   "execution_count": null,
   "metadata": {
    "id": "2aa28gJrMfHV"
   },
   "outputs": [],
   "source": [
    "df = pd.read_csv(\"processed_data.csv\")"
   ]
  },
  {
   "cell_type": "code",
   "execution_count": null,
   "metadata": {
    "id": "Op1Psf5wLql5"
   },
   "outputs": [],
   "source": [
    "y_train = df[target_columns]\n",
    "X_train = df.drop(columns=target_columns)"
   ]
  },
  {
   "cell_type": "markdown",
   "metadata": {
    "id": "kzKNSWUjL_dY"
   },
   "source": [
    "### Training"
   ]
  },
  {
   "cell_type": "code",
   "execution_count": null,
   "metadata": {
    "id": "mgocrUCwLv75"
   },
   "outputs": [],
   "source": [
    "model = xgb.XGBClassifier(tree_method=\"hist\")\n",
    "model.fit(X_train, y_train)"
   ]
  },
  {
   "cell_type": "code",
   "execution_count": null,
   "metadata": {
    "id": "ysrZHaGHLzDL"
   },
   "outputs": [],
   "source": [
    "with open(\"xgboost.pkl\", \"wb\") as file:\n",
    "    pickle.dump(model, file)"
   ]
  },
  {
   "cell_type": "markdown",
   "metadata": {
    "id": "Oa5ewiTVTdPa"
   },
   "source": [
    "### Evaluation"
   ]
  },
  {
   "cell_type": "code",
   "execution_count": null,
   "metadata": {
    "id": "fgRBSsot2I58"
   },
   "outputs": [],
   "source": [
    "with open(\"xgboost.pkl\", \"rb\") as file:\n",
    "    model = pickle.load(file)"
   ]
  },
  {
   "cell_type": "code",
   "execution_count": null,
   "metadata": {
    "id": "LvxPve2NOFHI"
   },
   "outputs": [],
   "source": [
    "y_pred = model.predict(processed_data[input_cols])\n",
    "y_pred_proba = model.predict_proba(processed_data[input_cols])"
   ]
  },
  {
   "cell_type": "code",
   "execution_count": null,
   "metadata": {
    "colab": {
     "base_uri": "https://localhost:8080/"
    },
    "id": "oNbcXnvBT73_",
    "outputId": "3b6e805b-9dc7-471c-b6dd-2d2e278cb6ba"
   },
   "outputs": [
    {
     "data": {
      "text/plain": [
       "((12354494,), (12354494, 2))"
      ]
     },
     "execution_count": 27,
     "metadata": {
      "tags": []
     },
     "output_type": "execute_result"
    }
   ],
   "source": [
    "y_pred.shape, y_pred_proba.shape"
   ]
  },
  {
   "cell_type": "code",
   "execution_count": null,
   "metadata": {
    "id": "JKDJgeuKx1PF"
   },
   "outputs": [],
   "source": [
    "class0 = pred_proba[:, 0]\n",
    "class1 = pred_proba[:, 1]\n",
    "final = pd.DataFrame.from_dict({\"Class 0\": class0, \"Class 1\": class1})"
   ]
  },
  {
   "cell_type": "code",
   "execution_count": null,
   "metadata": {
    "colab": {
     "base_uri": "https://localhost:8080/",
     "height": 297
    },
    "id": "V9BBapYQ4rEW",
    "outputId": "2021e776-25ba-4a3d-a2ca-29d83a2b9cd8"
   },
   "outputs": [
    {
     "data": {
      "text/html": [
       "<div>\n",
       "<style scoped>\n",
       "    .dataframe tbody tr th:only-of-type {\n",
       "        vertical-align: middle;\n",
       "    }\n",
       "\n",
       "    .dataframe tbody tr th {\n",
       "        vertical-align: top;\n",
       "    }\n",
       "\n",
       "    .dataframe thead th {\n",
       "        text-align: right;\n",
       "    }\n",
       "</style>\n",
       "<table border=\"1\" class=\"dataframe\">\n",
       "  <thead>\n",
       "    <tr style=\"text-align: right;\">\n",
       "      <th></th>\n",
       "      <th>Class 0</th>\n",
       "      <th>Class 1</th>\n",
       "    </tr>\n",
       "  </thead>\n",
       "  <tbody>\n",
       "    <tr>\n",
       "      <th>count</th>\n",
       "      <td>1.235449e+07</td>\n",
       "      <td>1.235449e+07</td>\n",
       "    </tr>\n",
       "    <tr>\n",
       "      <th>mean</th>\n",
       "      <td>9.999999e-01</td>\n",
       "      <td>5.912832e-05</td>\n",
       "    </tr>\n",
       "    <tr>\n",
       "      <th>std</th>\n",
       "      <td>6.168339e-05</td>\n",
       "      <td>1.836057e-05</td>\n",
       "    </tr>\n",
       "    <tr>\n",
       "      <th>min</th>\n",
       "      <td>9.996749e-01</td>\n",
       "      <td>3.126473e-05</td>\n",
       "    </tr>\n",
       "    <tr>\n",
       "      <th>25%</th>\n",
       "      <td>9.999241e-01</td>\n",
       "      <td>4.071251e-05</td>\n",
       "    </tr>\n",
       "    <tr>\n",
       "      <th>50%</th>\n",
       "      <td>9.999316e-01</td>\n",
       "      <td>6.843024e-05</td>\n",
       "    </tr>\n",
       "    <tr>\n",
       "      <th>75%</th>\n",
       "      <td>9.999593e-01</td>\n",
       "      <td>7.593719e-05</td>\n",
       "    </tr>\n",
       "    <tr>\n",
       "      <th>max</th>\n",
       "      <td>9.999687e-01</td>\n",
       "      <td>3.251192e-04</td>\n",
       "    </tr>\n",
       "  </tbody>\n",
       "</table>\n",
       "</div>"
      ],
      "text/plain": [
       "            Class 0       Class 1\n",
       "count  1.235449e+07  1.235449e+07\n",
       "mean   9.999999e-01  5.912832e-05\n",
       "std    6.168339e-05  1.836057e-05\n",
       "min    9.996749e-01  3.126473e-05\n",
       "25%    9.999241e-01  4.071251e-05\n",
       "50%    9.999316e-01  6.843024e-05\n",
       "75%    9.999593e-01  7.593719e-05\n",
       "max    9.999687e-01  3.251192e-04"
      ]
     },
     "execution_count": 29,
     "metadata": {
      "tags": []
     },
     "output_type": "execute_result"
    }
   ],
   "source": [
    "final.describe()"
   ]
  },
  {
   "cell_type": "code",
   "execution_count": null,
   "metadata": {
    "colab": {
     "base_uri": "https://localhost:8080/"
    },
    "id": "XvRJYIRqp1IY",
    "outputId": "dda4bb0f-e599-4ae7-e919-92f4628139af"
   },
   "outputs": [
    {
     "data": {
      "text/plain": [
       "0.5"
      ]
     },
     "execution_count": 30,
     "metadata": {
      "tags": []
     },
     "output_type": "execute_result"
    }
   ],
   "source": [
    "roc_auc_score(processed_data[\"incident\"], y_pred)"
   ]
  },
  {
   "cell_type": "code",
   "execution_count": null,
   "metadata": {
    "colab": {
     "base_uri": "https://localhost:8080/"
    },
    "id": "FxYId6sbGavs",
    "outputId": "921dd1c3-148a-44ce-810e-41f0e9a85a62"
   },
   "outputs": [
    {
     "data": {
      "text/plain": [
       "0.675003964838659"
      ]
     },
     "execution_count": 31,
     "metadata": {
      "tags": []
     },
     "output_type": "execute_result"
    }
   ],
   "source": [
    "roc_auc_score(processed_data[\"incident\"], class1)"
   ]
  },
  {
   "cell_type": "code",
   "execution_count": null,
   "metadata": {
    "id": "wSnUJXZ543aq"
   },
   "outputs": [],
   "source": []
  },
  {
   "cell_type": "markdown",
   "metadata": {
    "id": "LihFkNoxtzF3"
   },
   "source": [
    "## Imbalanced XGBoost\n"
   ]
  },
  {
   "cell_type": "code",
   "execution_count": null,
   "metadata": {
    "id": "B1ox6Ffdrjrl"
   },
   "outputs": [],
   "source": [
    "# !pip install -q imbalance-xgboost"
   ]
  },
  {
   "cell_type": "code",
   "execution_count": null,
   "metadata": {
    "id": "b7OmYz12t3ZC"
   },
   "outputs": [],
   "source": [
    "from imxgboost.imbalance_xgb import imbalance_xgboost as imb_xgb"
   ]
  },
  {
   "cell_type": "code",
   "execution_count": null,
   "metadata": {
    "id": "xfZv5B4Ut34d"
   },
   "outputs": [],
   "source": [
    "y_train = processed_data[target_columns].values\n",
    "X_train = processed_data.drop(columns=target_columns).values"
   ]
  },
  {
   "cell_type": "code",
   "execution_count": null,
   "metadata": {
    "id": "FP7Km3-lukf1"
   },
   "outputs": [],
   "source": [
    "model = imb_xgb(special_objective=\"focal\", focal_gamma=2.)"
   ]
  },
  {
   "cell_type": "code",
   "execution_count": null,
   "metadata": {
    "id": "pep3EuHht38w"
   },
   "outputs": [],
   "source": [
    "model.fit(X_train, y_train)"
   ]
  },
  {
   "cell_type": "code",
   "execution_count": null,
   "metadata": {
    "id": "kiTOz9gixEkP"
   },
   "outputs": [],
   "source": [
    "y_pred = model.predict_determine(processed_data[input_cols]) \n",
    "y_pred_proba = model.predict(processed_data[input_cols])"
   ]
  },
  {
   "cell_type": "code",
   "execution_count": null,
   "metadata": {
    "id": "9ywtx72rxiWb"
   },
   "outputs": [],
   "source": [
    "pd.Series(y_pred_proba).describe()"
   ]
  },
  {
   "cell_type": "code",
   "execution_count": null,
   "metadata": {
    "id": "4mOJPC-TurLk"
   },
   "outputs": [],
   "source": [
    "roc_auc_score(processed_data[\"incident\"], y_pred)"
   ]
  },
  {
   "cell_type": "code",
   "execution_count": null,
   "metadata": {
    "id": "XVXnbwEVMxp2"
   },
   "outputs": [],
   "source": [
    "roc_auc_score(processed_data[\"incident\"], y_pred_proba)"
   ]
  },
  {
   "cell_type": "code",
   "execution_count": null,
   "metadata": {
    "id": "nR0XeafRMzfK"
   },
   "outputs": [],
   "source": []
  },
  {
   "cell_type": "markdown",
   "metadata": {
    "id": "zLPwuiol0RBJ"
   },
   "source": [
    "## HistGradientBoosting"
   ]
  },
  {
   "cell_type": "code",
   "execution_count": null,
   "metadata": {
    "id": "nGW22ZOjzHZA"
   },
   "outputs": [],
   "source": [
    "from sklearn.experimental import enable_hist_gradient_boosting\n",
    "from sklearn.ensemble import HistGradientBoostingClassifier"
   ]
  },
  {
   "cell_type": "code",
   "execution_count": null,
   "metadata": {
    "id": "tEAkc0NC5r_m"
   },
   "outputs": [],
   "source": [
    "y_train = processed_data[target_columns].values\n",
    "X_train = processed_data.drop(columns=target_columns).values"
   ]
  },
  {
   "cell_type": "code",
   "execution_count": null,
   "metadata": {
    "id": "8fKVjGM-0Tlz"
   },
   "outputs": [],
   "source": [
    "model = HistGradientBoostingClassifier()"
   ]
  },
  {
   "cell_type": "code",
   "execution_count": null,
   "metadata": {
    "colab": {
     "base_uri": "https://localhost:8080/"
    },
    "id": "fcgUWgaO3_rN",
    "outputId": "476a9a1e-7a90-41f0-8d3b-825e7f1d88d7"
   },
   "outputs": [
    {
     "name": "stderr",
     "output_type": "stream",
     "text": [
      "/usr/local/lib/python3.7/dist-packages/sklearn/utils/validation.py:760: DataConversionWarning: A column-vector y was passed when a 1d array was expected. Please change the shape of y to (n_samples, ), for example using ravel().\n",
      "  y = column_or_1d(y, warn=True)\n"
     ]
    },
    {
     "data": {
      "text/plain": [
       "HistGradientBoostingClassifier(l2_regularization=0.0, learning_rate=0.1,\n",
       "                               loss='auto', max_bins=255, max_depth=None,\n",
       "                               max_iter=100, max_leaf_nodes=31,\n",
       "                               min_samples_leaf=20, n_iter_no_change=None,\n",
       "                               random_state=None, scoring=None, tol=1e-07,\n",
       "                               validation_fraction=0.1, verbose=0,\n",
       "                               warm_start=False)"
      ]
     },
     "execution_count": 39,
     "metadata": {
      "tags": []
     },
     "output_type": "execute_result"
    }
   ],
   "source": [
    "model.fit(X_train, y_train)"
   ]
  },
  {
   "cell_type": "code",
   "execution_count": null,
   "metadata": {
    "id": "ghSTCQZVNAxn"
   },
   "outputs": [],
   "source": [
    "y_pred = model.predict(processed_data[input_cols])\n",
    "y_pred_proba = model.predict_proba(processed_data[input_cols])"
   ]
  },
  {
   "cell_type": "code",
   "execution_count": null,
   "metadata": {
    "colab": {
     "base_uri": "https://localhost:8080/"
    },
    "id": "-p8uYQ5KNAxo",
    "outputId": "3b6e805b-9dc7-471c-b6dd-2d2e278cb6ba"
   },
   "outputs": [
    {
     "data": {
      "text/plain": [
       "((12354494,), (12354494, 2))"
      ]
     },
     "execution_count": 27,
     "metadata": {
      "tags": []
     },
     "output_type": "execute_result"
    }
   ],
   "source": [
    "y_pred.shape, y_pred_proba.shape"
   ]
  },
  {
   "cell_type": "code",
   "execution_count": null,
   "metadata": {
    "id": "GlXeuoy1NAxq"
   },
   "outputs": [],
   "source": [
    "class0 = pred_proba[:, 0]\n",
    "class1 = pred_proba[:, 1]\n",
    "final = pd.DataFrame.from_dict({\"Class 0\": class0, \"Class 1\": class1})"
   ]
  },
  {
   "cell_type": "code",
   "execution_count": null,
   "metadata": {
    "colab": {
     "base_uri": "https://localhost:8080/",
     "height": 297
    },
    "id": "9JswBP7pNAxu",
    "outputId": "2021e776-25ba-4a3d-a2ca-29d83a2b9cd8"
   },
   "outputs": [
    {
     "data": {
      "text/html": [
       "<div>\n",
       "<style scoped>\n",
       "    .dataframe tbody tr th:only-of-type {\n",
       "        vertical-align: middle;\n",
       "    }\n",
       "\n",
       "    .dataframe tbody tr th {\n",
       "        vertical-align: top;\n",
       "    }\n",
       "\n",
       "    .dataframe thead th {\n",
       "        text-align: right;\n",
       "    }\n",
       "</style>\n",
       "<table border=\"1\" class=\"dataframe\">\n",
       "  <thead>\n",
       "    <tr style=\"text-align: right;\">\n",
       "      <th></th>\n",
       "      <th>Class 0</th>\n",
       "      <th>Class 1</th>\n",
       "    </tr>\n",
       "  </thead>\n",
       "  <tbody>\n",
       "    <tr>\n",
       "      <th>count</th>\n",
       "      <td>1.235449e+07</td>\n",
       "      <td>1.235449e+07</td>\n",
       "    </tr>\n",
       "    <tr>\n",
       "      <th>mean</th>\n",
       "      <td>9.999999e-01</td>\n",
       "      <td>5.912832e-05</td>\n",
       "    </tr>\n",
       "    <tr>\n",
       "      <th>std</th>\n",
       "      <td>6.168339e-05</td>\n",
       "      <td>1.836057e-05</td>\n",
       "    </tr>\n",
       "    <tr>\n",
       "      <th>min</th>\n",
       "      <td>9.996749e-01</td>\n",
       "      <td>3.126473e-05</td>\n",
       "    </tr>\n",
       "    <tr>\n",
       "      <th>25%</th>\n",
       "      <td>9.999241e-01</td>\n",
       "      <td>4.071251e-05</td>\n",
       "    </tr>\n",
       "    <tr>\n",
       "      <th>50%</th>\n",
       "      <td>9.999316e-01</td>\n",
       "      <td>6.843024e-05</td>\n",
       "    </tr>\n",
       "    <tr>\n",
       "      <th>75%</th>\n",
       "      <td>9.999593e-01</td>\n",
       "      <td>7.593719e-05</td>\n",
       "    </tr>\n",
       "    <tr>\n",
       "      <th>max</th>\n",
       "      <td>9.999687e-01</td>\n",
       "      <td>3.251192e-04</td>\n",
       "    </tr>\n",
       "  </tbody>\n",
       "</table>\n",
       "</div>"
      ],
      "text/plain": [
       "            Class 0       Class 1\n",
       "count  1.235449e+07  1.235449e+07\n",
       "mean   9.999999e-01  5.912832e-05\n",
       "std    6.168339e-05  1.836057e-05\n",
       "min    9.996749e-01  3.126473e-05\n",
       "25%    9.999241e-01  4.071251e-05\n",
       "50%    9.999316e-01  6.843024e-05\n",
       "75%    9.999593e-01  7.593719e-05\n",
       "max    9.999687e-01  3.251192e-04"
      ]
     },
     "execution_count": 29,
     "metadata": {
      "tags": []
     },
     "output_type": "execute_result"
    }
   ],
   "source": [
    "final.describe()"
   ]
  },
  {
   "cell_type": "code",
   "execution_count": null,
   "metadata": {
    "colab": {
     "base_uri": "https://localhost:8080/"
    },
    "id": "uowB8F8mNAxv",
    "outputId": "dda4bb0f-e599-4ae7-e919-92f4628139af"
   },
   "outputs": [
    {
     "data": {
      "text/plain": [
       "0.5"
      ]
     },
     "execution_count": 30,
     "metadata": {
      "tags": []
     },
     "output_type": "execute_result"
    }
   ],
   "source": [
    "roc_auc_score(processed_data[\"incident\"], y_pred)"
   ]
  },
  {
   "cell_type": "code",
   "execution_count": null,
   "metadata": {
    "colab": {
     "base_uri": "https://localhost:8080/"
    },
    "id": "TMSsBbxjNAxv",
    "outputId": "921dd1c3-148a-44ce-810e-41f0e9a85a62"
   },
   "outputs": [
    {
     "data": {
      "text/plain": [
       "0.675003964838659"
      ]
     },
     "execution_count": 31,
     "metadata": {
      "tags": []
     },
     "output_type": "execute_result"
    }
   ],
   "source": [
    "roc_auc_score(processed_data[\"incident\"], class1)"
   ]
  },
  {
   "cell_type": "code",
   "execution_count": null,
   "metadata": {
    "id": "SWfhYWviNAbL"
   },
   "outputs": [],
   "source": []
  },
  {
   "cell_type": "markdown",
   "metadata": {
    "id": "YaouFirI0OwS"
   },
   "source": [
    "## LightGBM"
   ]
  },
  {
   "cell_type": "code",
   "execution_count": null,
   "metadata": {
    "id": "pl84NBaCvLo7"
   },
   "outputs": [],
   "source": []
  },
  {
   "cell_type": "code",
   "execution_count": null,
   "metadata": {
    "id": "rZYgYFS5zHT9"
   },
   "outputs": [],
   "source": []
  },
  {
   "cell_type": "markdown",
   "metadata": {
    "id": "Zt6wnz-00UX1"
   },
   "source": [
    "## Tensorflow Decision Forests (Gradient Boosting)"
   ]
  },
  {
   "cell_type": "code",
   "execution_count": null,
   "metadata": {
    "id": "GLELQrff0Tr0"
   },
   "outputs": [],
   "source": [
    "import tensorflow_decision_forests as tfdf"
   ]
  },
  {
   "cell_type": "code",
   "execution_count": null,
   "metadata": {
    "id": "7iRDg3oC9w9G"
   },
   "outputs": [],
   "source": [
    "processed_data[\"holiday\"] = processed_data[\"holiday\"].replace({False: 0, True: 1})"
   ]
  },
  {
   "cell_type": "code",
   "execution_count": null,
   "metadata": {
    "id": "89e_Fky881f1"
   },
   "outputs": [],
   "source": [
    "dataset = tfdf.keras.pd_dataframe_to_tf_dataset(processed_data[input_cols+target_columns], \n",
    "                                                label=\"incident\")"
   ]
  },
  {
   "cell_type": "code",
   "execution_count": null,
   "metadata": {
    "id": "-0UWkQyv8cTa"
   },
   "outputs": [],
   "source": [
    "model = tfdf.keras.GradientBoostedTreesModel()\n",
    "model.fit(dataset)"
   ]
  },
  {
   "cell_type": "code",
   "execution_count": null,
   "metadata": {
    "id": "anquj7dn8cZt"
   },
   "outputs": [],
   "source": [
    "y_pred = model.predict(processed_data[input_cols])"
   ]
  },
  {
   "cell_type": "code",
   "execution_count": null,
   "metadata": {
    "id": "kx3mi6JL8w4l"
   },
   "outputs": [],
   "source": []
  }
 ],
 "metadata": {
  "colab": {
   "collapsed_sections": [],
   "name": "unearthed-challenge-feel-the-rhythm.ipynb",
   "provenance": [],
   "toc_visible": true
  },
  "kernelspec": {
   "display_name": "Python 3",
   "language": "python",
   "name": "python3"
  },
  "language_info": {
   "codemirror_mode": {
    "name": "ipython",
    "version": 3
   },
   "file_extension": ".py",
   "mimetype": "text/x-python",
   "name": "python",
   "nbconvert_exporter": "python",
   "pygments_lexer": "ipython3",
   "version": "3.7.11"
  }
 },
 "nbformat": 4,
 "nbformat_minor": 1
}
