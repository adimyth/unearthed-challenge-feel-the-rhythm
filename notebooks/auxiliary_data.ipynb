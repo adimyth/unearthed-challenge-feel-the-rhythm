{
 "cells": [
  {
   "cell_type": "code",
   "execution_count": 1,
   "id": "24678989-5557-4432-b282-21911f2c40a3",
   "metadata": {},
   "outputs": [],
   "source": [
    "import warnings\n",
    "warnings.filterwarnings(\"ignore\")"
   ]
  },
  {
   "cell_type": "code",
   "execution_count": 2,
   "id": "56f2fe8e-470c-4858-95b5-f0c529e2e291",
   "metadata": {},
   "outputs": [],
   "source": [
    "from datetime import datetime, timedelta\n",
    "import sys"
   ]
  },
  {
   "cell_type": "code",
   "execution_count": 3,
   "id": "507a84f4-ecf2-49dc-9438-8aa4b5484ed6",
   "metadata": {},
   "outputs": [],
   "source": [
    "import pandas as pd\n",
    "import numpy as np\n",
    "import matplotlib.pyplot as plt\n",
    "import seaborn as sns"
   ]
  },
  {
   "cell_type": "code",
   "execution_count": 4,
   "id": "748de857-9f15-472d-9b3f-3854ca5d3715",
   "metadata": {},
   "outputs": [],
   "source": [
    "pd.set_option(\"display.max_rows\", 100)"
   ]
  },
  {
   "cell_type": "code",
   "execution_count": 5,
   "id": "6421720c-1039-4e25-a304-8350a5a355ca",
   "metadata": {},
   "outputs": [],
   "source": [
    "aux = pd.read_csv(\"../data/public/auxillary_incidents.csv\", index_col=0)"
   ]
  },
  {
   "cell_type": "code",
   "execution_count": 6,
   "id": "83f3da27-c2f4-436e-b754-42d7badccb8b",
   "metadata": {},
   "outputs": [],
   "source": [
    "aux = aux.drop_duplicates()"
   ]
  },
  {
   "cell_type": "code",
   "execution_count": 7,
   "id": "c705890d-ca64-4363-ab90-4c9661eb24c6",
   "metadata": {},
   "outputs": [
    {
     "data": {
      "text/plain": [
       "(2862, 17)"
      ]
     },
     "execution_count": 7,
     "metadata": {},
     "output_type": "execute_result"
    }
   ],
   "source": [
    "aux.shape"
   ]
  },
  {
   "cell_type": "code",
   "execution_count": 8,
   "id": "4943bcfa-8eb7-4c74-8d2b-680b1a2fe5f7",
   "metadata": {},
   "outputs": [
    {
     "data": {
      "text/html": [
       "<div>\n",
       "<style scoped>\n",
       "    .dataframe tbody tr th:only-of-type {\n",
       "        vertical-align: middle;\n",
       "    }\n",
       "\n",
       "    .dataframe tbody tr th {\n",
       "        vertical-align: top;\n",
       "    }\n",
       "\n",
       "    .dataframe thead th {\n",
       "        text-align: right;\n",
       "    }\n",
       "</style>\n",
       "<table border=\"1\" class=\"dataframe\">\n",
       "  <thead>\n",
       "    <tr style=\"text-align: right;\">\n",
       "      <th></th>\n",
       "      <th>Incident_Number</th>\n",
       "      <th>Consequences</th>\n",
       "      <th>Suburb/Locality</th>\n",
       "      <th>Risk_Score</th>\n",
       "      <th>Employee_Type</th>\n",
       "      <th>OBS_Contractor_Company</th>\n",
       "      <th>OBS_Person</th>\n",
       "      <th>OBS_Injury_Classification</th>\n",
       "      <th>Sign_Off_Date</th>\n",
       "      <th>Close_this_Record?</th>\n",
       "      <th>Incident_DateTime</th>\n",
       "      <th>All_Consequences_of_the_Incident</th>\n",
       "      <th>Status</th>\n",
       "      <th>Bodily_Location</th>\n",
       "      <th>Nature</th>\n",
       "      <th>Mechanism</th>\n",
       "      <th>Agency</th>\n",
       "    </tr>\n",
       "  </thead>\n",
       "  <tbody>\n",
       "    <tr>\n",
       "      <th>0</th>\n",
       "      <td>INC1011015</td>\n",
       "      <td>Injury or Illness</td>\n",
       "      <td>NaN</td>\n",
       "      <td>Low</td>\n",
       "      <td>Employee</td>\n",
       "      <td>NaN</td>\n",
       "      <td>38321907.0</td>\n",
       "      <td>Classification 5</td>\n",
       "      <td>07/05/2014</td>\n",
       "      <td>Yes</td>\n",
       "      <td>2014-04-29 10:45:00</td>\n",
       "      <td>Injury or Illness</td>\n",
       "      <td>Closed</td>\n",
       "      <td>Hands</td>\n",
       "      <td>Cut / laceration</td>\n",
       "      <td>Hitting objects with a part of the body</td>\n",
       "      <td>Non-powered hand tools</td>\n",
       "    </tr>\n",
       "    <tr>\n",
       "      <th>1</th>\n",
       "      <td>INC1021483</td>\n",
       "      <td>Injury or Illness</td>\n",
       "      <td>NaN</td>\n",
       "      <td>Low</td>\n",
       "      <td>Employee</td>\n",
       "      <td>NaN</td>\n",
       "      <td>38321907.0</td>\n",
       "      <td>Classification 6</td>\n",
       "      <td>04/05/2016</td>\n",
       "      <td>Yes</td>\n",
       "      <td>2016-04-06 13:00:00</td>\n",
       "      <td>Injury or Illness</td>\n",
       "      <td>Closed</td>\n",
       "      <td>Lower back</td>\n",
       "      <td>Disorders of muscle, tendons and other soft ti...</td>\n",
       "      <td>Unspecified mechanism or injury</td>\n",
       "      <td>Other agencies</td>\n",
       "    </tr>\n",
       "    <tr>\n",
       "      <th>8</th>\n",
       "      <td>INC1001715</td>\n",
       "      <td>Injury or Illness</td>\n",
       "      <td>NaN</td>\n",
       "      <td>&lt;Undefined&gt;</td>\n",
       "      <td>Employee</td>\n",
       "      <td>NaN</td>\n",
       "      <td>38322557.0</td>\n",
       "      <td>Classification 4</td>\n",
       "      <td>03/02/2010</td>\n",
       "      <td>Yes</td>\n",
       "      <td>2010-02-01 07:00:00</td>\n",
       "      <td>Injury or Illness</td>\n",
       "      <td>Closed</td>\n",
       "      <td>Ankle</td>\n",
       "      <td>Bruising, Puncture wound, Swelling</td>\n",
       "      <td>Unspecified mechanism or injury</td>\n",
       "      <td>Outdoor environment</td>\n",
       "    </tr>\n",
       "    <tr>\n",
       "      <th>9</th>\n",
       "      <td>INC1002504</td>\n",
       "      <td>Injury or Illness</td>\n",
       "      <td>NaN</td>\n",
       "      <td>&lt;Undefined&gt;</td>\n",
       "      <td>Employee</td>\n",
       "      <td>NaN</td>\n",
       "      <td>38322557.0</td>\n",
       "      <td>Classification 3</td>\n",
       "      <td>20/08/2010</td>\n",
       "      <td>Yes</td>\n",
       "      <td>2010-08-09 08:45:00</td>\n",
       "      <td>Injury or Illness</td>\n",
       "      <td>Closed</td>\n",
       "      <td>Upper arm</td>\n",
       "      <td>Internal injury of chest, abdomen and pelvis, ...</td>\n",
       "      <td>Being hit by moving objects</td>\n",
       "      <td>Outdoor environment</td>\n",
       "    </tr>\n",
       "    <tr>\n",
       "      <th>10</th>\n",
       "      <td>INC1002506</td>\n",
       "      <td>Injury or Illness</td>\n",
       "      <td>NaN</td>\n",
       "      <td>&lt;Undefined&gt;</td>\n",
       "      <td>Employee</td>\n",
       "      <td>NaN</td>\n",
       "      <td>38322557.0</td>\n",
       "      <td>Classification 2</td>\n",
       "      <td>20/08/2010</td>\n",
       "      <td>Yes</td>\n",
       "      <td>2010-08-11 12:20:00</td>\n",
       "      <td>Injury or Illness</td>\n",
       "      <td>Closed</td>\n",
       "      <td>Upper leg</td>\n",
       "      <td>Animal / insect bite / sting</td>\n",
       "      <td>Other contact with chemical or substance - inc...</td>\n",
       "      <td>Live animals</td>\n",
       "    </tr>\n",
       "  </tbody>\n",
       "</table>\n",
       "</div>"
      ],
      "text/plain": [
       "   Incident_Number       Consequences Suburb/Locality   Risk_Score  \\\n",
       "0       INC1011015  Injury or Illness             NaN          Low   \n",
       "1       INC1021483  Injury or Illness             NaN          Low   \n",
       "8       INC1001715  Injury or Illness             NaN  <Undefined>   \n",
       "9       INC1002504  Injury or Illness             NaN  <Undefined>   \n",
       "10      INC1002506  Injury or Illness             NaN  <Undefined>   \n",
       "\n",
       "   Employee_Type OBS_Contractor_Company  OBS_Person OBS_Injury_Classification  \\\n",
       "0       Employee                    NaN  38321907.0          Classification 5   \n",
       "1       Employee                    NaN  38321907.0          Classification 6   \n",
       "8       Employee                    NaN  38322557.0          Classification 4   \n",
       "9       Employee                    NaN  38322557.0          Classification 3   \n",
       "10      Employee                    NaN  38322557.0          Classification 2   \n",
       "\n",
       "   Sign_Off_Date Close_this_Record?    Incident_DateTime  \\\n",
       "0     07/05/2014                Yes  2014-04-29 10:45:00   \n",
       "1     04/05/2016                Yes  2016-04-06 13:00:00   \n",
       "8     03/02/2010                Yes  2010-02-01 07:00:00   \n",
       "9     20/08/2010                Yes  2010-08-09 08:45:00   \n",
       "10    20/08/2010                Yes  2010-08-11 12:20:00   \n",
       "\n",
       "   All_Consequences_of_the_Incident  Status Bodily_Location  \\\n",
       "0                 Injury or Illness  Closed           Hands   \n",
       "1                 Injury or Illness  Closed      Lower back   \n",
       "8                 Injury or Illness  Closed           Ankle   \n",
       "9                 Injury or Illness  Closed       Upper arm   \n",
       "10                Injury or Illness  Closed       Upper leg   \n",
       "\n",
       "                                               Nature  \\\n",
       "0                                    Cut / laceration   \n",
       "1   Disorders of muscle, tendons and other soft ti...   \n",
       "8                  Bruising, Puncture wound, Swelling   \n",
       "9   Internal injury of chest, abdomen and pelvis, ...   \n",
       "10                       Animal / insect bite / sting   \n",
       "\n",
       "                                            Mechanism                  Agency  \n",
       "0             Hitting objects with a part of the body  Non-powered hand tools  \n",
       "1                     Unspecified mechanism or injury          Other agencies  \n",
       "8                     Unspecified mechanism or injury     Outdoor environment  \n",
       "9                         Being hit by moving objects     Outdoor environment  \n",
       "10  Other contact with chemical or substance - inc...            Live animals  "
      ]
     },
     "execution_count": 8,
     "metadata": {},
     "output_type": "execute_result"
    }
   ],
   "source": [
    "aux.head()"
   ]
  },
  {
   "cell_type": "code",
   "execution_count": 9,
   "id": "382086bc-154a-49ae-bb1b-4a3c32bd579d",
   "metadata": {},
   "outputs": [
    {
     "data": {
      "text/plain": [
       "OBS_Contractor_Company              2709\n",
       "Suburb/Locality                     2645\n",
       "OBS_Person                          1272\n",
       "OBS_Injury_Classification            105\n",
       "Employee_Type                        104\n",
       "Agency                               103\n",
       "Nature                               103\n",
       "Bodily_Location                      103\n",
       "Mechanism                            103\n",
       "Sign_Off_Date                         16\n",
       "Close_this_Record?                     0\n",
       "Incident_DateTime                      0\n",
       "All_Consequences_of_the_Incident       0\n",
       "Risk_Score                             0\n",
       "Status                                 0\n",
       "Consequences                           0\n",
       "Incident_Number                        0\n",
       "dtype: int64"
      ]
     },
     "execution_count": 9,
     "metadata": {},
     "output_type": "execute_result"
    }
   ],
   "source": [
    "aux.isna().sum().sort_values(ascending=False)"
   ]
  },
  {
   "cell_type": "code",
   "execution_count": 10,
   "id": "a23b916a-9f1c-4845-8f5d-c70d38eb06d7",
   "metadata": {},
   "outputs": [
    {
     "name": "stdout",
     "output_type": "stream",
     "text": [
      "==================================================\n",
      "Incident_Number\n",
      "==================================================\n",
      "INC1041729    8\n",
      "INC1021550    6\n",
      "INC1004124    6\n",
      "INC1033637    4\n",
      "INC1000201    4\n",
      "             ..\n",
      "INC1000853    1\n",
      "INC1023102    1\n",
      "INC1013654    1\n",
      "INC1000586    1\n",
      "INC1026582    1\n",
      "Name: Incident_Number, Length: 2802, dtype: int64\n",
      "\n",
      "==================================================\n",
      "Consequences\n",
      "==================================================\n",
      "Injury or Illness                                                                                             2674\n",
      "Motor Vehicle Incident, Injury or Illness                                                                       87\n",
      "Injury or Illness, Near Miss                                                                                    47\n",
      "Network Asset Failure - Western Power, Injury or Illness                                                        12\n",
      "Injury or Illness, Public Electric Shock                                                                        11\n",
      "<Undefined>, Injury or Illness                                                                                   6\n",
      "Unplanned Outage, Injury or Illness                                                                              5\n",
      "Environmental, Injury or Illness, Near Miss                                                                      4\n",
      "Environmental, Injury or Illness                                                                                 4\n",
      "Network Asset Failure - Western Power, Injury or Illness, Land Access                                            2\n",
      "Injury or Illness, Non-Network Asset Damage                                                                      2\n",
      "Motor Vehicle Incident, Injury or Illness, Land Access                                                           1\n",
      "Environmental, Motor Vehicle Incident, Injury or Illness                                                         1\n",
      "Injury or Illness, Public Electric Shock, Near Miss                                                              1\n",
      "Injury or Illness, Fire                                                                                          1\n",
      "Live Working (No longer used), Injury or Illness                                                                 1\n",
      "Injury or Illness, Land Access                                                                                   1\n",
      "Network Asset Failure - Western Power, Injury or Illness, Near Miss                                              1\n",
      "Network Asset Failure - Western Power, Motor Vehicle Incident, Injury or Illness, Non-Network Asset Damage       1\n",
      "Name: Consequences, dtype: int64\n",
      "\n",
      "==================================================\n",
      "Suburb/Locality\n",
      "==================================================\n",
      "PERTH             26\n",
      "VICTORIA PARK     24\n",
      "JANDAKOT           8\n",
      "KEWDALE            5\n",
      "FORRESTFIELD       4\n",
      "                  ..\n",
      "KARRAGULLEN        1\n",
      "MOUNT PLEASANT     1\n",
      "BRENTWOOD          1\n",
      "THORNLIE           1\n",
      "WELSHPOOL          1\n",
      "Name: Suburb/Locality, Length: 116, dtype: int64\n",
      "\n",
      "==================================================\n",
      "Risk_Score\n",
      "==================================================\n",
      "Low            1457\n",
      "<Undefined>     829\n",
      "Medium          514\n",
      "High             61\n",
      "Extreme           1\n",
      "Name: Risk_Score, dtype: int64\n",
      "\n",
      "==================================================\n",
      "Employee_Type\n",
      "==================================================\n",
      "Employee               1706\n",
      "Contractor             1036\n",
      "External Contractor      16\n",
      "Name: Employee_Type, dtype: int64\n",
      "\n",
      "==================================================\n",
      "OBS_Contractor_Company\n",
      "==================================================\n",
      "Contracator 38          36\n",
      "Contracator 11          27\n",
      "Contracator 27          12\n",
      "Contracator 18           5\n",
      "Contracator 5            5\n",
      "Contracator 37           4\n",
      "Contracator 28           3\n",
      "Contracator 17           3\n",
      "Contracator 46           3\n",
      "Contracator 47           3\n",
      "Contracator 14           2\n",
      "Contracator 20           2\n",
      "Contracator 32           2\n",
      "Contracator 40           2\n",
      "Contracator 33           2\n",
      "Contracator 16           2\n",
      "Contracator 44           2\n",
      "Contracator 29           2\n",
      "Contracator 35           2\n",
      "Contracator 19           2\n",
      "Contracator 9            2\n",
      "Contracator 12           2\n",
      "Contracator 22           2\n",
      "Contracator 1            2\n",
      "Contracator 36           2\n",
      "Contracator 7            1\n",
      "Contracator 43           1\n",
      "Undefined Contractor     1\n",
      "Contracator 25           1\n",
      "Contracator 15           1\n",
      "Contracator 30           1\n",
      "Contracator 24           1\n",
      "Contracator 13           1\n",
      "Contracator 39           1\n",
      "Contracator 8            1\n",
      "Contracator 4            1\n",
      "Contracator 21           1\n",
      "Contracator 42           1\n",
      "Contracator 45           1\n",
      "Contracator 26           1\n",
      "Contracator 34           1\n",
      "Contracator 23           1\n",
      "Contracator 3            1\n",
      "Contracator 41           1\n",
      "Contracator 6            1\n",
      "Contracator 2            1\n",
      "Contracator 31           1\n",
      "Name: OBS_Contractor_Company, dtype: int64\n",
      "\n",
      "==================================================\n",
      "OBS_Person\n",
      "==================================================\n",
      "41010007.0    13\n",
      "38902832.0    13\n",
      "38901032.0    11\n",
      "40979432.0     8\n",
      "38951432.0     7\n",
      "              ..\n",
      "38442932.0     1\n",
      "41063832.0     1\n",
      "38442107.0     1\n",
      "41225307.0     1\n",
      "40894557.0     1\n",
      "Name: OBS_Person, Length: 1025, dtype: int64\n",
      "\n",
      "==================================================\n",
      "OBS_Injury_Classification\n",
      "==================================================\n",
      "Classification 2            784\n",
      "Classification 5            594\n",
      "Classification 6            413\n",
      "Classification 7            406\n",
      "Classification 4            316\n",
      "Classification 8            139\n",
      "Classification 3             94\n",
      "Undefined Classification      9\n",
      "Classification 1              2\n",
      "Name: OBS_Injury_Classification, dtype: int64\n",
      "\n",
      "==================================================\n",
      "Sign_Off_Date\n",
      "==================================================\n",
      "13/05/2011    15\n",
      "16/05/2011    13\n",
      "31/12/2012    13\n",
      "04/10/2011    13\n",
      "25/02/2013    12\n",
      "              ..\n",
      "06/11/2015     1\n",
      "13/10/2011     1\n",
      "05/06/2019     1\n",
      "11/01/2019     1\n",
      "29/07/2009     1\n",
      "Name: Sign_Off_Date, Length: 1538, dtype: int64\n",
      "\n",
      "==================================================\n",
      "Close_this_Record?\n",
      "==================================================\n",
      "Yes    2851\n",
      "No       11\n",
      "Name: Close_this_Record?, dtype: int64\n",
      "\n",
      "==================================================\n",
      "Incident_DateTime\n",
      "==================================================\n",
      "2019-11-22 09:47:00    8\n",
      "2011-02-18 07:00:00    6\n",
      "2016-04-12 11:40:00    6\n",
      "2012-02-15 10:00:00    5\n",
      "2012-05-01 10:00:00    4\n",
      "                      ..\n",
      "2012-12-07 09:30:00    1\n",
      "2021-02-24 08:30:00    1\n",
      "2014-11-05 09:10:00    1\n",
      "2013-02-14 09:00:00    1\n",
      "2014-10-30 10:00:00    1\n",
      "Name: Incident_DateTime, Length: 2776, dtype: int64\n",
      "\n",
      "==================================================\n",
      "All_Consequences_of_the_Incident\n",
      "==================================================\n",
      "Injury or Illness                                                                                             2674\n",
      "Motor Vehicle Incident, Injury or Illness                                                                       87\n",
      "Injury or Illness, Near Miss                                                                                    47\n",
      "Network Asset Failure - Western Power, Injury or Illness                                                        12\n",
      "Injury or Illness, Public Electric Shock                                                                        11\n",
      "<Undefined>, Injury or Illness                                                                                   6\n",
      "Unplanned Outage, Injury or Illness                                                                              5\n",
      "Environmental, Injury or Illness, Near Miss                                                                      4\n",
      "Environmental, Injury or Illness                                                                                 4\n",
      "Network Asset Failure - Western Power, Injury or Illness, Land Access                                            2\n",
      "Injury or Illness, Non-Network Asset Damage                                                                      2\n",
      "Motor Vehicle Incident, Injury or Illness, Land Access                                                           1\n",
      "Environmental, Motor Vehicle Incident, Injury or Illness                                                         1\n",
      "Injury or Illness, Public Electric Shock, Near Miss                                                              1\n",
      "Injury or Illness, Fire                                                                                          1\n",
      "Live Working (No longer used), Injury or Illness                                                                 1\n",
      "Injury or Illness, Land Access                                                                                   1\n",
      "Network Asset Failure - Western Power, Injury or Illness, Near Miss                                              1\n",
      "Network Asset Failure - Western Power, Motor Vehicle Incident, Injury or Illness, Non-Network Asset Damage       1\n",
      "Name: All_Consequences_of_the_Incident, dtype: int64\n",
      "\n",
      "==================================================\n",
      "Status\n",
      "==================================================\n",
      "Closed    2862\n",
      "Name: Status, dtype: int64\n",
      "\n",
      "==================================================\n",
      "Bodily_Location\n",
      "==================================================\n",
      "Hands                               451\n",
      "<Undefined>                         178\n",
      "Ankle                               159\n",
      "Knees                               144\n",
      "Back                                142\n",
      "                                   ... \n",
      "Neck, Ankle, Hips                     1\n",
      "Upper arm, Abdomen                    1\n",
      "Chest, Abdomen, Knees, Lower leg      1\n",
      "Ankle, Elbow                          1\n",
      "Legs, Lower back                      1\n",
      "Name: Bodily_Location, Length: 184, dtype: int64\n",
      "\n",
      "==================================================\n",
      "Nature\n",
      "==================================================\n",
      "Sprains and strains of joints and adjacent muscles - including acute trauma sprains and strains only                                                      599\n",
      "<Undefined>                                                                                                                                               346\n",
      "Animal / insect bite / sting                                                                                                                              301\n",
      "Cut / laceration                                                                                                                                          264\n",
      "Bruising                                                                                                                                                  186\n",
      "                                                                                                                                                         ... \n",
      "Amputation, Internal injury of chest, abdomen and pelvis                                                                                                    1\n",
      "Damage to artificial aids                                                                                                                                   1\n",
      "Multiple injuries - only to be used where no principal injury can be identified                                                                             1\n",
      "Fractures - excluding of vertebral colum, Disorders of muscle, tendons and other soft tissue injuries - includes synovitis, tenosynovitis and bursitis      1\n",
      "Bruising, Swelling, Fractures - excluding of vertebral colum                                                                                                1\n",
      "Name: Nature, Length: 113, dtype: int64\n",
      "\n",
      "==================================================\n",
      "Mechanism\n",
      "==================================================\n",
      "<Undefined>                                                                                369\n",
      "Unspecified mechanism or injury                                                            333\n",
      "Other muscular stress                                                                      330\n",
      "Falls on the same level - including trips and slips                                        324\n",
      "Hitting objects with a part of the body                                                    278\n",
      "Being hit by moving objects                                                                275\n",
      "Other contact with chemical or substance - includes insect and spider bites and stings     262\n",
      "Interaction with plant / equipment                                                         131\n",
      "Repetitive movement with low muscle loading                                                 94\n",
      "Falls from a height                                                                         74\n",
      "Vehicle accident                                                                            74\n",
      "Contact with electricity                                                                    69\n",
      "Contact or exposure to heat and cold                                                        45\n",
      "Single contact with chemical or substance - excludes insect and spider bites and stings     35\n",
      "Contact with, or exposure to, biological factors                                            27\n",
      "Exposure to mental stress factors                                                           10\n",
      "Exposure to mechanical vibration                                                             6\n",
      "Exposure to sharp, sudden sound                                                              5\n",
      "Exposure to radiation                                                                        5\n",
      "Other and multiple mechanisms of injury                                                      4\n",
      "Exposure to variations in pressure - other than sound                                        4\n",
      "Slide or cave-in                                                                             3\n",
      "Long term exposure to sounds                                                                 1\n",
      "Long term contact with chemical or substance                                                 1\n",
      "Name: Mechanism, dtype: int64\n",
      "\n",
      "==================================================\n",
      "Agency\n",
      "==================================================\n",
      "Outdoor environment                        623\n",
      "<Undefined>                                377\n",
      "Other agencies                             264\n",
      "Other materials, substances or objects     225\n",
      "Human agencies                             176\n",
      "Non-powered equipment                      148\n",
      "Indoor environment                         134\n",
      "Road transport                             125\n",
      "Non-powered hand tools                     122\n",
      "Live animals                               112\n",
      "Mobile plant                               105\n",
      "Powered equipment, tools and appliances     98\n",
      "Machinery and fixed plant                   88\n",
      "Non-living animals                          41\n",
      "Unspecified agencies                        37\n",
      "Biological agencies                         29\n",
      "Other transport                             18\n",
      "Non-physical agencies                       17\n",
      "Chemicals                                   15\n",
      "Non-metallic substances                      4\n",
      "Underground environment                      1\n",
      "Name: Agency, dtype: int64\n",
      "\n"
     ]
    }
   ],
   "source": [
    "for col in aux.columns.tolist():\n",
    "    print(\"=\"*50)\n",
    "    print(col)\n",
    "    print(\"=\"*50)\n",
    "    print(aux[col].value_counts(), end=\"\\n\\n\")"
   ]
  },
  {
   "cell_type": "code",
   "execution_count": null,
   "id": "3b32637c-ee1a-4b80-a502-02b7bd383204",
   "metadata": {},
   "outputs": [],
   "source": []
  },
  {
   "cell_type": "markdown",
   "id": "2f77d5e5-0ee5-48cb-8cce-64eb5c96a56b",
   "metadata": {},
   "source": [
    "## Incident_Number\n",
    "\n",
    "Checking duplicacy"
   ]
  },
  {
   "cell_type": "code",
   "execution_count": 13,
   "id": "e159eda0-ddd7-48b1-a651-c0f936d9d15f",
   "metadata": {},
   "outputs": [],
   "source": [
    "temp = aux.loc[aux[\"Incident_Number\"]==\"INC1041729\"]"
   ]
  },
  {
   "cell_type": "code",
   "execution_count": 16,
   "id": "0f128b6e-388b-4d31-b709-115be1293343",
   "metadata": {},
   "outputs": [
    {
     "data": {
      "text/plain": [
       "(8, 17)"
      ]
     },
     "execution_count": 16,
     "metadata": {},
     "output_type": "execute_result"
    }
   ],
   "source": [
    "temp.shape"
   ]
  },
  {
   "cell_type": "code",
   "execution_count": 15,
   "id": "786a33b1-8fe2-4656-87e0-2ed192af1946",
   "metadata": {},
   "outputs": [
    {
     "name": "stdout",
     "output_type": "stream",
     "text": [
      "Incident_Number - 7\n",
      "Consequences - 7\n",
      "Suburb/Locality - 7\n",
      "Risk_Score - 7\n",
      "Employee_Type - 7\n",
      "OBS_Contractor_Company - 7\n",
      "OBS_Person - 4\n",
      "OBS_Injury_Classification - 7\n",
      "Sign_Off_Date - 7\n",
      "Close_this_Record? - 7\n",
      "Incident_DateTime - 7\n",
      "All_Consequences_of_the_Incident - 7\n",
      "Status - 7\n",
      "Bodily_Location - 6\n",
      "Nature - 7\n",
      "Mechanism - 7\n",
      "Agency - 7\n"
     ]
    }
   ],
   "source": [
    "for col in temp.columns.tolist():\n",
    "    print(f\"{col} - {temp[col].duplicated().sum()}\")"
   ]
  },
  {
   "cell_type": "code",
   "execution_count": 18,
   "id": "77281f1f-9cd4-48a3-8444-cb8f5774d783",
   "metadata": {},
   "outputs": [
    {
     "data": {
      "text/plain": [
       "1590    41025757.0\n",
       "1593    41025757.0\n",
       "1594    41078357.0\n",
       "1597    41078357.0\n",
       "1598    41121807.0\n",
       "1601    41121807.0\n",
       "1602    41213207.0\n",
       "1605    41213207.0\n",
       "Name: OBS_Person, dtype: float64"
      ]
     },
     "execution_count": 18,
     "metadata": {},
     "output_type": "execute_result"
    }
   ],
   "source": [
    "temp[\"OBS_Person\"]"
   ]
  },
  {
   "cell_type": "code",
   "execution_count": 19,
   "id": "d0790ad9-3e82-40b6-a8be-cec41eb950f5",
   "metadata": {},
   "outputs": [
    {
     "data": {
      "text/plain": [
       "Head    4\n",
       "Arm     4\n",
       "Name: Bodily_Location, dtype: int64"
      ]
     },
     "execution_count": 19,
     "metadata": {},
     "output_type": "execute_result"
    }
   ],
   "source": [
    "temp[\"Bodily_Location\"].value_counts()"
   ]
  },
  {
   "cell_type": "code",
   "execution_count": 20,
   "id": "ab6f565b-2e47-40aa-b082-7295e90ced9d",
   "metadata": {},
   "outputs": [
    {
     "data": {
      "text/plain": [
       "OBS_Person  Bodily_Location\n",
       "41025757.0  Arm                1\n",
       "            Head               1\n",
       "41078357.0  Arm                1\n",
       "            Head               1\n",
       "41121807.0  Arm                1\n",
       "            Head               1\n",
       "41213207.0  Arm                1\n",
       "            Head               1\n",
       "Name: Bodily_Location, dtype: int64"
      ]
     },
     "execution_count": 20,
     "metadata": {},
     "output_type": "execute_result"
    }
   ],
   "source": [
    "temp.groupby(\"OBS_Person\")[\"Bodily_Location\"].value_counts()"
   ]
  },
  {
   "cell_type": "markdown",
   "id": "009a045c-e81b-4150-9d1b-52cc9c6e3a11",
   "metadata": {},
   "source": [
    "> So basically there are multiple people injured with multiple organ injuries in a single incident, hence there's a single incident number but multiple entries"
   ]
  },
  {
   "cell_type": "code",
   "execution_count": null,
   "id": "1698b871-855d-43d3-a141-9d064faad979",
   "metadata": {},
   "outputs": [],
   "source": []
  },
  {
   "cell_type": "markdown",
   "id": "23a1fcce-b900-496a-b68f-2ca36a0ab281",
   "metadata": {},
   "source": [
    "## Risk_Score"
   ]
  },
  {
   "cell_type": "code",
   "execution_count": 21,
   "id": "9982ba06-8707-41c2-b619-dbd61416633b",
   "metadata": {},
   "outputs": [
    {
     "data": {
      "text/plain": [
       "Low            1457\n",
       "<Undefined>     829\n",
       "Medium          514\n",
       "High             61\n",
       "Extreme           1\n",
       "Name: Risk_Score, dtype: int64"
      ]
     },
     "execution_count": 21,
     "metadata": {},
     "output_type": "execute_result"
    }
   ],
   "source": [
    "aux[\"Risk_Score\"].value_counts()"
   ]
  },
  {
   "cell_type": "code",
   "execution_count": 22,
   "id": "d22d711e-1d57-439e-846a-2255a30148f6",
   "metadata": {},
   "outputs": [
    {
     "data": {
      "text/plain": [
       "Injury or Illness                                           44\n",
       "Motor Vehicle Incident, Injury or Illness                   13\n",
       "Injury or Illness, Public Electric Shock                     3\n",
       "Live Working (No longer used), Injury or Illness             1\n",
       "Network Asset Failure - Western Power, Injury or Illness     1\n",
       "Name: Consequences, dtype: int64"
      ]
     },
     "execution_count": 22,
     "metadata": {},
     "output_type": "execute_result"
    }
   ],
   "source": [
    "aux.loc[aux[\"Risk_Score\"].isin([\"High\", \"Extreme\"])][\"Consequences\"].value_counts()"
   ]
  },
  {
   "cell_type": "code",
   "execution_count": 23,
   "id": "f44edb8a-8982-4594-aece-435405a59777",
   "metadata": {},
   "outputs": [
    {
     "data": {
      "text/plain": [
       "Contractor    34\n",
       "Employee      28\n",
       "Name: Employee_Type, dtype: int64"
      ]
     },
     "execution_count": 23,
     "metadata": {},
     "output_type": "execute_result"
    }
   ],
   "source": [
    "aux.loc[aux[\"Risk_Score\"].isin([\"High\", \"Extreme\"])][\"Employee_Type\"].value_counts()"
   ]
  },
  {
   "cell_type": "code",
   "execution_count": null,
   "id": "11b12853-0e1c-4c11-8b39-782563cf83ed",
   "metadata": {},
   "outputs": [],
   "source": []
  },
  {
   "cell_type": "code",
   "execution_count": null,
   "id": "9898d27d-545d-46f8-bf8c-f226f1d97717",
   "metadata": {},
   "outputs": [],
   "source": []
  },
  {
   "cell_type": "code",
   "execution_count": null,
   "id": "d611127b-5b5c-40e9-9ce5-f0a92c1ead0b",
   "metadata": {},
   "outputs": [],
   "source": []
  },
  {
   "cell_type": "code",
   "execution_count": null,
   "id": "ec693c6c-6641-4647-b9d1-f0903c26e66b",
   "metadata": {},
   "outputs": [],
   "source": []
  },
  {
   "cell_type": "code",
   "execution_count": null,
   "id": "3b375b15-7f0e-41ea-b582-7403882d842e",
   "metadata": {},
   "outputs": [],
   "source": []
  }
 ],
 "metadata": {
  "kernelspec": {
   "display_name": "Python 3 (ipykernel)",
   "language": "python",
   "name": "python3"
  },
  "language_info": {
   "codemirror_mode": {
    "name": "ipython",
    "version": 3
   },
   "file_extension": ".py",
   "mimetype": "text/x-python",
   "name": "python",
   "nbconvert_exporter": "python",
   "pygments_lexer": "ipython3",
   "version": "3.7.0"
  }
 },
 "nbformat": 4,
 "nbformat_minor": 5
}
