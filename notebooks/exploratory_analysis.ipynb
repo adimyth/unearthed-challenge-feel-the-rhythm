{
 "cells": [
  {
   "cell_type": "code",
   "execution_count": 1,
   "id": "a4df978d-623a-4861-8693-c025de7f9178",
   "metadata": {},
   "outputs": [],
   "source": [
    "import warnings\n",
    "warnings.filterwarnings(\"ignore\")"
   ]
  },
  {
   "cell_type": "code",
   "execution_count": 2,
   "id": "0aa5d233-8e0b-45e2-b5b8-614d94b54b4b",
   "metadata": {},
   "outputs": [],
   "source": [
    "from datetime import datetime, timedelta\n",
    "import sys"
   ]
  },
  {
   "cell_type": "code",
   "execution_count": 3,
   "id": "029f4df4-e0c8-40c0-bdb1-84a9e3264938",
   "metadata": {},
   "outputs": [],
   "source": [
    "import pandas as pd\n",
    "import numpy as np\n",
    "import matplotlib.pyplot as plt\n",
    "import seaborn as sns"
   ]
  },
  {
   "cell_type": "code",
   "execution_count": 4,
   "id": "91dcb812-2a0f-49af-a0d1-7fcc19151dd7",
   "metadata": {},
   "outputs": [],
   "source": [
    "pd.set_option(\"display.max_rows\", 100)"
   ]
  },
  {
   "cell_type": "code",
   "execution_count": 5,
   "id": "75043315-2834-461d-8c9a-1d858d3ab044",
   "metadata": {},
   "outputs": [
    {
     "name": "stdout",
     "output_type": "stream",
     "text": [
      "1.3G\t../data/public\n"
     ]
    }
   ],
   "source": [
    "!du -sh ../data/public"
   ]
  },
  {
   "cell_type": "code",
   "execution_count": 6,
   "id": "6e2af76d-5dd4-4a03-b498-7c615a4ffb03",
   "metadata": {},
   "outputs": [],
   "source": [
    "subset = pd.read_csv(\"../data/public/public.csv\", nrows=10000000)"
   ]
  },
  {
   "cell_type": "code",
   "execution_count": 7,
   "id": "2526d686-cb57-40f8-8ec9-09f0e00e7e88",
   "metadata": {},
   "outputs": [
    {
     "data": {
      "text/html": [
       "<div>\n",
       "<style scoped>\n",
       "    .dataframe tbody tr th:only-of-type {\n",
       "        vertical-align: middle;\n",
       "    }\n",
       "\n",
       "    .dataframe tbody tr th {\n",
       "        vertical-align: top;\n",
       "    }\n",
       "\n",
       "    .dataframe thead th {\n",
       "        text-align: right;\n",
       "    }\n",
       "</style>\n",
       "<table border=\"1\" class=\"dataframe\">\n",
       "  <thead>\n",
       "    <tr style=\"text-align: right;\">\n",
       "      <th></th>\n",
       "      <th>Work_DateTime</th>\n",
       "      <th>TIME_TYPE</th>\n",
       "      <th>WORK_NO</th>\n",
       "      <th>WORK_DESC</th>\n",
       "      <th>FUNC_CAT</th>\n",
       "      <th>TOT_BRK_TM</th>\n",
       "      <th>EmpNo_Anon</th>\n",
       "      <th>Incident_Number</th>\n",
       "      <th>incident</th>\n",
       "    </tr>\n",
       "  </thead>\n",
       "  <tbody>\n",
       "    <tr>\n",
       "      <th>0</th>\n",
       "      <td>2014-05-12 07:00:00</td>\n",
       "      <td>Normal Time</td>\n",
       "      <td>ME007497</td>\n",
       "      <td>Scheduled Monthly Basic Meter ReadingMgt</td>\n",
       "      <td>Network or Asset</td>\n",
       "      <td>0.0</td>\n",
       "      <td>41091832.0</td>\n",
       "      <td>NaN</td>\n",
       "      <td>False</td>\n",
       "    </tr>\n",
       "    <tr>\n",
       "      <th>1</th>\n",
       "      <td>2014-05-12 08:00:00</td>\n",
       "      <td>Normal Time</td>\n",
       "      <td>ME007499</td>\n",
       "      <td>Scheduled Bi Monthly Basic MeterReadMgt</td>\n",
       "      <td>Network or Asset</td>\n",
       "      <td>0.0</td>\n",
       "      <td>41091832.0</td>\n",
       "      <td>NaN</td>\n",
       "      <td>False</td>\n",
       "    </tr>\n",
       "    <tr>\n",
       "      <th>2</th>\n",
       "      <td>2014-05-12 09:00:00</td>\n",
       "      <td>Normal Time</td>\n",
       "      <td>ME007499</td>\n",
       "      <td>Scheduled Bi Monthly Basic MeterReadMgt</td>\n",
       "      <td>Network or Asset</td>\n",
       "      <td>0.0</td>\n",
       "      <td>41091832.0</td>\n",
       "      <td>NaN</td>\n",
       "      <td>False</td>\n",
       "    </tr>\n",
       "    <tr>\n",
       "      <th>3</th>\n",
       "      <td>2014-05-12 10:00:00</td>\n",
       "      <td>Normal Time</td>\n",
       "      <td>ME007502</td>\n",
       "      <td>Annual Meter Reading Management</td>\n",
       "      <td>Network or Asset</td>\n",
       "      <td>0.0</td>\n",
       "      <td>41091832.0</td>\n",
       "      <td>NaN</td>\n",
       "      <td>False</td>\n",
       "    </tr>\n",
       "    <tr>\n",
       "      <th>4</th>\n",
       "      <td>2014-05-12 11:00:00</td>\n",
       "      <td>Normal Time</td>\n",
       "      <td>ME007502</td>\n",
       "      <td>Annual Meter Reading Management</td>\n",
       "      <td>Network or Asset</td>\n",
       "      <td>0.0</td>\n",
       "      <td>41091832.0</td>\n",
       "      <td>NaN</td>\n",
       "      <td>False</td>\n",
       "    </tr>\n",
       "  </tbody>\n",
       "</table>\n",
       "</div>"
      ],
      "text/plain": [
       "         Work_DateTime    TIME_TYPE   WORK_NO  \\\n",
       "0  2014-05-12 07:00:00  Normal Time  ME007497   \n",
       "1  2014-05-12 08:00:00  Normal Time  ME007499   \n",
       "2  2014-05-12 09:00:00  Normal Time  ME007499   \n",
       "3  2014-05-12 10:00:00  Normal Time  ME007502   \n",
       "4  2014-05-12 11:00:00  Normal Time  ME007502   \n",
       "\n",
       "                                  WORK_DESC          FUNC_CAT  TOT_BRK_TM  \\\n",
       "0  Scheduled Monthly Basic Meter ReadingMgt  Network or Asset         0.0   \n",
       "1   Scheduled Bi Monthly Basic MeterReadMgt  Network or Asset         0.0   \n",
       "2   Scheduled Bi Monthly Basic MeterReadMgt  Network or Asset         0.0   \n",
       "3           Annual Meter Reading Management  Network or Asset         0.0   \n",
       "4           Annual Meter Reading Management  Network or Asset         0.0   \n",
       "\n",
       "   EmpNo_Anon Incident_Number  incident  \n",
       "0  41091832.0             NaN     False  \n",
       "1  41091832.0             NaN     False  \n",
       "2  41091832.0             NaN     False  \n",
       "3  41091832.0             NaN     False  \n",
       "4  41091832.0             NaN     False  "
      ]
     },
     "execution_count": 7,
     "metadata": {},
     "output_type": "execute_result"
    }
   ],
   "source": [
    "subset.head()"
   ]
  },
  {
   "cell_type": "code",
   "execution_count": 8,
   "id": "3814e2a8-5a2a-4dc2-8dc7-0d0d0e0475b9",
   "metadata": {},
   "outputs": [
    {
     "name": "stdout",
     "output_type": "stream",
     "text": [
      "DataFrame Size: 4106.276 MBs\n"
     ]
    }
   ],
   "source": [
    "print(f\"DataFrame Size: {(sys.getsizeof(subset)/(10**6)):.3f} MBs\")"
   ]
  },
  {
   "cell_type": "code",
   "execution_count": null,
   "id": "74fe23e6-25c3-4a05-a81f-4fe17105cc9e",
   "metadata": {},
   "outputs": [],
   "source": []
  },
  {
   "cell_type": "markdown",
   "id": "9983f3e2-3da7-478a-a31b-ac15311f9c8b",
   "metadata": {},
   "source": [
    "# UNIVARIATE"
   ]
  },
  {
   "cell_type": "markdown",
   "id": "43c0702e-ce6a-4269-88c5-05413d36abf3",
   "metadata": {},
   "source": [
    "## Work_DateTime\n",
    "The hour for this row"
   ]
  },
  {
   "cell_type": "code",
   "execution_count": 9,
   "id": "6dfa22c0-435e-49df-a555-c5df722e689d",
   "metadata": {},
   "outputs": [],
   "source": [
    "subset[\"Work_DateTime\"] = pd.to_datetime(subset[\"Work_DateTime\"], errors=\"coerce\")"
   ]
  },
  {
   "cell_type": "code",
   "execution_count": 10,
   "id": "48b0c09e-75b3-4a40-b301-e3f251e0e91d",
   "metadata": {},
   "outputs": [
    {
     "data": {
      "text/plain": [
       "Timestamp('2018-12-12 10:00:00')"
      ]
     },
     "execution_count": 10,
     "metadata": {},
     "output_type": "execute_result"
    }
   ],
   "source": [
    "subset[\"Work_DateTime\"].max()"
   ]
  },
  {
   "cell_type": "code",
   "execution_count": 11,
   "id": "79b3f304-3356-4bff-8d11-55082d4bd455",
   "metadata": {},
   "outputs": [
    {
     "data": {
      "text/plain": [
       "Timestamp('2014-05-12 07:00:00')"
      ]
     },
     "execution_count": 11,
     "metadata": {},
     "output_type": "execute_result"
    }
   ],
   "source": [
    "subset[\"Work_DateTime\"].min()"
   ]
  },
  {
   "cell_type": "code",
   "execution_count": 12,
   "id": "224312d8-145d-46bb-89a8-4e6fe3eb9235",
   "metadata": {},
   "outputs": [],
   "source": [
    "subset[\"Year\"] = subset[\"Work_DateTime\"].dt.year\n",
    "subset[\"Month\"] = subset[\"Work_DateTime\"].dt.month\n",
    "subset[\"Date\"] = subset[\"Work_DateTime\"].dt.date"
   ]
  },
  {
   "cell_type": "code",
   "execution_count": 13,
   "id": "38d845df-b0b4-46dc-b4e7-f3f609c13504",
   "metadata": {},
   "outputs": [
    {
     "data": {
      "image/png": "[encoded data removed]",
      "text/plain": [
       "<Figure size 432x288 with 1 Axes>"
      ]
     },
     "metadata": {
      "needs_background": "light"
     },
     "output_type": "display_data"
    }
   ],
   "source": [
    "_ = subset[\"Year\"].value_counts().plot(kind=\"bar\")"
   ]
  },
  {
   "cell_type": "code",
   "execution_count": 14,
   "id": "303c6167-1822-4d1c-bda0-d3b5f8bd3dd7",
   "metadata": {},
   "outputs": [
    {
     "data": {
      "image/png": "[encoded data removed]",
      "text/plain": [
       "<Figure size 432x288 with 1 Axes>"
      ]
     },
     "metadata": {
      "needs_background": "light"
     },
     "output_type": "display_data"
    }
   ],
   "source": [
    "_ = subset[\"Month\"].value_counts().plot(kind=\"bar\")"
   ]
  },
  {
   "cell_type": "code",
   "execution_count": null,
   "id": "133cad07-ba06-455e-90c9-3c5576954b2b",
   "metadata": {},
   "outputs": [],
   "source": []
  },
  {
   "cell_type": "markdown",
   "id": "519800a6-cca2-493d-86c2-17e63125e9af",
   "metadata": {},
   "source": [
    "## TIME_TYPE\n"
   ]
  },
  {
   "cell_type": "code",
   "execution_count": 15,
   "id": "74357d49-d115-4abf-895a-2cfe7d9e530f",
   "metadata": {},
   "outputs": [
    {
     "data": {
      "text/plain": [
       "Normal Time    8851379\n",
       "Overtime       1148621\n",
       "Name: TIME_TYPE, dtype: int64"
      ]
     },
     "execution_count": 15,
     "metadata": {},
     "output_type": "execute_result"
    }
   ],
   "source": [
    "subset[\"TIME_TYPE\"].value_counts()"
   ]
  },
  {
   "cell_type": "code",
   "execution_count": null,
   "id": "92c06efb-f206-4c19-8936-ca8c8d425bb5",
   "metadata": {},
   "outputs": [],
   "source": []
  },
  {
   "cell_type": "markdown",
   "id": "4071d23b-2530-45ad-91e5-7fc8a92673ae",
   "metadata": {},
   "source": [
    "## WORK_NO\n",
    "\n",
    "Code for work type"
   ]
  },
  {
   "cell_type": "code",
   "execution_count": 16,
   "id": "e7029307-9631-42c8-ad31-faa4fc5d8eba",
   "metadata": {},
   "outputs": [
    {
     "data": {
      "text/plain": [
       "NTRAI       318751\n",
       "NADMN       204072\n",
       "SSNOC004    114697\n",
       "NMEET        99033\n",
       "NSAFE        96522\n",
       "             ...  \n",
       "05271142         1\n",
       "05675760         1\n",
       "05135131         1\n",
       "FL289679         1\n",
       "05495556         1\n",
       "Name: WORK_NO, Length: 490738, dtype: int64"
      ]
     },
     "execution_count": 16,
     "metadata": {},
     "output_type": "execute_result"
    }
   ],
   "source": [
    "subset[\"WORK_NO\"].value_counts()"
   ]
  },
  {
   "cell_type": "markdown",
   "id": "c0cc6ce2-7e4e-4038-8b7c-7b59ed691183",
   "metadata": {},
   "source": [
    "Values don't make sense"
   ]
  },
  {
   "cell_type": "code",
   "execution_count": null,
   "id": "f0a7985f-a33a-434f-94f7-b6d640acbb18",
   "metadata": {},
   "outputs": [],
   "source": []
  },
  {
   "cell_type": "markdown",
   "id": "a6c1fae2-1cd5-4617-b5fe-789206c85c0e",
   "metadata": {},
   "source": [
    "## FUNC_CAT\n",
    "\n",
    "Operational/Support/Network or Asset"
   ]
  },
  {
   "cell_type": "code",
   "execution_count": 17,
   "id": "6c0273da-def6-4903-b04b-531366772ead",
   "metadata": {},
   "outputs": [
    {
     "data": {
      "text/plain": [
       "Operational         6259068\n",
       "Network or Asset    2625285\n",
       "Support             1115647\n",
       "Name: FUNC_CAT, dtype: int64"
      ]
     },
     "execution_count": 17,
     "metadata": {},
     "output_type": "execute_result"
    }
   ],
   "source": [
    "subset[\"FUNC_CAT\"].value_counts()"
   ]
  },
  {
   "cell_type": "markdown",
   "id": "2468b92f-5770-4c88-be38-00aecfa86714",
   "metadata": {},
   "source": [
    "Broader category of work type"
   ]
  },
  {
   "cell_type": "code",
   "execution_count": null,
   "id": "11be55dc-08cc-4280-92e5-31c035610981",
   "metadata": {},
   "outputs": [],
   "source": []
  },
  {
   "cell_type": "markdown",
   "id": "f9ba2265-f134-4ccc-a324-bb7b78d19eab",
   "metadata": {},
   "source": [
    "## TOT_BRK_TM\n",
    "\n",
    "Minutes of break time, averaged per hour in shift"
   ]
  },
  {
   "cell_type": "code",
   "execution_count": 18,
   "id": "3e6c9b67-bcc1-4ef2-b9bc-3c30d3db4d1f",
   "metadata": {},
   "outputs": [
    {
     "data": {
      "text/plain": [
       "count    1.000000e+07\n",
       "mean     2.394487e+00\n",
       "std      3.095657e+00\n",
       "min      0.000000e+00\n",
       "25%      0.000000e+00\n",
       "50%      2.727273e+00\n",
       "75%      3.750000e+00\n",
       "max      6.000000e+01\n",
       "Name: TOT_BRK_TM, dtype: float64"
      ]
     },
     "execution_count": 18,
     "metadata": {},
     "output_type": "execute_result"
    }
   ],
   "source": [
    "subset[\"TOT_BRK_TM\"].describe()"
   ]
  },
  {
   "cell_type": "code",
   "execution_count": 19,
   "id": "89dc7d9b-eead-4d24-bb48-9a546611a9b9",
   "metadata": {},
   "outputs": [
    {
     "data": {
      "text/plain": [
       "WORK_DESC\n",
       "Training                                    977096.250003\n",
       "TCS: Pole Distribution                      336553.954199\n",
       "Admin                                       323177.531385\n",
       "Safety                                      274202.916667\n",
       "CONSTRUCTION                                249845.212121\n",
       "                                                ...      \n",
       "MP143659 SSX5 80A 37 WYATT RD, BAYSWATER         0.000000\n",
       "MP143662 L22 LAW STREET MORLEY                   0.000000\n",
       "MP143679 L137 122 HOLBECK ST DOUBLEVIEW          0.000000\n",
       "MP143681 UMS: CANNING HWY, SOUTH PERTH C         0.000000\n",
       "!*Crane rope u/s on drum WPC1380                 0.000000\n",
       "Name: TOT_BRK_TM, Length: 176956, dtype: float64"
      ]
     },
     "execution_count": 19,
     "metadata": {},
     "output_type": "execute_result"
    }
   ],
   "source": [
    "subset.groupby(\"WORK_DESC\")[\"TOT_BRK_TM\"].sum().sort_values(ascending=False)"
   ]
  },
  {
   "cell_type": "code",
   "execution_count": 20,
   "id": "dbb715e3-2854-4a85-96d2-f948c55e315f",
   "metadata": {},
   "outputs": [
    {
     "data": {
      "text/plain": [
       "(1287, 12)"
      ]
     },
     "execution_count": 20,
     "metadata": {},
     "output_type": "execute_result"
    }
   ],
   "source": [
    "subset.loc[subset[\"WORK_NO\"]==\"ME007705\"].shape"
   ]
  },
  {
   "cell_type": "code",
   "execution_count": 21,
   "id": "48dbc63e-a505-40da-a807-03e7060a5020",
   "metadata": {},
   "outputs": [
    {
     "data": {
      "text/html": [
       "<div>\n",
       "<style scoped>\n",
       "    .dataframe tbody tr th:only-of-type {\n",
       "        vertical-align: middle;\n",
       "    }\n",
       "\n",
       "    .dataframe tbody tr th {\n",
       "        vertical-align: top;\n",
       "    }\n",
       "\n",
       "    .dataframe thead th {\n",
       "        text-align: right;\n",
       "    }\n",
       "</style>\n",
       "<table border=\"1\" class=\"dataframe\">\n",
       "  <thead>\n",
       "    <tr style=\"text-align: right;\">\n",
       "      <th></th>\n",
       "      <th>Work_DateTime</th>\n",
       "      <th>TIME_TYPE</th>\n",
       "      <th>WORK_NO</th>\n",
       "      <th>WORK_DESC</th>\n",
       "      <th>FUNC_CAT</th>\n",
       "      <th>TOT_BRK_TM</th>\n",
       "      <th>EmpNo_Anon</th>\n",
       "      <th>Incident_Number</th>\n",
       "      <th>incident</th>\n",
       "      <th>Year</th>\n",
       "      <th>Month</th>\n",
       "      <th>Date</th>\n",
       "    </tr>\n",
       "  </thead>\n",
       "  <tbody>\n",
       "    <tr>\n",
       "      <th>5</th>\n",
       "      <td>2014-05-12 12:00:00</td>\n",
       "      <td>Normal Time</td>\n",
       "      <td>ME007705</td>\n",
       "      <td>Meter Reading Customer Support Basic</td>\n",
       "      <td>Network or Asset</td>\n",
       "      <td>15.0</td>\n",
       "      <td>41091832.0</td>\n",
       "      <td>NaN</td>\n",
       "      <td>False</td>\n",
       "      <td>2014</td>\n",
       "      <td>5</td>\n",
       "      <td>2014-05-12</td>\n",
       "    </tr>\n",
       "    <tr>\n",
       "      <th>12</th>\n",
       "      <td>2014-05-13 11:00:00</td>\n",
       "      <td>Normal Time</td>\n",
       "      <td>ME007705</td>\n",
       "      <td>Meter Reading Customer Support Basic</td>\n",
       "      <td>Network or Asset</td>\n",
       "      <td>15.0</td>\n",
       "      <td>41091832.0</td>\n",
       "      <td>NaN</td>\n",
       "      <td>False</td>\n",
       "      <td>2014</td>\n",
       "      <td>5</td>\n",
       "      <td>2014-05-13</td>\n",
       "    </tr>\n",
       "    <tr>\n",
       "      <th>13</th>\n",
       "      <td>2014-05-13 12:00:00</td>\n",
       "      <td>Normal Time</td>\n",
       "      <td>ME007705</td>\n",
       "      <td>Meter Reading Customer Support Basic</td>\n",
       "      <td>Network or Asset</td>\n",
       "      <td>15.0</td>\n",
       "      <td>41091832.0</td>\n",
       "      <td>NaN</td>\n",
       "      <td>False</td>\n",
       "      <td>2014</td>\n",
       "      <td>5</td>\n",
       "      <td>2014-05-13</td>\n",
       "    </tr>\n",
       "    <tr>\n",
       "      <th>20</th>\n",
       "      <td>2014-05-14 11:00:00</td>\n",
       "      <td>Normal Time</td>\n",
       "      <td>ME007705</td>\n",
       "      <td>Meter Reading Customer Support Basic</td>\n",
       "      <td>Network or Asset</td>\n",
       "      <td>15.0</td>\n",
       "      <td>41091832.0</td>\n",
       "      <td>NaN</td>\n",
       "      <td>False</td>\n",
       "      <td>2014</td>\n",
       "      <td>5</td>\n",
       "      <td>2014-05-14</td>\n",
       "    </tr>\n",
       "    <tr>\n",
       "      <th>21</th>\n",
       "      <td>2014-05-14 12:00:00</td>\n",
       "      <td>Normal Time</td>\n",
       "      <td>ME007705</td>\n",
       "      <td>Meter Reading Customer Support Basic</td>\n",
       "      <td>Network or Asset</td>\n",
       "      <td>15.0</td>\n",
       "      <td>41091832.0</td>\n",
       "      <td>NaN</td>\n",
       "      <td>False</td>\n",
       "      <td>2014</td>\n",
       "      <td>5</td>\n",
       "      <td>2014-05-14</td>\n",
       "    </tr>\n",
       "    <tr>\n",
       "      <th>28</th>\n",
       "      <td>2014-05-15 11:00:00</td>\n",
       "      <td>Normal Time</td>\n",
       "      <td>ME007705</td>\n",
       "      <td>Meter Reading Customer Support Basic</td>\n",
       "      <td>Network or Asset</td>\n",
       "      <td>15.0</td>\n",
       "      <td>41091832.0</td>\n",
       "      <td>NaN</td>\n",
       "      <td>False</td>\n",
       "      <td>2014</td>\n",
       "      <td>5</td>\n",
       "      <td>2014-05-15</td>\n",
       "    </tr>\n",
       "    <tr>\n",
       "      <th>29</th>\n",
       "      <td>2014-05-15 12:00:00</td>\n",
       "      <td>Normal Time</td>\n",
       "      <td>ME007705</td>\n",
       "      <td>Meter Reading Customer Support Basic</td>\n",
       "      <td>Network or Asset</td>\n",
       "      <td>15.0</td>\n",
       "      <td>41091832.0</td>\n",
       "      <td>NaN</td>\n",
       "      <td>False</td>\n",
       "      <td>2014</td>\n",
       "      <td>5</td>\n",
       "      <td>2014-05-15</td>\n",
       "    </tr>\n",
       "    <tr>\n",
       "      <th>37</th>\n",
       "      <td>2014-05-16 12:00:00</td>\n",
       "      <td>Normal Time</td>\n",
       "      <td>ME007705</td>\n",
       "      <td>Meter Reading Customer Support Basic</td>\n",
       "      <td>Network or Asset</td>\n",
       "      <td>15.0</td>\n",
       "      <td>41091832.0</td>\n",
       "      <td>NaN</td>\n",
       "      <td>False</td>\n",
       "      <td>2014</td>\n",
       "      <td>5</td>\n",
       "      <td>2014-05-16</td>\n",
       "    </tr>\n",
       "    <tr>\n",
       "      <th>4773</th>\n",
       "      <td>2014-07-28 11:00:00</td>\n",
       "      <td>Normal Time</td>\n",
       "      <td>ME007705</td>\n",
       "      <td>Meter Reading Customer Support Basic</td>\n",
       "      <td>Support</td>\n",
       "      <td>0.0</td>\n",
       "      <td>40921657.0</td>\n",
       "      <td>NaN</td>\n",
       "      <td>False</td>\n",
       "      <td>2014</td>\n",
       "      <td>7</td>\n",
       "      <td>2014-07-28</td>\n",
       "    </tr>\n",
       "    <tr>\n",
       "      <th>4862</th>\n",
       "      <td>2014-07-28 11:00:00</td>\n",
       "      <td>Normal Time</td>\n",
       "      <td>ME007705</td>\n",
       "      <td>Meter Reading Customer Support Basic</td>\n",
       "      <td>Support</td>\n",
       "      <td>0.0</td>\n",
       "      <td>40986607.0</td>\n",
       "      <td>NaN</td>\n",
       "      <td>False</td>\n",
       "      <td>2014</td>\n",
       "      <td>7</td>\n",
       "      <td>2014-07-28</td>\n",
       "    </tr>\n",
       "    <tr>\n",
       "      <th>5376</th>\n",
       "      <td>2014-07-28 12:00:00</td>\n",
       "      <td>Normal Time</td>\n",
       "      <td>ME007705</td>\n",
       "      <td>Meter Reading Customer Support Basic</td>\n",
       "      <td>Support</td>\n",
       "      <td>0.0</td>\n",
       "      <td>40921657.0</td>\n",
       "      <td>NaN</td>\n",
       "      <td>False</td>\n",
       "      <td>2014</td>\n",
       "      <td>7</td>\n",
       "      <td>2014-07-28</td>\n",
       "    </tr>\n",
       "    <tr>\n",
       "      <th>12738</th>\n",
       "      <td>2014-07-29 12:00:00</td>\n",
       "      <td>Normal Time</td>\n",
       "      <td>ME007705</td>\n",
       "      <td>Meter Reading Customer Support Basic</td>\n",
       "      <td>Support</td>\n",
       "      <td>0.0</td>\n",
       "      <td>40921657.0</td>\n",
       "      <td>NaN</td>\n",
       "      <td>False</td>\n",
       "      <td>2014</td>\n",
       "      <td>7</td>\n",
       "      <td>2014-07-29</td>\n",
       "    </tr>\n",
       "    <tr>\n",
       "      <th>21328</th>\n",
       "      <td>2014-07-30 12:00:00</td>\n",
       "      <td>Normal Time</td>\n",
       "      <td>ME007705</td>\n",
       "      <td>Meter Reading Customer Support Basic</td>\n",
       "      <td>Support</td>\n",
       "      <td>0.0</td>\n",
       "      <td>40921657.0</td>\n",
       "      <td>NaN</td>\n",
       "      <td>False</td>\n",
       "      <td>2014</td>\n",
       "      <td>7</td>\n",
       "      <td>2014-07-30</td>\n",
       "    </tr>\n",
       "    <tr>\n",
       "      <th>37254</th>\n",
       "      <td>2014-08-01 11:00:00</td>\n",
       "      <td>Normal Time</td>\n",
       "      <td>ME007705</td>\n",
       "      <td>Meter Reading Customer Support Basic</td>\n",
       "      <td>Support</td>\n",
       "      <td>0.0</td>\n",
       "      <td>40986607.0</td>\n",
       "      <td>NaN</td>\n",
       "      <td>False</td>\n",
       "      <td>2014</td>\n",
       "      <td>8</td>\n",
       "      <td>2014-08-01</td>\n",
       "    </tr>\n",
       "    <tr>\n",
       "      <th>38065</th>\n",
       "      <td>2014-08-01 12:00:00</td>\n",
       "      <td>Normal Time</td>\n",
       "      <td>ME007705</td>\n",
       "      <td>Meter Reading Customer Support Basic</td>\n",
       "      <td>Support</td>\n",
       "      <td>0.0</td>\n",
       "      <td>40986607.0</td>\n",
       "      <td>NaN</td>\n",
       "      <td>False</td>\n",
       "      <td>2014</td>\n",
       "      <td>8</td>\n",
       "      <td>2014-08-01</td>\n",
       "    </tr>\n",
       "    <tr>\n",
       "      <th>46884</th>\n",
       "      <td>2014-08-04 11:00:00</td>\n",
       "      <td>Normal Time</td>\n",
       "      <td>ME007705</td>\n",
       "      <td>Meter Reading Customer Support Basic</td>\n",
       "      <td>Support</td>\n",
       "      <td>0.0</td>\n",
       "      <td>40921657.0</td>\n",
       "      <td>NaN</td>\n",
       "      <td>False</td>\n",
       "      <td>2014</td>\n",
       "      <td>8</td>\n",
       "      <td>2014-08-04</td>\n",
       "    </tr>\n",
       "    <tr>\n",
       "      <th>46976</th>\n",
       "      <td>2014-08-04 11:00:00</td>\n",
       "      <td>Normal Time</td>\n",
       "      <td>ME007705</td>\n",
       "      <td>Meter Reading Customer Support Basic</td>\n",
       "      <td>Support</td>\n",
       "      <td>0.0</td>\n",
       "      <td>40986607.0</td>\n",
       "      <td>NaN</td>\n",
       "      <td>False</td>\n",
       "      <td>2014</td>\n",
       "      <td>8</td>\n",
       "      <td>2014-08-04</td>\n",
       "    </tr>\n",
       "    <tr>\n",
       "      <th>47622</th>\n",
       "      <td>2014-08-04 12:00:00</td>\n",
       "      <td>Normal Time</td>\n",
       "      <td>ME007705</td>\n",
       "      <td>Meter Reading Customer Support Basic</td>\n",
       "      <td>Support</td>\n",
       "      <td>0.0</td>\n",
       "      <td>40986607.0</td>\n",
       "      <td>NaN</td>\n",
       "      <td>False</td>\n",
       "      <td>2014</td>\n",
       "      <td>8</td>\n",
       "      <td>2014-08-04</td>\n",
       "    </tr>\n",
       "    <tr>\n",
       "      <th>54160</th>\n",
       "      <td>2014-08-05 11:00:00</td>\n",
       "      <td>Normal Time</td>\n",
       "      <td>ME007705</td>\n",
       "      <td>Meter Reading Customer Support Basic</td>\n",
       "      <td>Support</td>\n",
       "      <td>0.0</td>\n",
       "      <td>40921657.0</td>\n",
       "      <td>NaN</td>\n",
       "      <td>False</td>\n",
       "      <td>2014</td>\n",
       "      <td>8</td>\n",
       "      <td>2014-08-05</td>\n",
       "    </tr>\n",
       "    <tr>\n",
       "      <th>55041</th>\n",
       "      <td>2014-08-05 12:00:00</td>\n",
       "      <td>Normal Time</td>\n",
       "      <td>ME007705</td>\n",
       "      <td>Meter Reading Customer Support Basic</td>\n",
       "      <td>Support</td>\n",
       "      <td>0.0</td>\n",
       "      <td>40921657.0</td>\n",
       "      <td>NaN</td>\n",
       "      <td>False</td>\n",
       "      <td>2014</td>\n",
       "      <td>8</td>\n",
       "      <td>2014-08-05</td>\n",
       "    </tr>\n",
       "  </tbody>\n",
       "</table>\n",
       "</div>"
      ],
      "text/plain": [
       "            Work_DateTime    TIME_TYPE   WORK_NO  \\\n",
       "5     2014-05-12 12:00:00  Normal Time  ME007705   \n",
       "12    2014-05-13 11:00:00  Normal Time  ME007705   \n",
       "13    2014-05-13 12:00:00  Normal Time  ME007705   \n",
       "20    2014-05-14 11:00:00  Normal Time  ME007705   \n",
       "21    2014-05-14 12:00:00  Normal Time  ME007705   \n",
       "28    2014-05-15 11:00:00  Normal Time  ME007705   \n",
       "29    2014-05-15 12:00:00  Normal Time  ME007705   \n",
       "37    2014-05-16 12:00:00  Normal Time  ME007705   \n",
       "4773  2014-07-28 11:00:00  Normal Time  ME007705   \n",
       "4862  2014-07-28 11:00:00  Normal Time  ME007705   \n",
       "5376  2014-07-28 12:00:00  Normal Time  ME007705   \n",
       "12738 2014-07-29 12:00:00  Normal Time  ME007705   \n",
       "21328 2014-07-30 12:00:00  Normal Time  ME007705   \n",
       "37254 2014-08-01 11:00:00  Normal Time  ME007705   \n",
       "38065 2014-08-01 12:00:00  Normal Time  ME007705   \n",
       "46884 2014-08-04 11:00:00  Normal Time  ME007705   \n",
       "46976 2014-08-04 11:00:00  Normal Time  ME007705   \n",
       "47622 2014-08-04 12:00:00  Normal Time  ME007705   \n",
       "54160 2014-08-05 11:00:00  Normal Time  ME007705   \n",
       "55041 2014-08-05 12:00:00  Normal Time  ME007705   \n",
       "\n",
       "                                  WORK_DESC          FUNC_CAT  TOT_BRK_TM  \\\n",
       "5      Meter Reading Customer Support Basic  Network or Asset        15.0   \n",
       "12     Meter Reading Customer Support Basic  Network or Asset        15.0   \n",
       "13     Meter Reading Customer Support Basic  Network or Asset        15.0   \n",
       "20     Meter Reading Customer Support Basic  Network or Asset        15.0   \n",
       "21     Meter Reading Customer Support Basic  Network or Asset        15.0   \n",
       "28     Meter Reading Customer Support Basic  Network or Asset        15.0   \n",
       "29     Meter Reading Customer Support Basic  Network or Asset        15.0   \n",
       "37     Meter Reading Customer Support Basic  Network or Asset        15.0   \n",
       "4773   Meter Reading Customer Support Basic           Support         0.0   \n",
       "4862   Meter Reading Customer Support Basic           Support         0.0   \n",
       "5376   Meter Reading Customer Support Basic           Support         0.0   \n",
       "12738  Meter Reading Customer Support Basic           Support         0.0   \n",
       "21328  Meter Reading Customer Support Basic           Support         0.0   \n",
       "37254  Meter Reading Customer Support Basic           Support         0.0   \n",
       "38065  Meter Reading Customer Support Basic           Support         0.0   \n",
       "46884  Meter Reading Customer Support Basic           Support         0.0   \n",
       "46976  Meter Reading Customer Support Basic           Support         0.0   \n",
       "47622  Meter Reading Customer Support Basic           Support         0.0   \n",
       "54160  Meter Reading Customer Support Basic           Support         0.0   \n",
       "55041  Meter Reading Customer Support Basic           Support         0.0   \n",
       "\n",
       "       EmpNo_Anon Incident_Number  incident  Year  Month        Date  \n",
       "5      41091832.0             NaN     False  2014      5  2014-05-12  \n",
       "12     41091832.0             NaN     False  2014      5  2014-05-13  \n",
       "13     41091832.0             NaN     False  2014      5  2014-05-13  \n",
       "20     41091832.0             NaN     False  2014      5  2014-05-14  \n",
       "21     41091832.0             NaN     False  2014      5  2014-05-14  \n",
       "28     41091832.0             NaN     False  2014      5  2014-05-15  \n",
       "29     41091832.0             NaN     False  2014      5  2014-05-15  \n",
       "37     41091832.0             NaN     False  2014      5  2014-05-16  \n",
       "4773   40921657.0             NaN     False  2014      7  2014-07-28  \n",
       "4862   40986607.0             NaN     False  2014      7  2014-07-28  \n",
       "5376   40921657.0             NaN     False  2014      7  2014-07-28  \n",
       "12738  40921657.0             NaN     False  2014      7  2014-07-29  \n",
       "21328  40921657.0             NaN     False  2014      7  2014-07-30  \n",
       "37254  40986607.0             NaN     False  2014      8  2014-08-01  \n",
       "38065  40986607.0             NaN     False  2014      8  2014-08-01  \n",
       "46884  40921657.0             NaN     False  2014      8  2014-08-04  \n",
       "46976  40986607.0             NaN     False  2014      8  2014-08-04  \n",
       "47622  40986607.0             NaN     False  2014      8  2014-08-04  \n",
       "54160  40921657.0             NaN     False  2014      8  2014-08-05  \n",
       "55041  40921657.0             NaN     False  2014      8  2014-08-05  "
      ]
     },
     "execution_count": 21,
     "metadata": {},
     "output_type": "execute_result"
    }
   ],
   "source": [
    "subset.loc[subset[\"WORK_NO\"]==\"ME007705\"].head(20)"
   ]
  },
  {
   "cell_type": "markdown",
   "id": "3a58ff05-7d5a-405f-bcdb-aa975fba648d",
   "metadata": {},
   "source": [
    "> Rather than having the averaged break time, it would have been better if we would have had information about when in the day was the break taken. For example - If shift was for 8 hours & break was taken for 30 minutes, then I would have liked to have the info about when the break was taken - example 6 hours into the shift"
   ]
  },
  {
   "cell_type": "markdown",
   "id": "c31cd379-7c83-4b02-8604-eeb251efecc2",
   "metadata": {},
   "source": [
    "Possible Features - \n",
    "1. Cumulative Sum of break time till the curent time\n",
    "2. If break was taken in current hour"
   ]
  },
  {
   "cell_type": "code",
   "execution_count": null,
   "id": "7391bf8e-de8c-425e-985f-6f4c98e44b44",
   "metadata": {},
   "outputs": [],
   "source": []
  },
  {
   "cell_type": "markdown",
   "id": "b4421c89-7f2e-47f9-9a8c-15cb43873ccc",
   "metadata": {},
   "source": [
    "## WORK_DESC"
   ]
  },
  {
   "cell_type": "code",
   "execution_count": 22,
   "id": "65b856f6-9f97-44c8-9fe6-bd1e5a098cd2",
   "metadata": {},
   "outputs": [],
   "source": [
    "subset[\"WORK_DESC\"] = subset[\"WORK_DESC\"].str.strip().str.upper()"
   ]
  },
  {
   "cell_type": "code",
   "execution_count": 23,
   "id": "71cf38de-e6f1-4dd5-ab1d-38b7181d8dbc",
   "metadata": {},
   "outputs": [
    {
     "data": {
      "text/plain": [
       "175786"
      ]
     },
     "execution_count": 23,
     "metadata": {},
     "output_type": "execute_result"
    }
   ],
   "source": [
    "subset[\"WORK_DESC\"].nunique()"
   ]
  },
  {
   "cell_type": "code",
   "execution_count": 24,
   "id": "787bed91-7fa4-4cfa-bccf-03f27bd697b6",
   "metadata": {},
   "outputs": [
    {
     "data": {
      "text/plain": [
       "TRAINING                                   319227\n",
       "ADMIN                                      204167\n",
       "TCS: POLE DISTRIBUTION                     145101\n",
       "NC- DISTRIBUTION STANDARD JOBS             114617\n",
       "TCS: CONDUCTOR                              99580\n",
       "                                            ...  \n",
       "DESIGN CONNECTION ASSETS NY014044               1\n",
       "HELI EW SUSPCLAMP IMPROPINST 24546 P196         1\n",
       "DESIGN CONNECTION ASSETS SY020720               1\n",
       "DESIGN WORK ORDER 1 (OPEX) MP167953             1\n",
       "DESIGN WORK ORDER 1 (OPEX) SP043304             1\n",
       "Name: WORK_DESC, Length: 175786, dtype: int64"
      ]
     },
     "execution_count": 24,
     "metadata": {},
     "output_type": "execute_result"
    }
   ],
   "source": [
    "subset[\"WORK_DESC\"].value_counts()"
   ]
  },
  {
   "cell_type": "markdown",
   "id": "6093b937-5c24-4a45-a167-419e1942a886",
   "metadata": {},
   "source": [
    "#### Splitting on `WORK ORDER`"
   ]
  },
  {
   "cell_type": "markdown",
   "id": "e4624a66-ba73-4736-9330-e842e3379828",
   "metadata": {},
   "source": [
    "Many of these `WORK_DESC` contains *WORK ORDER* at the end. But the main description is at the start of the sequence"
   ]
  },
  {
   "cell_type": "code",
   "execution_count": 25,
   "id": "636b1075-f7a4-46f1-a0df-2261a374ea39",
   "metadata": {},
   "outputs": [
    {
     "data": {
      "text/plain": [
       "DESIGN                            277019\n",
       "VALIDATION                          4431\n",
       "ADMIN                               2333\n",
       "SCOPING                             2181\n",
       "REVENUE ONLY                        2086\n",
       "SCHEDULING                           553\n",
       "ENTER                                517\n",
       "REVENUE                              314\n",
       "                                     261\n",
       "REGION NORTH - EMERGENCY             194\n",
       "NET OPS - CHARGEBLE                  148\n",
       "CONTRACTS MANAGEMENT                 124\n",
       "DESIGN MANAGEMENT                     59\n",
       "QT:ELEC                               46\n",
       "CLOSE OUT                             35\n",
       "QT PROT EMERGENCY : TEMP              35\n",
       "CB & RECLOSER SETTING CHANGES         29\n",
       "CANCELLATION                          21\n",
       "QT:68159 C/O FAULT                    15\n",
       "QT:EL C/O RAISE CALL OUT              14\n",
       "QT:68156 RAISE                        10\n",
       "QT:47574 F/U                           9\n",
       "QT:68160 FAULT                         9\n",
       "QT:ELEC CREATE                         8\n",
       "QT:ELEC C/O TX 3 TRIPPED C/O           7\n",
       "MP145266 DESIGN                        7\n",
       "TEX - ONSITE CLEARING                  4\n",
       "TRANSMISSION                           4\n",
       "QT:51553 C/O                           4\n",
       "PLEASE SEE                             1\n",
       "PROTECTION DESIGN                      1\n",
       "Name: WORK_DESC, dtype: int64"
      ]
     },
     "execution_count": 25,
     "metadata": {},
     "output_type": "execute_result"
    }
   ],
   "source": [
    "subset.loc[subset[\"WORK_DESC\"].str.contains(\"WORK ORDER\")][\"WORK_DESC\"].str.split(\"WORK ORDER\").str[0].value_counts()"
   ]
  },
  {
   "cell_type": "markdown",
   "id": "603cee57-127d-41c3-8ad2-267fe572d88a",
   "metadata": {},
   "source": [
    "Seeing it in full"
   ]
  },
  {
   "cell_type": "code",
   "execution_count": 26,
   "id": "5538e37e-e4ec-4577-80b4-c02fb4a9ef28",
   "metadata": {},
   "outputs": [],
   "source": [
    "subset[\"WORK_DESC\"] = subset[\"WORK_DESC\"].apply(lambda x: x.split(\"WORK ORDER\")[0])"
   ]
  },
  {
   "cell_type": "code",
   "execution_count": 27,
   "id": "989c2507-ef2f-4a76-b5f8-a41ebc05bd46",
   "metadata": {},
   "outputs": [
    {
     "data": {
      "text/plain": [
       "(137214, 0)"
      ]
     },
     "execution_count": 27,
     "metadata": {},
     "output_type": "execute_result"
    }
   ],
   "source": [
    "subset[\"WORK_DESC\"].nunique(), subset[\"WORK_DESC\"].isna().sum()"
   ]
  },
  {
   "cell_type": "code",
   "execution_count": 28,
   "id": "74d85b5e-d94e-4dd0-8a1c-ac04324b9f45",
   "metadata": {},
   "outputs": [
    {
     "data": {
      "text/plain": [
       "SP043170 MOORE ROAD DARDANUP S2               41\n",
       "NP027991 NEWCASTLE RD, NORTHAM                64\n",
       "MP162088 BENARA RD BEECHBORO                 324\n",
       "SERVICE PROVIDER MP159899                      4\n",
       "BCH/Z016:REPAIR FAULT INDICATOR               14\n",
       "DESIGN CONNECTION ASSETS NY015254              1\n",
       "TCS: SB101/74 - DAADENNING CREEK              36\n",
       "DESIGN CONNECTION ASSETS SY017463              2\n",
       "6306, 55, WHITE ST, BROOKTON                   4\n",
       "SUBSTATION PLANT PROCUREMENT - T0408944       69\n",
       "WPC429 MAJOR REPAIRS/INTRIM SERVICE           71\n",
       "QT:EL CC515 SENSITIVE EARTH FAULT ALARM       32\n",
       "REPLACE INVERTER IN CAB                        8\n",
       "PAR:REPLACE POLE 49192 P167                   28\n",
       "MUC/Z007:SNIPER:REPLACE WOOD POLE PWOD/P      41\n",
       "MQ037267 56 MOULDEN AVE YOKINE 6060            5\n",
       "MP161529 7 KALAMUNDA RD KALAMUNDA, DRD -      18\n",
       "A1 VEHICLE/PLANT SERVICE WPC 2124              1\n",
       "CLEARANCE ASSESSMENT                         185\n",
       "GTN/Z224:RPRF:PALLIATIVE REINFORCE POLE        6\n",
       "BEL/Z011:INSTALL ID LABEL                      1\n",
       "WE/Z019:INSTALL SAFETY BARRIER LV DANGER      18\n",
       "SR011553 N0384309-BUH517-MITIGATE UFRC (     144\n",
       "GTN/Z301:REPLACE GROUND STAY PWOD/PILS         2\n",
       "NQ012615 2026 QUELLINGTON RD MECKERING 6       2\n",
       "REPLACE INSULATOR T27699 P0214                 9\n",
       "QT:59622 RO 502.0 CANNOT BE OPERATED          17\n",
       "MOR/Z402:BFM:REPLACE HV TIES PWOD/PINT        26\n",
       "BTN/Z59:INSTALL POLE CAP                       6\n",
       "NETWORK PLANNING MP154915                     18\n",
       "DISTRIBUTION COMMISSIONING                    17\n",
       "R101 REPAIR ELECTRIC FENCE & EARTHING         27\n",
       "CVE/Z017: MAINTAIN SUBSTATION GROUNDS         13\n",
       "REPLACE M : 210M10938 - SO : 189194166         6\n",
       "QT:73628 HIGH LIMIT ALARM                     19\n",
       "6233, 10, PIONEER ST, BINNINGUP                7\n",
       "S/XTRAILER SAFETY CHECK.WPC1793.               5\n",
       "MP160233 L42 #5 RIGBY AVE, SPEARWOOD (F)       1\n",
       "DESIGN CONNECTION ASSETS MC011074             13\n",
       "BCH/Z006:REPLACE INTERMEDIATE POLE             3\n",
       "REPLACE POLE (14/15) 12417 P80                20\n",
       "VERT. INSULATOR REPLACE 196 R 8899            24\n",
       "QT:39856 C/O CHANGEOVER BOARD FAILURE         24\n",
       "MP156976 SMR - L91 WESTON ST, MADDINGTON      44\n",
       "TWR STAY UPGRADE 33259 P154 STAY 1             6\n",
       "NB/Z004:PTS EARTHNG INSPECTION FOR K1K7       12\n",
       "VALIDATION MF011293                            1\n",
       "WAR/Z47:REPLACE ANGLE POLE                     1\n",
       "A2 VEHICLE/PLANT SERVICEWPC764                 9\n",
       "ENB/Z106:WASH & SILICONE INSULATOR             5\n",
       "MP157395 CUSTOMER ISOLATION: PERTH (F)         2\n",
       "16/17 ANNUAL SWITCHING: WWF                   19\n",
       "QT:45317 RESISTANCE & GAS ANALYSIS            13\n",
       "NETWORK PLANNING MP181286                     16\n",
       "NETWORK PLANNING MP182060                      7\n",
       "REPLACE M: 410M99258 (SO: 234330964)           3\n",
       "DESIGN CONNECTION ASSETS NP027934              1\n",
       "ALB/Z83:PAR:REPLACE INTERMEDIATE POLE         14\n",
       "DESIGN INTERNAL MP176706                      15\n",
       "EW BROKEN 45617 P264                           4\n",
       "MP155384 32B SCRIVENER PL, HALLS HEAD          2\n",
       "REPLACE M: 410M90240 (SO: 234742235)           2\n",
       "QT:EL FAULTY OIL TEMPERATURE TRANSDUCER        9\n",
       "NETWORK PLANNING MP148205                      9\n",
       "A/Z011:INSTALL ID LABEL                        1\n",
       "R216-R149 CERAGON LINK FAULT                  25\n",
       "6530, 95, VOLUTE ST, SUNSET BEACH              1\n",
       "HV/LV/ACCEPTANCE TEST-WPC1065                  3\n",
       "WPC755 ENG CHECK LAMP                          1\n",
       "NP026322 LGA  COM 32A: L432 25 GILL ST M       6\n",
       "HINO FM 6X4 BRAKE CHAMBER CHECK WPC 2242       2\n",
       "PLANNING MANAGEMENT                          171\n",
       "6225, 75, THROSSELL ST, COLLIE                 1\n",
       "W/Z001:PAR:INSTALL ID LABEL                    3\n",
       "NETWORK PLANNING MP162375                     56\n",
       "MH/Z007:MM010750:REFER TO DESIGN            1545\n",
       "REPLACE M : 410AM114471 - SO : 189430393       4\n",
       "* REPAIRS AS PER IR 09914  WPC1998            14\n",
       "NTHM. FS TRANSPORT  SF J SHIPPARD              2\n",
       "HV TEST FOR SUBSTN CTS: MSS                   16\n",
       "BUN/Z01:RFR:REPLACE SECTIONALISER             66\n",
       "6530, 42, CROWTHERTON ST, BLUFF POINT          1\n",
       "BSN/Z21:REPLACE OUTRIGGER STAY PWOD/PTOF       4\n",
       "DESIGN CONNECTION ASSETS MY032778              8\n",
       "MP163059 11 KLEIN ST KARRINYUP                 2\n",
       "NA012869 RFR-4111-H 33KV RECL PE117/1 -        3\n",
       "YP/Z001:REPAIR CONDUIT TO PE CELL              7\n",
       "MR/Z15:REPLACE TRANSFORMER POLE               17\n",
       "NETWORK PLANNING MP168076                     18\n",
       "QT:73623 CB CANNOT CLOSE TEST LAB             15\n",
       "WAR/Z17:REPLACE TX POLE & TX                  42\n",
       "BTN/Z04:PAR:RE-STRAIN HV CONDUCTOR            17\n",
       "NP026234 LGA OH - UG: 63A-VINCENT ST WEB      16\n",
       "MP151655 39 OCHILTREE WAY KARDINYA            15\n",
       "MQ040050 394 ROBINSON AVE CLOVERDALE 610       6\n",
       "REPLACE M: 410M52459 (SO: 234758299)           4\n",
       "DESIGN CONNECTION ASSETS SY018243              1\n",
       "BSN/Z37:INSTALL POLE CAP PWOD/PSRV             3\n",
       "MP154274 LOT 452, 4 DRISCOLL WAY, MORLEY       2\n",
       "6271, 7, WEST RD, CAPEL                        6\n",
       "Name: WORK_DESC, dtype: int64"
      ]
     },
     "execution_count": 28,
     "metadata": {},
     "output_type": "execute_result"
    }
   ],
   "source": [
    "subset[\"WORK_DESC\"].value_counts().sample(n=100)"
   ]
  },
  {
   "cell_type": "markdown",
   "id": "57e69309-7b20-4ff4-9b08-c5647ffc7eca",
   "metadata": {},
   "source": [
    "REPAIR EARTH PWOD/PINT"
   ]
  },
  {
   "cell_type": "code",
   "execution_count": 39,
   "id": "689dfec5-3e77-4008-812a-2e5385208841",
   "metadata": {},
   "outputs": [
    {
     "data": {
      "text/plain": [
       "NETWORK PLANNING    45663\n",
       "Name: WORK_DESC, dtype: int64"
      ]
     },
     "execution_count": 39,
     "metadata": {},
     "output_type": "execute_result"
    }
   ],
   "source": [
    "subset.loc[subset[\"WORK_DESC\"].str.contains(\"NETWORK PLANNING\")][\"WORK_DESC\"].value_counts()"
   ]
  },
  {
   "cell_type": "code",
   "execution_count": null,
   "id": "195ebc8d-1a82-4be3-a766-5f53c7cca9e4",
   "metadata": {},
   "outputs": [],
   "source": []
  },
  {
   "cell_type": "markdown",
   "id": "3a544331-9881-43d6-8423-c99c1fd7c3cd",
   "metadata": {},
   "source": [
    "### Categorise *WORK_DESC*\n",
    "Utility Function to replace `WORK_DESC` based on text similarity"
   ]
  },
  {
   "cell_type": "code",
   "execution_count": 30,
   "id": "1d3858af-1c06-47e1-b108-8b87c34cae60",
   "metadata": {},
   "outputs": [],
   "source": [
    "def categorise_work_desc(data, pat):\n",
    "    temp = data.loc[data[\"WORK_DESC\"].str.contains(pat)]\n",
    "    print(f\"Pattern Matched: {temp.shape}\")\n",
    "    print(f\"Before: {data['WORK_DESC'].nunique()}\")\n",
    "    data.loc[temp.index, \"WORK_DESC\"] = pat\n",
    "    print(f\"After: {data['WORK_DESC'].nunique()}\")\n",
    "    return data"
   ]
  },
  {
   "cell_type": "code",
   "execution_count": null,
   "id": "bb6b74fd-e891-4aca-b298-9ef5b74ab345",
   "metadata": {},
   "outputs": [],
   "source": []
  },
  {
   "cell_type": "markdown",
   "id": "12c05de2-6e2a-4bee-81fd-cd620eda3912",
   "metadata": {},
   "source": [
    "1. DESIGN CONNECTION ASSETS"
   ]
  },
  {
   "cell_type": "code",
   "execution_count": 31,
   "id": "d1f825f5-24d3-4615-9a7c-183aba825d66",
   "metadata": {},
   "outputs": [
    {
     "name": "stdout",
     "output_type": "stream",
     "text": [
      "Pattern Matched: (84581, 12)\n",
      "Before: 137214\n",
      "After: 125707\n"
     ]
    }
   ],
   "source": [
    "subset = categorise_work_desc(subset, \"DESIGN CONNECTION ASSETS\")"
   ]
  },
  {
   "cell_type": "markdown",
   "id": "9a0f2b46-3ff9-4bfb-91e0-e6fb69f91262",
   "metadata": {},
   "source": [
    "2. NETWORK PLANNING"
   ]
  },
  {
   "cell_type": "code",
   "execution_count": 32,
   "id": "c2464da4-0a18-458c-8728-c7418395a300",
   "metadata": {},
   "outputs": [
    {
     "name": "stdout",
     "output_type": "stream",
     "text": [
      "Pattern Matched: (45663, 12)\n",
      "Before: 125707\n",
      "After: 124344\n"
     ]
    }
   ],
   "source": [
    "subset = categorise_work_desc(subset, \"NETWORK PLANNING\")"
   ]
  },
  {
   "cell_type": "markdown",
   "id": "9ea98260-a4b5-4a7e-a419-b4a7117ec1bb",
   "metadata": {},
   "source": [
    "3. DESIGN INTERNAL"
   ]
  },
  {
   "cell_type": "code",
   "execution_count": 33,
   "id": "cb3cd0f2-8997-44c1-bbd3-8bef809bcc13",
   "metadata": {},
   "outputs": [
    {
     "name": "stdout",
     "output_type": "stream",
     "text": [
      "Pattern Matched: (30834, 12)\n",
      "Before: 124344\n",
      "After: 122380\n"
     ]
    }
   ],
   "source": [
    "subset = categorise_work_desc(subset, \"DESIGN INTERNAL\")"
   ]
  },
  {
   "cell_type": "markdown",
   "id": "4021994e-f96b-4b99-b237-c2884b823901",
   "metadata": {},
   "source": [
    "4. REPLACE TYRES"
   ]
  },
  {
   "cell_type": "code",
   "execution_count": 34,
   "id": "3166a7d3-46b5-4224-aea7-766e39c4c484",
   "metadata": {},
   "outputs": [
    {
     "name": "stdout",
     "output_type": "stream",
     "text": [
      "BEFORE: 122380\n",
      "AFTER: 122172\n"
     ]
    }
   ],
   "source": [
    "print(f\"BEFORE: {subset['WORK_DESC'].nunique()}\")\n",
    "subset.loc[subset[\"WORK_DESC\"].str.contains(pat=r\"(?=.*REPLACE)(?=.*TYRES)\", regex=True), \"WORK_DESC\"] = \"REPLACE TYRES\"\n",
    "print(f\"AFTER: {subset['WORK_DESC'].nunique()}\")"
   ]
  },
  {
   "cell_type": "markdown",
   "id": "19f277f2-4535-48c0-bb29-03ca056d708b",
   "metadata": {},
   "source": [
    "5. REPLACE WOOD POLE PWOD/PINT"
   ]
  },
  {
   "cell_type": "code",
   "execution_count": 35,
   "id": "206f5496-4f89-4d80-8048-9dfac2ed4784",
   "metadata": {},
   "outputs": [
    {
     "name": "stdout",
     "output_type": "stream",
     "text": [
      "Pattern Matched: (163066, 12)\n",
      "Before: 122172\n",
      "After: 121556\n"
     ]
    }
   ],
   "source": [
    "subset = categorise_work_desc(subset, \"REPLACE WOOD POLE PWOD/PINT\")"
   ]
  },
  {
   "cell_type": "markdown",
   "id": "ef7aff2e-0906-4183-b795-4ee7dc078a15",
   "metadata": {},
   "source": [
    "6. DESIGN SYSTEM ASSETS"
   ]
  },
  {
   "cell_type": "code",
   "execution_count": 36,
   "id": "2a0d4e94-7da5-4835-86db-83fafe240f24",
   "metadata": {},
   "outputs": [
    {
     "name": "stdout",
     "output_type": "stream",
     "text": [
      "Pattern Matched: (1071, 12)\n",
      "Before: 121556\n",
      "After: 121326\n"
     ]
    }
   ],
   "source": [
    "subset = categorise_work_desc(subset, \"DESIGN SYSTEM ASSETS\")"
   ]
  },
  {
   "cell_type": "markdown",
   "id": "f1619469-9a95-41de-adbc-44dcae0a9252",
   "metadata": {},
   "source": [
    "7. REPAIR EARTH PWOD/PINT"
   ]
  },
  {
   "cell_type": "code",
   "execution_count": 38,
   "id": "92274970-1ca0-49ea-9a54-dfa49574aae6",
   "metadata": {},
   "outputs": [
    {
     "name": "stdout",
     "output_type": "stream",
     "text": [
      "Pattern Matched: (1476, 12)\n",
      "Before: 121326\n",
      "After: 121230\n"
     ]
    }
   ],
   "source": [
    "subset = categorise_work_desc(subset, \"REPAIR EARTH PWOD/PINT\")"
   ]
  },
  {
   "cell_type": "code",
   "execution_count": null,
   "id": "3f6d3f63-92d0-48a4-a403-958a4ecc1fb1",
   "metadata": {},
   "outputs": [],
   "source": []
  },
  {
   "cell_type": "markdown",
   "id": "a81afdf1-29d0-460c-a800-9440068fd784",
   "metadata": {},
   "source": [
    "#### Relationship with `WORK_NO`"
   ]
  },
  {
   "cell_type": "code",
   "execution_count": 39,
   "id": "6aa58915-3607-4199-83a9-8f4ea21677ea",
   "metadata": {},
   "outputs": [
    {
     "data": {
      "text/plain": [
       "WORK_NO   WORK_DESC                               \n",
       "00332105  DATA MAINTENENCE                            55568\n",
       "          VALIDATING...                                  18\n",
       "00350424  NP DX POLICY,STRATEGY DEVELOPT & IMPLENT    28275\n",
       "          VALIDATING...                                   9\n",
       "00350425  NP DX PROCEDURES & STDS DEVELOPMENT          1013\n",
       "                                                      ...  \n",
       "Y0294800  WAR/Z45:BFM:REPLACE WOOD POLE PWOD/PTOF         4\n",
       "Y0294802  VP/Z002:PAR:REPLACE LV TIES PWOD/PINT           2\n",
       "Y0294844  K/Z012:BFM:REPLACE HV TIES PWOD/PINT            2\n",
       "Y0294852  BSN/Z35:REPLACE OVERHEAD SERVICE CUSA/CU        2\n",
       "`         QT:13418 415V STANDBY SUPPLY FAIL ALARM         1\n",
       "Name: WORK_DESC, Length: 495971, dtype: int64"
      ]
     },
     "execution_count": 39,
     "metadata": {},
     "output_type": "execute_result"
    }
   ],
   "source": [
    "subset.groupby(\"WORK_NO\")[\"WORK_DESC\"].value_counts()"
   ]
  },
  {
   "cell_type": "markdown",
   "id": "8e6fa356-1fcd-44ab-bc46-75c77662bd19",
   "metadata": {},
   "source": [
    "There isn't one-to-one mapping between `WORKNO` & `WORK_DESC`. Categorisation of `WORK_DESC` is needed. Post that `WORK_NO` can be ignored"
   ]
  },
  {
   "cell_type": "code",
   "execution_count": null,
   "id": "2ef508d3-eb14-44b2-8c97-66ae02572df1",
   "metadata": {},
   "outputs": [],
   "source": []
  },
  {
   "cell_type": "markdown",
   "id": "656e0077-883a-4a24-a70f-e1aa626e4e22",
   "metadata": {},
   "source": [
    "## EmpNo_Anon\n",
    "\n",
    "Anonomised Employee identifier"
   ]
  },
  {
   "cell_type": "code",
   "execution_count": 40,
   "id": "4dc40223-8e1a-4f77-933a-3ddddb93559d",
   "metadata": {},
   "outputs": [
    {
     "data": {
      "text/plain": [
       "38478632.0    12698\n",
       "40859157.0    12042\n",
       "38513682.0    11911\n",
       "41032807.0    11631\n",
       "40922307.0    11622\n",
       "              ...  \n",
       "41097957.0        5\n",
       "38482332.0        5\n",
       "40926557.0        3\n",
       "40859957.0        3\n",
       "41002457.0        2\n",
       "Name: EmpNo_Anon, Length: 1948, dtype: int64"
      ]
     },
     "execution_count": 40,
     "metadata": {},
     "output_type": "execute_result"
    }
   ],
   "source": [
    "subset[\"EmpNo_Anon\"].value_counts()"
   ]
  },
  {
   "cell_type": "code",
   "execution_count": 41,
   "id": "120395af-9b98-443a-aa09-c906d8b0bd34",
   "metadata": {},
   "outputs": [
    {
     "data": {
      "text/plain": [
       "EmpNo_Anon\n",
       "38321907.0    [2014-07-28, 2014-07-29, 2014-07-30, 2014-07-3...\n",
       "38323232.0    [2014-07-28, 2014-07-29, 2014-07-30, 2014-07-3...\n",
       "38325082.0    [2014-07-27, 2014-07-28, 2014-07-29, 2014-07-3...\n",
       "38325507.0    [2014-07-28, 2014-07-29, 2014-07-30, 2014-07-3...\n",
       "38325582.0    [2014-08-18, 2014-08-19, 2014-08-20, 2014-08-2...\n",
       "                                    ...                        \n",
       "41206882.0    [2018-10-29, 2018-10-30, 2018-10-31, 2018-11-0...\n",
       "41206957.0    [2018-10-29, 2018-10-30, 2018-10-31, 2018-11-0...\n",
       "41207382.0    [2018-11-05, 2018-11-06, 2018-11-07, 2018-11-0...\n",
       "41207482.0    [2018-11-05, 2018-11-06, 2018-11-07, 2018-11-0...\n",
       "41207682.0    [2018-11-13, 2018-11-14, 2018-11-15, 2018-11-1...\n",
       "Name: Date, Length: 1948, dtype: object"
      ]
     },
     "execution_count": 41,
     "metadata": {},
     "output_type": "execute_result"
    }
   ],
   "source": [
    "subset.groupby(\"EmpNo_Anon\")[\"Date\"].unique()"
   ]
  },
  {
   "cell_type": "code",
   "execution_count": null,
   "id": "23b75b7e-2210-4cca-a496-c24b410c4867",
   "metadata": {},
   "outputs": [],
   "source": []
  },
  {
   "cell_type": "markdown",
   "id": "dbcb4c6a-e0b6-491b-85a4-8630fc7cf6ff",
   "metadata": {},
   "source": [
    "## Incident_Number"
   ]
  },
  {
   "cell_type": "code",
   "execution_count": 42,
   "id": "3b1f91a5-aeeb-4096-ab2a-d5f927e1f2fa",
   "metadata": {},
   "outputs": [
    {
     "data": {
      "text/plain": [
       "INC1033637    2\n",
       "INC1035464    2\n",
       "INC1013943    2\n",
       "INC1032439    1\n",
       "INC1012958    1\n",
       "             ..\n",
       "INC1016248    1\n",
       "INC1014360    1\n",
       "INC1024525    1\n",
       "INC1026214    1\n",
       "INC1031417    1\n",
       "Name: Incident_Number, Length: 417, dtype: int64"
      ]
     },
     "execution_count": 42,
     "metadata": {},
     "output_type": "execute_result"
    }
   ],
   "source": [
    "subset[\"Incident_Number\"].value_counts()"
   ]
  },
  {
   "cell_type": "code",
   "execution_count": null,
   "id": "c9b006f2-886d-4818-81ba-11d9d3058140",
   "metadata": {},
   "outputs": [],
   "source": []
  },
  {
   "cell_type": "markdown",
   "id": "7f2788a3-0a8e-4f57-be38-684249f4d927",
   "metadata": {},
   "source": [
    "## incident"
   ]
  },
  {
   "cell_type": "code",
   "execution_count": 43,
   "id": "c7b1ccfc-bfb5-4049-91dc-ce968c1cd0e3",
   "metadata": {},
   "outputs": [
    {
     "data": {
      "text/plain": [
       "False    9999580\n",
       "True         420\n",
       "Name: incident, dtype: int64"
      ]
     },
     "execution_count": 43,
     "metadata": {},
     "output_type": "execute_result"
    }
   ],
   "source": [
    "subset[\"incident\"].value_counts()"
   ]
  },
  {
   "cell_type": "code",
   "execution_count": null,
   "id": "56851151-1170-4a37-9c2b-254c69e6da03",
   "metadata": {},
   "outputs": [],
   "source": []
  },
  {
   "cell_type": "markdown",
   "id": "be2d069b-6f08-4e96-a9a8-5377386ba2d7",
   "metadata": {},
   "source": [
    "## Feature Engineering"
   ]
  },
  {
   "cell_type": "markdown",
   "id": "632d14db-cd63-4e6a-a451-1855260f5c08",
   "metadata": {},
   "source": [
    "### PERIOD\n",
    "1. Late Night - 12AM to 4AM\n",
    "2. Early Morning - 4AM to 8AM\n",
    "3. Morning - 8AM to 12PM\n",
    "4. Noon - 12PM to 4PM\n",
    "5. Evening - 4PM to 8PM\n",
    "6. Night - 8PM to 12AM"
   ]
  },
  {
   "cell_type": "code",
   "execution_count": 44,
   "id": "14782bed-b235-4144-a85c-769f5575ccf3",
   "metadata": {},
   "outputs": [],
   "source": [
    "bins = [0, 4, 8, 12, 16, 20, 24]\n",
    "labels = [\"Late Night\", \"Early Morning\", \"Morning\", \"Noon\", \"Evening\", \"Night\"]"
   ]
  },
  {
   "cell_type": "code",
   "execution_count": 45,
   "id": "1ee21b2b-de89-4675-bc29-78b3f4fc35ca",
   "metadata": {},
   "outputs": [],
   "source": [
    "subset[\"period\"] = pd.cut(subset[\"Work_DateTime\"].dt.hour, bins=bins, labels=labels, include_lowest=True)"
   ]
  },
  {
   "cell_type": "code",
   "execution_count": 46,
   "id": "9f8c603e-d9c0-4563-80f4-de2cffc46e18",
   "metadata": {},
   "outputs": [
    {
     "data": {
      "text/plain": [
       "Morning          4155229\n",
       "Noon             3316971\n",
       "Early Morning    1988156\n",
       "Evening           352231\n",
       "Night              99338\n",
       "Late Night         88075\n",
       "Name: period, dtype: int64"
      ]
     },
     "execution_count": 46,
     "metadata": {},
     "output_type": "execute_result"
    }
   ],
   "source": [
    "subset[\"period\"].value_counts()"
   ]
  },
  {
   "cell_type": "code",
   "execution_count": null,
   "id": "833bff29-f071-44fa-8283-9171efe0f943",
   "metadata": {},
   "outputs": [],
   "source": []
  },
  {
   "cell_type": "markdown",
   "id": "cad9cf09-d3a7-4a85-9e24-2ab53ea0d8e3",
   "metadata": {},
   "source": [
    "### SEASON\n",
    "[Perth Weather](https://www.australia.com/en-in/facts-and-planning/weather-in-australia/perth-weather.html)\n",
    "\n",
    "1. Summer (December – February)\n",
    "2. Autumn (March – May)\n",
    "3. Winter (June – August)\n",
    "4. Spring (September – November)"
   ]
  },
  {
   "cell_type": "code",
   "execution_count": 47,
   "id": "38faed50-544b-4d9a-809c-09b1a974adab",
   "metadata": {},
   "outputs": [],
   "source": [
    "subset.loc[subset[\"Month\"].isin([12, 1, 2]), \"season\"] = \"Summer\"\n",
    "subset.loc[subset[\"Month\"].isin([3, 4, 5]), \"season\"] = \"Autumn\"\n",
    "subset.loc[subset[\"Month\"].isin([6, 7, 8]), \"season\"] = \"Winter\"\n",
    "subset.loc[subset[\"Month\"].isin([9, 10, 11]), \"season\"] = \"Spring\""
   ]
  },
  {
   "cell_type": "code",
   "execution_count": 49,
   "id": "bd4c42ea-9467-414a-81cc-118bb3cda5ff",
   "metadata": {},
   "outputs": [
    {
     "data": {
      "text/plain": [
       "Spring    2934468\n",
       "Winter    2568116\n",
       "Autumn    2321526\n",
       "Summer    2175890\n",
       "Name: season, dtype: int64"
      ]
     },
     "execution_count": 49,
     "metadata": {},
     "output_type": "execute_result"
    }
   ],
   "source": [
    "subset[\"season\"].value_counts()"
   ]
  },
  {
   "cell_type": "code",
   "execution_count": null,
   "id": "69511520-824f-42f9-9c7c-3d2e24a21ece",
   "metadata": {},
   "outputs": [],
   "source": []
  },
  {
   "cell_type": "markdown",
   "id": "543ac95d-0575-4a9a-a435-92c71caeac2d",
   "metadata": {},
   "source": [
    "### DAYLIGHT SAVING\n",
    "\n",
    "No. Daylight savings is not observed in Western Australia. The time zone in Western Australia is Australian Western Standard Time (AWST), UTC +8."
   ]
  },
  {
   "cell_type": "code",
   "execution_count": null,
   "id": "a89fcaba-07fe-4567-b77d-e251d880ef05",
   "metadata": {},
   "outputs": [],
   "source": []
  },
  {
   "cell_type": "markdown",
   "id": "c71c8605-ea46-4adc-9637-4e957c11d2e9",
   "metadata": {},
   "source": [
    "### DAY OF THE WEEK"
   ]
  },
  {
   "cell_type": "code",
   "execution_count": 50,
   "id": "34903c52-76f3-470a-ad2b-1f9c72fb9385",
   "metadata": {},
   "outputs": [],
   "source": [
    "subset[\"day_of_week\"] = pd.to_datetime(subset[\"Work_DateTime\"]).dt.dayofweek"
   ]
  },
  {
   "cell_type": "code",
   "execution_count": null,
   "id": "f0c3333b-889a-45aa-a31c-0d87080216d0",
   "metadata": {},
   "outputs": [],
   "source": []
  },
  {
   "cell_type": "markdown",
   "id": "d47c71cf-63f7-4383-af11-c6b983954c08",
   "metadata": {},
   "source": [
    "### SHIFT HOUR\n",
    "Which hour in the shift are we talking about?"
   ]
  },
  {
   "cell_type": "code",
   "execution_count": 124,
   "id": "77bb9cb3-2d76-4ee5-bbed-3d68a101c3ba",
   "metadata": {},
   "outputs": [],
   "source": [
    "temp = subset.iloc[60:120]"
   ]
  },
  {
   "cell_type": "code",
   "execution_count": 125,
   "id": "91f3f35b-2d14-4a43-a6bf-8d4dd3463a34",
   "metadata": {},
   "outputs": [],
   "source": [
    "def get_shift_hour(group):\n",
    "    group[\"shift_hour\"] = group[\"Work_DateTime\"] - group.iloc[0][\"Work_DateTime\"]\n",
    "    return group"
   ]
  },
  {
   "cell_type": "code",
   "execution_count": 126,
   "id": "6cd8502c-d100-4b38-a215-dfd0fa763a64",
   "metadata": {},
   "outputs": [],
   "source": [
    "def get_date_group(group):\n",
    "    return group.groupby(\"Date\").apply(get_shift_hour)"
   ]
  },
  {
   "cell_type": "code",
   "execution_count": 127,
   "id": "8f393f7f-40d9-489c-bbb7-3622baed9271",
   "metadata": {},
   "outputs": [],
   "source": [
    "temp = temp.groupby(\"EmpNo_Anon\").apply(get_date_group)[[\"Work_DateTime\", \"EmpNo_Anon\", \"Date\", \"shift_hour\"]]"
   ]
  },
  {
   "cell_type": "code",
   "execution_count": 129,
   "id": "3f4818bc-049b-49fe-b0b4-ead10b38a334",
   "metadata": {},
   "outputs": [],
   "source": [
    "temp[\"shift_hour\"] = temp[\"shift_hour\"].dt.seconds//3600"
   ]
  },
  {
   "cell_type": "code",
   "execution_count": 130,
   "id": "36f70830-f19e-4294-b06e-5442ceae9595",
   "metadata": {},
   "outputs": [
    {
     "data": {
      "text/html": [
       "<div>\n",
       "<style scoped>\n",
       "    .dataframe tbody tr th:only-of-type {\n",
       "        vertical-align: middle;\n",
       "    }\n",
       "\n",
       "    .dataframe tbody tr th {\n",
       "        vertical-align: top;\n",
       "    }\n",
       "\n",
       "    .dataframe thead th {\n",
       "        text-align: right;\n",
       "    }\n",
       "</style>\n",
       "<table border=\"1\" class=\"dataframe\">\n",
       "  <thead>\n",
       "    <tr style=\"text-align: right;\">\n",
       "      <th></th>\n",
       "      <th>Work_DateTime</th>\n",
       "      <th>EmpNo_Anon</th>\n",
       "      <th>Date</th>\n",
       "      <th>shift_hour</th>\n",
       "    </tr>\n",
       "  </thead>\n",
       "  <tbody>\n",
       "    <tr>\n",
       "      <th>60</th>\n",
       "      <td>2014-06-18 14:00:00</td>\n",
       "      <td>40912482.0</td>\n",
       "      <td>2014-06-18</td>\n",
       "      <td>0</td>\n",
       "    </tr>\n",
       "    <tr>\n",
       "      <th>61</th>\n",
       "      <td>2014-06-18 15:00:00</td>\n",
       "      <td>40912482.0</td>\n",
       "      <td>2014-06-18</td>\n",
       "      <td>1</td>\n",
       "    </tr>\n",
       "    <tr>\n",
       "      <th>62</th>\n",
       "      <td>2014-06-18 15:00:00</td>\n",
       "      <td>41062207.0</td>\n",
       "      <td>2014-06-18</td>\n",
       "      <td>0</td>\n",
       "    </tr>\n",
       "    <tr>\n",
       "      <th>63</th>\n",
       "      <td>2014-06-19 09:00:00</td>\n",
       "      <td>40912482.0</td>\n",
       "      <td>2014-06-19</td>\n",
       "      <td>0</td>\n",
       "    </tr>\n",
       "    <tr>\n",
       "      <th>64</th>\n",
       "      <td>2014-06-19 10:00:00</td>\n",
       "      <td>40912482.0</td>\n",
       "      <td>2014-06-19</td>\n",
       "      <td>1</td>\n",
       "    </tr>\n",
       "    <tr>\n",
       "      <th>65</th>\n",
       "      <td>2014-06-19 11:00:00</td>\n",
       "      <td>40912482.0</td>\n",
       "      <td>2014-06-19</td>\n",
       "      <td>2</td>\n",
       "    </tr>\n",
       "    <tr>\n",
       "      <th>66</th>\n",
       "      <td>2014-06-19 12:00:00</td>\n",
       "      <td>40912482.0</td>\n",
       "      <td>2014-06-19</td>\n",
       "      <td>3</td>\n",
       "    </tr>\n",
       "    <tr>\n",
       "      <th>67</th>\n",
       "      <td>2014-06-19 13:00:00</td>\n",
       "      <td>40912482.0</td>\n",
       "      <td>2014-06-19</td>\n",
       "      <td>4</td>\n",
       "    </tr>\n",
       "    <tr>\n",
       "      <th>68</th>\n",
       "      <td>2014-06-19 14:00:00</td>\n",
       "      <td>40912482.0</td>\n",
       "      <td>2014-06-19</td>\n",
       "      <td>5</td>\n",
       "    </tr>\n",
       "    <tr>\n",
       "      <th>69</th>\n",
       "      <td>2014-06-20 09:00:00</td>\n",
       "      <td>40912482.0</td>\n",
       "      <td>2014-06-20</td>\n",
       "      <td>0</td>\n",
       "    </tr>\n",
       "    <tr>\n",
       "      <th>70</th>\n",
       "      <td>2014-06-20 10:00:00</td>\n",
       "      <td>40912482.0</td>\n",
       "      <td>2014-06-20</td>\n",
       "      <td>1</td>\n",
       "    </tr>\n",
       "    <tr>\n",
       "      <th>71</th>\n",
       "      <td>2014-06-20 11:00:00</td>\n",
       "      <td>40912482.0</td>\n",
       "      <td>2014-06-20</td>\n",
       "      <td>2</td>\n",
       "    </tr>\n",
       "    <tr>\n",
       "      <th>72</th>\n",
       "      <td>2014-06-20 12:00:00</td>\n",
       "      <td>40912482.0</td>\n",
       "      <td>2014-06-20</td>\n",
       "      <td>3</td>\n",
       "    </tr>\n",
       "    <tr>\n",
       "      <th>73</th>\n",
       "      <td>2014-06-20 13:00:00</td>\n",
       "      <td>40912482.0</td>\n",
       "      <td>2014-06-20</td>\n",
       "      <td>4</td>\n",
       "    </tr>\n",
       "    <tr>\n",
       "      <th>74</th>\n",
       "      <td>2014-06-20 14:00:00</td>\n",
       "      <td>40912482.0</td>\n",
       "      <td>2014-06-20</td>\n",
       "      <td>5</td>\n",
       "    </tr>\n",
       "    <tr>\n",
       "      <th>75</th>\n",
       "      <td>2014-06-20 15:00:00</td>\n",
       "      <td>40912482.0</td>\n",
       "      <td>2014-06-20</td>\n",
       "      <td>6</td>\n",
       "    </tr>\n",
       "    <tr>\n",
       "      <th>76</th>\n",
       "      <td>2014-06-20 16:00:00</td>\n",
       "      <td>40912482.0</td>\n",
       "      <td>2014-06-20</td>\n",
       "      <td>7</td>\n",
       "    </tr>\n",
       "    <tr>\n",
       "      <th>77</th>\n",
       "      <td>2014-06-24 15:00:00</td>\n",
       "      <td>41062207.0</td>\n",
       "      <td>2014-06-24</td>\n",
       "      <td>0</td>\n",
       "    </tr>\n",
       "    <tr>\n",
       "      <th>78</th>\n",
       "      <td>2014-06-24 16:00:00</td>\n",
       "      <td>41062207.0</td>\n",
       "      <td>2014-06-24</td>\n",
       "      <td>1</td>\n",
       "    </tr>\n",
       "    <tr>\n",
       "      <th>79</th>\n",
       "      <td>2014-06-26 15:00:00</td>\n",
       "      <td>41062207.0</td>\n",
       "      <td>2014-06-26</td>\n",
       "      <td>0</td>\n",
       "    </tr>\n",
       "  </tbody>\n",
       "</table>\n",
       "</div>"
      ],
      "text/plain": [
       "         Work_DateTime  EmpNo_Anon        Date  shift_hour\n",
       "60 2014-06-18 14:00:00  40912482.0  2014-06-18           0\n",
       "61 2014-06-18 15:00:00  40912482.0  2014-06-18           1\n",
       "62 2014-06-18 15:00:00  41062207.0  2014-06-18           0\n",
       "63 2014-06-19 09:00:00  40912482.0  2014-06-19           0\n",
       "64 2014-06-19 10:00:00  40912482.0  2014-06-19           1\n",
       "65 2014-06-19 11:00:00  40912482.0  2014-06-19           2\n",
       "66 2014-06-19 12:00:00  40912482.0  2014-06-19           3\n",
       "67 2014-06-19 13:00:00  40912482.0  2014-06-19           4\n",
       "68 2014-06-19 14:00:00  40912482.0  2014-06-19           5\n",
       "69 2014-06-20 09:00:00  40912482.0  2014-06-20           0\n",
       "70 2014-06-20 10:00:00  40912482.0  2014-06-20           1\n",
       "71 2014-06-20 11:00:00  40912482.0  2014-06-20           2\n",
       "72 2014-06-20 12:00:00  40912482.0  2014-06-20           3\n",
       "73 2014-06-20 13:00:00  40912482.0  2014-06-20           4\n",
       "74 2014-06-20 14:00:00  40912482.0  2014-06-20           5\n",
       "75 2014-06-20 15:00:00  40912482.0  2014-06-20           6\n",
       "76 2014-06-20 16:00:00  40912482.0  2014-06-20           7\n",
       "77 2014-06-24 15:00:00  41062207.0  2014-06-24           0\n",
       "78 2014-06-24 16:00:00  41062207.0  2014-06-24           1\n",
       "79 2014-06-26 15:00:00  41062207.0  2014-06-26           0"
      ]
     },
     "execution_count": 130,
     "metadata": {},
     "output_type": "execute_result"
    }
   ],
   "source": [
    "temp.head(20)"
   ]
  },
  {
   "cell_type": "markdown",
   "id": "2f557904-adbc-4855-ab62-9bc51e933cfc",
   "metadata": {},
   "source": [
    "Groupby operations are taking too long"
   ]
  },
  {
   "cell_type": "code",
   "execution_count": null,
   "id": "42250bbb-4148-4253-8c03-359eb781a4a8",
   "metadata": {},
   "outputs": [],
   "source": []
  },
  {
   "cell_type": "markdown",
   "id": "433ba99a-3608-479d-b679-f9983116fb0e",
   "metadata": {},
   "source": [
    "### GAP BETWEEN WORKING DAYS"
   ]
  },
  {
   "cell_type": "code",
   "execution_count": 131,
   "id": "72379048-70d6-4e3a-808d-893ed4ecc139",
   "metadata": {},
   "outputs": [],
   "source": [
    "subset[\"gap\"] = subset.groupby(\"EmpNo_Anon\")[\"Date\"].diff()"
   ]
  },
  {
   "cell_type": "code",
   "execution_count": 132,
   "id": "35437aaf-6299-44a2-84a3-6268bc3fdedb",
   "metadata": {},
   "outputs": [],
   "source": [
    "# 1 is to offset change in consecutive days\n",
    "# subset[\"Gap\"] = subset[\"Gap\"] - timedelta(days=1)"
   ]
  },
  {
   "cell_type": "code",
   "execution_count": 133,
   "id": "d10a2761-6cca-4857-a203-9fb9305e5631",
   "metadata": {},
   "outputs": [
    {
     "data": {
      "text/html": [
       "<div>\n",
       "<style scoped>\n",
       "    .dataframe tbody tr th:only-of-type {\n",
       "        vertical-align: middle;\n",
       "    }\n",
       "\n",
       "    .dataframe tbody tr th {\n",
       "        vertical-align: top;\n",
       "    }\n",
       "\n",
       "    .dataframe thead th {\n",
       "        text-align: right;\n",
       "    }\n",
       "</style>\n",
       "<table border=\"1\" class=\"dataframe\">\n",
       "  <thead>\n",
       "    <tr style=\"text-align: right;\">\n",
       "      <th></th>\n",
       "      <th>Work_DateTime</th>\n",
       "      <th>TIME_TYPE</th>\n",
       "      <th>WORK_NO</th>\n",
       "      <th>WORK_DESC</th>\n",
       "      <th>FUNC_CAT</th>\n",
       "      <th>TOT_BRK_TM</th>\n",
       "      <th>EmpNo_Anon</th>\n",
       "      <th>Incident_Number</th>\n",
       "      <th>incident</th>\n",
       "      <th>Year</th>\n",
       "      <th>Month</th>\n",
       "      <th>Date</th>\n",
       "      <th>period</th>\n",
       "      <th>season</th>\n",
       "      <th>day_of_week</th>\n",
       "      <th>gap</th>\n",
       "    </tr>\n",
       "  </thead>\n",
       "  <tbody>\n",
       "    <tr>\n",
       "      <th>53</th>\n",
       "      <td>2014-06-17 15:00:00</td>\n",
       "      <td>Overtime</td>\n",
       "      <td>4283069</td>\n",
       "      <td>VALIDATING...</td>\n",
       "      <td>Operational</td>\n",
       "      <td>0.0</td>\n",
       "      <td>41062207.0</td>\n",
       "      <td>NaN</td>\n",
       "      <td>False</td>\n",
       "      <td>2014</td>\n",
       "      <td>6</td>\n",
       "      <td>2014-06-17</td>\n",
       "      <td>Noon</td>\n",
       "      <td>Winter</td>\n",
       "      <td>1</td>\n",
       "      <td>NaT</td>\n",
       "    </tr>\n",
       "    <tr>\n",
       "      <th>54</th>\n",
       "      <td>2014-06-17 16:00:00</td>\n",
       "      <td>Overtime</td>\n",
       "      <td>4283069</td>\n",
       "      <td>VALIDATING...</td>\n",
       "      <td>Operational</td>\n",
       "      <td>0.0</td>\n",
       "      <td>41062207.0</td>\n",
       "      <td>NaN</td>\n",
       "      <td>False</td>\n",
       "      <td>2014</td>\n",
       "      <td>6</td>\n",
       "      <td>2014-06-17</td>\n",
       "      <td>Noon</td>\n",
       "      <td>Winter</td>\n",
       "      <td>1</td>\n",
       "      <td>0 days</td>\n",
       "    </tr>\n",
       "    <tr>\n",
       "      <th>62</th>\n",
       "      <td>2014-06-18 15:00:00</td>\n",
       "      <td>Overtime</td>\n",
       "      <td>4283069</td>\n",
       "      <td>Q1:BYF/Z002:ZR03:REPLACE INTER POLE</td>\n",
       "      <td>Operational</td>\n",
       "      <td>0.0</td>\n",
       "      <td>41062207.0</td>\n",
       "      <td>NaN</td>\n",
       "      <td>False</td>\n",
       "      <td>2014</td>\n",
       "      <td>6</td>\n",
       "      <td>2014-06-18</td>\n",
       "      <td>Noon</td>\n",
       "      <td>Winter</td>\n",
       "      <td>2</td>\n",
       "      <td>1 days</td>\n",
       "    </tr>\n",
       "    <tr>\n",
       "      <th>77</th>\n",
       "      <td>2014-06-24 15:00:00</td>\n",
       "      <td>Overtime</td>\n",
       "      <td>4594215</td>\n",
       "      <td>WCE BRIDGETOWN 242886 LABOUR 13/14</td>\n",
       "      <td>Operational</td>\n",
       "      <td>0.0</td>\n",
       "      <td>41062207.0</td>\n",
       "      <td>NaN</td>\n",
       "      <td>False</td>\n",
       "      <td>2014</td>\n",
       "      <td>6</td>\n",
       "      <td>2014-06-24</td>\n",
       "      <td>Noon</td>\n",
       "      <td>Winter</td>\n",
       "      <td>1</td>\n",
       "      <td>6 days</td>\n",
       "    </tr>\n",
       "    <tr>\n",
       "      <th>78</th>\n",
       "      <td>2014-06-24 16:00:00</td>\n",
       "      <td>Overtime</td>\n",
       "      <td>4594215</td>\n",
       "      <td>WCE BRIDGETOWN 242886 LABOUR 13/14</td>\n",
       "      <td>Operational</td>\n",
       "      <td>0.0</td>\n",
       "      <td>41062207.0</td>\n",
       "      <td>NaN</td>\n",
       "      <td>False</td>\n",
       "      <td>2014</td>\n",
       "      <td>6</td>\n",
       "      <td>2014-06-24</td>\n",
       "      <td>Noon</td>\n",
       "      <td>Winter</td>\n",
       "      <td>1</td>\n",
       "      <td>0 days</td>\n",
       "    </tr>\n",
       "    <tr>\n",
       "      <th>79</th>\n",
       "      <td>2014-06-26 15:00:00</td>\n",
       "      <td>Overtime</td>\n",
       "      <td>4594215</td>\n",
       "      <td>WCE BRIDGETOWN 242886 LABOUR 13/14</td>\n",
       "      <td>Operational</td>\n",
       "      <td>0.0</td>\n",
       "      <td>41062207.0</td>\n",
       "      <td>NaN</td>\n",
       "      <td>False</td>\n",
       "      <td>2014</td>\n",
       "      <td>6</td>\n",
       "      <td>2014-06-26</td>\n",
       "      <td>Noon</td>\n",
       "      <td>Winter</td>\n",
       "      <td>3</td>\n",
       "      <td>2 days</td>\n",
       "    </tr>\n",
       "    <tr>\n",
       "      <th>80</th>\n",
       "      <td>2014-06-26 16:00:00</td>\n",
       "      <td>Overtime</td>\n",
       "      <td>4594215</td>\n",
       "      <td>WCE BRIDGETOWN 242886 LABOUR 13/14</td>\n",
       "      <td>Operational</td>\n",
       "      <td>0.0</td>\n",
       "      <td>41062207.0</td>\n",
       "      <td>NaN</td>\n",
       "      <td>False</td>\n",
       "      <td>2014</td>\n",
       "      <td>6</td>\n",
       "      <td>2014-06-26</td>\n",
       "      <td>Noon</td>\n",
       "      <td>Winter</td>\n",
       "      <td>3</td>\n",
       "      <td>0 days</td>\n",
       "    </tr>\n",
       "    <tr>\n",
       "      <th>2031624</th>\n",
       "      <td>2015-05-28 15:00:00</td>\n",
       "      <td>Overtime</td>\n",
       "      <td>4852915</td>\n",
       "      <td>MUC/Z001:REPLACE LV CROSS ARM</td>\n",
       "      <td>Operational</td>\n",
       "      <td>0.0</td>\n",
       "      <td>41062207.0</td>\n",
       "      <td>NaN</td>\n",
       "      <td>False</td>\n",
       "      <td>2015</td>\n",
       "      <td>5</td>\n",
       "      <td>2015-05-28</td>\n",
       "      <td>Noon</td>\n",
       "      <td>Autumn</td>\n",
       "      <td>3</td>\n",
       "      <td>336 days</td>\n",
       "    </tr>\n",
       "    <tr>\n",
       "      <th>2032149</th>\n",
       "      <td>2015-05-28 16:00:00</td>\n",
       "      <td>Overtime</td>\n",
       "      <td>4852915</td>\n",
       "      <td>MUC/Z001:REPLACE LV CROSS ARM</td>\n",
       "      <td>Operational</td>\n",
       "      <td>0.0</td>\n",
       "      <td>41062207.0</td>\n",
       "      <td>NaN</td>\n",
       "      <td>False</td>\n",
       "      <td>2015</td>\n",
       "      <td>5</td>\n",
       "      <td>2015-05-28</td>\n",
       "      <td>Noon</td>\n",
       "      <td>Autumn</td>\n",
       "      <td>3</td>\n",
       "      <td>0 days</td>\n",
       "    </tr>\n",
       "    <tr>\n",
       "      <th>2040989</th>\n",
       "      <td>2015-05-29 15:00:00</td>\n",
       "      <td>Overtime</td>\n",
       "      <td>4852915</td>\n",
       "      <td>MUC/Z001:REPLACE LV CROSS ARM</td>\n",
       "      <td>Operational</td>\n",
       "      <td>0.0</td>\n",
       "      <td>41062207.0</td>\n",
       "      <td>NaN</td>\n",
       "      <td>False</td>\n",
       "      <td>2015</td>\n",
       "      <td>5</td>\n",
       "      <td>2015-05-29</td>\n",
       "      <td>Noon</td>\n",
       "      <td>Autumn</td>\n",
       "      <td>4</td>\n",
       "      <td>1 days</td>\n",
       "    </tr>\n",
       "    <tr>\n",
       "      <th>2041459</th>\n",
       "      <td>2015-05-29 16:00:00</td>\n",
       "      <td>Overtime</td>\n",
       "      <td>4852915</td>\n",
       "      <td>MUC/Z001:REPLACE LV CROSS ARM</td>\n",
       "      <td>Operational</td>\n",
       "      <td>0.0</td>\n",
       "      <td>41062207.0</td>\n",
       "      <td>NaN</td>\n",
       "      <td>False</td>\n",
       "      <td>2015</td>\n",
       "      <td>5</td>\n",
       "      <td>2015-05-29</td>\n",
       "      <td>Noon</td>\n",
       "      <td>Autumn</td>\n",
       "      <td>4</td>\n",
       "      <td>0 days</td>\n",
       "    </tr>\n",
       "    <tr>\n",
       "      <th>2061816</th>\n",
       "      <td>2015-06-03 15:00:00</td>\n",
       "      <td>Overtime</td>\n",
       "      <td>4853064</td>\n",
       "      <td>LOGSYS WAROONA WR 249830 LAB 14/15</td>\n",
       "      <td>Operational</td>\n",
       "      <td>0.0</td>\n",
       "      <td>41062207.0</td>\n",
       "      <td>NaN</td>\n",
       "      <td>False</td>\n",
       "      <td>2015</td>\n",
       "      <td>6</td>\n",
       "      <td>2015-06-03</td>\n",
       "      <td>Noon</td>\n",
       "      <td>Winter</td>\n",
       "      <td>2</td>\n",
       "      <td>5 days</td>\n",
       "    </tr>\n",
       "    <tr>\n",
       "      <th>2062358</th>\n",
       "      <td>2015-06-03 16:00:00</td>\n",
       "      <td>Overtime</td>\n",
       "      <td>4853064</td>\n",
       "      <td>LOGSYS WAROONA WR 249830 LAB 14/15</td>\n",
       "      <td>Operational</td>\n",
       "      <td>0.0</td>\n",
       "      <td>41062207.0</td>\n",
       "      <td>NaN</td>\n",
       "      <td>False</td>\n",
       "      <td>2015</td>\n",
       "      <td>6</td>\n",
       "      <td>2015-06-03</td>\n",
       "      <td>Noon</td>\n",
       "      <td>Winter</td>\n",
       "      <td>2</td>\n",
       "      <td>0 days</td>\n",
       "    </tr>\n",
       "    <tr>\n",
       "      <th>2071977</th>\n",
       "      <td>2015-06-04 15:00:00</td>\n",
       "      <td>Overtime</td>\n",
       "      <td>4853064</td>\n",
       "      <td>LOGSYS WAROONA WR 249830 LAB 14/15</td>\n",
       "      <td>Operational</td>\n",
       "      <td>0.0</td>\n",
       "      <td>41062207.0</td>\n",
       "      <td>NaN</td>\n",
       "      <td>False</td>\n",
       "      <td>2015</td>\n",
       "      <td>6</td>\n",
       "      <td>2015-06-04</td>\n",
       "      <td>Noon</td>\n",
       "      <td>Winter</td>\n",
       "      <td>3</td>\n",
       "      <td>1 days</td>\n",
       "    </tr>\n",
       "    <tr>\n",
       "      <th>2072499</th>\n",
       "      <td>2015-06-04 16:00:00</td>\n",
       "      <td>Overtime</td>\n",
       "      <td>4853064</td>\n",
       "      <td>LOGSYS WAROONA WR 249830 LAB 14/15</td>\n",
       "      <td>Operational</td>\n",
       "      <td>0.0</td>\n",
       "      <td>41062207.0</td>\n",
       "      <td>NaN</td>\n",
       "      <td>False</td>\n",
       "      <td>2015</td>\n",
       "      <td>6</td>\n",
       "      <td>2015-06-04</td>\n",
       "      <td>Noon</td>\n",
       "      <td>Winter</td>\n",
       "      <td>3</td>\n",
       "      <td>0 days</td>\n",
       "    </tr>\n",
       "    <tr>\n",
       "      <th>2072721</th>\n",
       "      <td>2015-06-04 17:00:00</td>\n",
       "      <td>Overtime</td>\n",
       "      <td>4853064</td>\n",
       "      <td>LOGSYS WAROONA WR 249830 LAB 14/15</td>\n",
       "      <td>Operational</td>\n",
       "      <td>0.0</td>\n",
       "      <td>41062207.0</td>\n",
       "      <td>NaN</td>\n",
       "      <td>False</td>\n",
       "      <td>2015</td>\n",
       "      <td>6</td>\n",
       "      <td>2015-06-04</td>\n",
       "      <td>Evening</td>\n",
       "      <td>Winter</td>\n",
       "      <td>3</td>\n",
       "      <td>0 days</td>\n",
       "    </tr>\n",
       "    <tr>\n",
       "      <th>2081402</th>\n",
       "      <td>2015-06-05 15:00:00</td>\n",
       "      <td>Overtime</td>\n",
       "      <td>4853064</td>\n",
       "      <td>LOGSYS WAROONA WR 249830 LAB 14/15</td>\n",
       "      <td>Operational</td>\n",
       "      <td>0.0</td>\n",
       "      <td>41062207.0</td>\n",
       "      <td>NaN</td>\n",
       "      <td>False</td>\n",
       "      <td>2015</td>\n",
       "      <td>6</td>\n",
       "      <td>2015-06-05</td>\n",
       "      <td>Noon</td>\n",
       "      <td>Winter</td>\n",
       "      <td>4</td>\n",
       "      <td>1 days</td>\n",
       "    </tr>\n",
       "    <tr>\n",
       "      <th>2081850</th>\n",
       "      <td>2015-06-05 16:00:00</td>\n",
       "      <td>Overtime</td>\n",
       "      <td>4853064</td>\n",
       "      <td>LOGSYS WAROONA WR 249830 LAB 14/15</td>\n",
       "      <td>Operational</td>\n",
       "      <td>0.0</td>\n",
       "      <td>41062207.0</td>\n",
       "      <td>NaN</td>\n",
       "      <td>False</td>\n",
       "      <td>2015</td>\n",
       "      <td>6</td>\n",
       "      <td>2015-06-05</td>\n",
       "      <td>Noon</td>\n",
       "      <td>Winter</td>\n",
       "      <td>4</td>\n",
       "      <td>0 days</td>\n",
       "    </tr>\n",
       "    <tr>\n",
       "      <th>2102902</th>\n",
       "      <td>2015-06-09 15:00:00</td>\n",
       "      <td>Overtime</td>\n",
       "      <td>4801865</td>\n",
       "      <td>SM010266 FY14/15 HV &amp; LV BFMP-HARVEY (SC</td>\n",
       "      <td>Operational</td>\n",
       "      <td>0.0</td>\n",
       "      <td>41062207.0</td>\n",
       "      <td>NaN</td>\n",
       "      <td>False</td>\n",
       "      <td>2015</td>\n",
       "      <td>6</td>\n",
       "      <td>2015-06-09</td>\n",
       "      <td>Noon</td>\n",
       "      <td>Winter</td>\n",
       "      <td>1</td>\n",
       "      <td>4 days</td>\n",
       "    </tr>\n",
       "    <tr>\n",
       "      <th>2103401</th>\n",
       "      <td>2015-06-09 16:00:00</td>\n",
       "      <td>Overtime</td>\n",
       "      <td>4801865</td>\n",
       "      <td>SM010266 FY14/15 HV &amp; LV BFMP-HARVEY (SC</td>\n",
       "      <td>Operational</td>\n",
       "      <td>0.0</td>\n",
       "      <td>41062207.0</td>\n",
       "      <td>NaN</td>\n",
       "      <td>False</td>\n",
       "      <td>2015</td>\n",
       "      <td>6</td>\n",
       "      <td>2015-06-09</td>\n",
       "      <td>Noon</td>\n",
       "      <td>Winter</td>\n",
       "      <td>1</td>\n",
       "      <td>0 days</td>\n",
       "    </tr>\n",
       "    <tr>\n",
       "      <th>2113055</th>\n",
       "      <td>2015-06-10 15:00:00</td>\n",
       "      <td>Overtime</td>\n",
       "      <td>4482459</td>\n",
       "      <td>WCE PERE/MING/MORA LABOUR 13/14</td>\n",
       "      <td>Operational</td>\n",
       "      <td>0.0</td>\n",
       "      <td>41062207.0</td>\n",
       "      <td>NaN</td>\n",
       "      <td>False</td>\n",
       "      <td>2015</td>\n",
       "      <td>6</td>\n",
       "      <td>2015-06-10</td>\n",
       "      <td>Noon</td>\n",
       "      <td>Winter</td>\n",
       "      <td>2</td>\n",
       "      <td>1 days</td>\n",
       "    </tr>\n",
       "    <tr>\n",
       "      <th>2233176</th>\n",
       "      <td>2015-06-26 15:00:00</td>\n",
       "      <td>Overtime</td>\n",
       "      <td>4840187</td>\n",
       "      <td>SM010298 14/15 HV SC204 BROOKTON</td>\n",
       "      <td>Operational</td>\n",
       "      <td>0.0</td>\n",
       "      <td>41062207.0</td>\n",
       "      <td>NaN</td>\n",
       "      <td>False</td>\n",
       "      <td>2015</td>\n",
       "      <td>6</td>\n",
       "      <td>2015-06-26</td>\n",
       "      <td>Noon</td>\n",
       "      <td>Winter</td>\n",
       "      <td>4</td>\n",
       "      <td>16 days</td>\n",
       "    </tr>\n",
       "    <tr>\n",
       "      <th>2233628</th>\n",
       "      <td>2015-06-26 16:00:00</td>\n",
       "      <td>Overtime</td>\n",
       "      <td>4840187</td>\n",
       "      <td>SM010298 14/15 HV SC204 BROOKTON</td>\n",
       "      <td>Operational</td>\n",
       "      <td>0.0</td>\n",
       "      <td>41062207.0</td>\n",
       "      <td>NaN</td>\n",
       "      <td>False</td>\n",
       "      <td>2015</td>\n",
       "      <td>6</td>\n",
       "      <td>2015-06-26</td>\n",
       "      <td>Noon</td>\n",
       "      <td>Winter</td>\n",
       "      <td>4</td>\n",
       "      <td>0 days</td>\n",
       "    </tr>\n",
       "    <tr>\n",
       "      <th>2253658</th>\n",
       "      <td>2015-06-30 15:00:00</td>\n",
       "      <td>Overtime</td>\n",
       "      <td>4865928</td>\n",
       "      <td>TCS: POLE DISTRIBUTION</td>\n",
       "      <td>Operational</td>\n",
       "      <td>0.0</td>\n",
       "      <td>41062207.0</td>\n",
       "      <td>NaN</td>\n",
       "      <td>False</td>\n",
       "      <td>2015</td>\n",
       "      <td>6</td>\n",
       "      <td>2015-06-30</td>\n",
       "      <td>Noon</td>\n",
       "      <td>Winter</td>\n",
       "      <td>1</td>\n",
       "      <td>4 days</td>\n",
       "    </tr>\n",
       "    <tr>\n",
       "      <th>2254153</th>\n",
       "      <td>2015-06-30 16:00:00</td>\n",
       "      <td>Overtime</td>\n",
       "      <td>4865928</td>\n",
       "      <td>TCS: POLE DISTRIBUTION</td>\n",
       "      <td>Operational</td>\n",
       "      <td>0.0</td>\n",
       "      <td>41062207.0</td>\n",
       "      <td>NaN</td>\n",
       "      <td>False</td>\n",
       "      <td>2015</td>\n",
       "      <td>6</td>\n",
       "      <td>2015-06-30</td>\n",
       "      <td>Noon</td>\n",
       "      <td>Winter</td>\n",
       "      <td>1</td>\n",
       "      <td>0 days</td>\n",
       "    </tr>\n",
       "    <tr>\n",
       "      <th>2339067</th>\n",
       "      <td>2015-07-13 15:00:00</td>\n",
       "      <td>Overtime</td>\n",
       "      <td>4765159</td>\n",
       "      <td>TCS: LV CABLE UNDERGROUND</td>\n",
       "      <td>Operational</td>\n",
       "      <td>0.0</td>\n",
       "      <td>41062207.0</td>\n",
       "      <td>NaN</td>\n",
       "      <td>False</td>\n",
       "      <td>2015</td>\n",
       "      <td>7</td>\n",
       "      <td>2015-07-13</td>\n",
       "      <td>Noon</td>\n",
       "      <td>Winter</td>\n",
       "      <td>0</td>\n",
       "      <td>13 days</td>\n",
       "    </tr>\n",
       "    <tr>\n",
       "      <th>2339410</th>\n",
       "      <td>2015-07-13 16:00:00</td>\n",
       "      <td>Overtime</td>\n",
       "      <td>4765159</td>\n",
       "      <td>TCS: LV CABLE UNDERGROUND</td>\n",
       "      <td>Operational</td>\n",
       "      <td>0.0</td>\n",
       "      <td>41062207.0</td>\n",
       "      <td>NaN</td>\n",
       "      <td>False</td>\n",
       "      <td>2015</td>\n",
       "      <td>7</td>\n",
       "      <td>2015-07-13</td>\n",
       "      <td>Noon</td>\n",
       "      <td>Winter</td>\n",
       "      <td>0</td>\n",
       "      <td>0 days</td>\n",
       "    </tr>\n",
       "    <tr>\n",
       "      <th>2367099</th>\n",
       "      <td>2015-07-16 15:00:00</td>\n",
       "      <td>Overtime</td>\n",
       "      <td>4651612</td>\n",
       "      <td>NET KELMSCOTT WR243071 LAB 14/15</td>\n",
       "      <td>Operational</td>\n",
       "      <td>0.0</td>\n",
       "      <td>41062207.0</td>\n",
       "      <td>NaN</td>\n",
       "      <td>False</td>\n",
       "      <td>2015</td>\n",
       "      <td>7</td>\n",
       "      <td>2015-07-16</td>\n",
       "      <td>Noon</td>\n",
       "      <td>Winter</td>\n",
       "      <td>3</td>\n",
       "      <td>3 days</td>\n",
       "    </tr>\n",
       "    <tr>\n",
       "      <th>2367607</th>\n",
       "      <td>2015-07-16 16:00:00</td>\n",
       "      <td>Overtime</td>\n",
       "      <td>4651612</td>\n",
       "      <td>NET KELMSCOTT WR243071 LAB 14/15</td>\n",
       "      <td>Operational</td>\n",
       "      <td>0.0</td>\n",
       "      <td>41062207.0</td>\n",
       "      <td>NaN</td>\n",
       "      <td>False</td>\n",
       "      <td>2015</td>\n",
       "      <td>7</td>\n",
       "      <td>2015-07-16</td>\n",
       "      <td>Noon</td>\n",
       "      <td>Winter</td>\n",
       "      <td>3</td>\n",
       "      <td>0 days</td>\n",
       "    </tr>\n",
       "    <tr>\n",
       "      <th>2375749</th>\n",
       "      <td>2015-07-17 15:00:00</td>\n",
       "      <td>Overtime</td>\n",
       "      <td>4805581</td>\n",
       "      <td>MS015599 BUCKLAND PRECINCT, MOSMAN PARK</td>\n",
       "      <td>Operational</td>\n",
       "      <td>0.0</td>\n",
       "      <td>41062207.0</td>\n",
       "      <td>NaN</td>\n",
       "      <td>False</td>\n",
       "      <td>2015</td>\n",
       "      <td>7</td>\n",
       "      <td>2015-07-17</td>\n",
       "      <td>Noon</td>\n",
       "      <td>Winter</td>\n",
       "      <td>4</td>\n",
       "      <td>1 days</td>\n",
       "    </tr>\n",
       "    <tr>\n",
       "      <th>2484633</th>\n",
       "      <td>2015-08-03 15:00:00</td>\n",
       "      <td>Overtime</td>\n",
       "      <td>4878944</td>\n",
       "      <td>MED/Z006:BFM:REPLACE ANGLE POLE</td>\n",
       "      <td>Operational</td>\n",
       "      <td>0.0</td>\n",
       "      <td>41062207.0</td>\n",
       "      <td>NaN</td>\n",
       "      <td>False</td>\n",
       "      <td>2015</td>\n",
       "      <td>8</td>\n",
       "      <td>2015-08-03</td>\n",
       "      <td>Noon</td>\n",
       "      <td>Winter</td>\n",
       "      <td>0</td>\n",
       "      <td>17 days</td>\n",
       "    </tr>\n",
       "    <tr>\n",
       "      <th>2485040</th>\n",
       "      <td>2015-08-03 16:00:00</td>\n",
       "      <td>Overtime</td>\n",
       "      <td>4878944</td>\n",
       "      <td>MED/Z006:BFM:REPLACE ANGLE POLE</td>\n",
       "      <td>Operational</td>\n",
       "      <td>0.0</td>\n",
       "      <td>41062207.0</td>\n",
       "      <td>NaN</td>\n",
       "      <td>False</td>\n",
       "      <td>2015</td>\n",
       "      <td>8</td>\n",
       "      <td>2015-08-03</td>\n",
       "      <td>Noon</td>\n",
       "      <td>Winter</td>\n",
       "      <td>0</td>\n",
       "      <td>0 days</td>\n",
       "    </tr>\n",
       "    <tr>\n",
       "      <th>2684616</th>\n",
       "      <td>2015-08-31 15:00:00</td>\n",
       "      <td>Overtime</td>\n",
       "      <td>4762036</td>\n",
       "      <td>BYF/Z018:REPLACE DOF WITH FAULT TAMER</td>\n",
       "      <td>Operational</td>\n",
       "      <td>0.0</td>\n",
       "      <td>41062207.0</td>\n",
       "      <td>NaN</td>\n",
       "      <td>False</td>\n",
       "      <td>2015</td>\n",
       "      <td>8</td>\n",
       "      <td>2015-08-31</td>\n",
       "      <td>Noon</td>\n",
       "      <td>Winter</td>\n",
       "      <td>0</td>\n",
       "      <td>28 days</td>\n",
       "    </tr>\n",
       "    <tr>\n",
       "      <th>2685058</th>\n",
       "      <td>2015-08-31 16:00:00</td>\n",
       "      <td>Overtime</td>\n",
       "      <td>4762036</td>\n",
       "      <td>BYF/Z018:REPLACE DOF WITH FAULT TAMER</td>\n",
       "      <td>Operational</td>\n",
       "      <td>0.0</td>\n",
       "      <td>41062207.0</td>\n",
       "      <td>NaN</td>\n",
       "      <td>False</td>\n",
       "      <td>2015</td>\n",
       "      <td>8</td>\n",
       "      <td>2015-08-31</td>\n",
       "      <td>Noon</td>\n",
       "      <td>Winter</td>\n",
       "      <td>0</td>\n",
       "      <td>0 days</td>\n",
       "    </tr>\n",
       "    <tr>\n",
       "      <th>2734113</th>\n",
       "      <td>2015-09-07 15:00:00</td>\n",
       "      <td>Overtime</td>\n",
       "      <td>4912648</td>\n",
       "      <td>GTN/Z521:REPLACE HV CROSS ARM &amp; INSULATO</td>\n",
       "      <td>Operational</td>\n",
       "      <td>0.0</td>\n",
       "      <td>41062207.0</td>\n",
       "      <td>NaN</td>\n",
       "      <td>False</td>\n",
       "      <td>2015</td>\n",
       "      <td>9</td>\n",
       "      <td>2015-09-07</td>\n",
       "      <td>Noon</td>\n",
       "      <td>Spring</td>\n",
       "      <td>0</td>\n",
       "      <td>7 days</td>\n",
       "    </tr>\n",
       "    <tr>\n",
       "      <th>2734494</th>\n",
       "      <td>2015-09-07 16:00:00</td>\n",
       "      <td>Overtime</td>\n",
       "      <td>4912648</td>\n",
       "      <td>GTN/Z521:REPLACE HV CROSS ARM &amp; INSULATO</td>\n",
       "      <td>Operational</td>\n",
       "      <td>0.0</td>\n",
       "      <td>41062207.0</td>\n",
       "      <td>NaN</td>\n",
       "      <td>False</td>\n",
       "      <td>2015</td>\n",
       "      <td>9</td>\n",
       "      <td>2015-09-07</td>\n",
       "      <td>Noon</td>\n",
       "      <td>Spring</td>\n",
       "      <td>0</td>\n",
       "      <td>0 days</td>\n",
       "    </tr>\n",
       "    <tr>\n",
       "      <th>2743995</th>\n",
       "      <td>2015-09-08 15:00:00</td>\n",
       "      <td>Overtime</td>\n",
       "      <td>4911813</td>\n",
       "      <td>ALB/Z101:REPLACE INTERMEDIATE POLE</td>\n",
       "      <td>Operational</td>\n",
       "      <td>0.0</td>\n",
       "      <td>41062207.0</td>\n",
       "      <td>NaN</td>\n",
       "      <td>False</td>\n",
       "      <td>2015</td>\n",
       "      <td>9</td>\n",
       "      <td>2015-09-08</td>\n",
       "      <td>Noon</td>\n",
       "      <td>Spring</td>\n",
       "      <td>1</td>\n",
       "      <td>1 days</td>\n",
       "    </tr>\n",
       "    <tr>\n",
       "      <th>2901561</th>\n",
       "      <td>2015-10-01 15:00:00</td>\n",
       "      <td>Overtime</td>\n",
       "      <td>5029368</td>\n",
       "      <td>TCS: POLE DISTRIBUTION</td>\n",
       "      <td>Operational</td>\n",
       "      <td>0.0</td>\n",
       "      <td>41062207.0</td>\n",
       "      <td>NaN</td>\n",
       "      <td>False</td>\n",
       "      <td>2015</td>\n",
       "      <td>10</td>\n",
       "      <td>2015-10-01</td>\n",
       "      <td>Noon</td>\n",
       "      <td>Spring</td>\n",
       "      <td>3</td>\n",
       "      <td>23 days</td>\n",
       "    </tr>\n",
       "    <tr>\n",
       "      <th>2902027</th>\n",
       "      <td>2015-10-01 16:00:00</td>\n",
       "      <td>Overtime</td>\n",
       "      <td>5029368</td>\n",
       "      <td>TCS: POLE DISTRIBUTION</td>\n",
       "      <td>Operational</td>\n",
       "      <td>0.0</td>\n",
       "      <td>41062207.0</td>\n",
       "      <td>NaN</td>\n",
       "      <td>False</td>\n",
       "      <td>2015</td>\n",
       "      <td>10</td>\n",
       "      <td>2015-10-01</td>\n",
       "      <td>Noon</td>\n",
       "      <td>Spring</td>\n",
       "      <td>3</td>\n",
       "      <td>0 days</td>\n",
       "    </tr>\n",
       "    <tr>\n",
       "      <th>5291722</th>\n",
       "      <td>2016-09-21 15:00:00</td>\n",
       "      <td>Overtime</td>\n",
       "      <td>5130963</td>\n",
       "      <td>SCEE BUNDLE PM LABOUR COSTS WS23222-071</td>\n",
       "      <td>Operational</td>\n",
       "      <td>0.0</td>\n",
       "      <td>41062207.0</td>\n",
       "      <td>NaN</td>\n",
       "      <td>False</td>\n",
       "      <td>2016</td>\n",
       "      <td>9</td>\n",
       "      <td>2016-09-21</td>\n",
       "      <td>Noon</td>\n",
       "      <td>Spring</td>\n",
       "      <td>2</td>\n",
       "      <td>356 days</td>\n",
       "    </tr>\n",
       "    <tr>\n",
       "      <th>5292165</th>\n",
       "      <td>2016-09-21 16:00:00</td>\n",
       "      <td>Overtime</td>\n",
       "      <td>5130963</td>\n",
       "      <td>SCEE BUNDLE PM LABOUR COSTS WS23222-071</td>\n",
       "      <td>Operational</td>\n",
       "      <td>0.0</td>\n",
       "      <td>41062207.0</td>\n",
       "      <td>NaN</td>\n",
       "      <td>False</td>\n",
       "      <td>2016</td>\n",
       "      <td>9</td>\n",
       "      <td>2016-09-21</td>\n",
       "      <td>Noon</td>\n",
       "      <td>Spring</td>\n",
       "      <td>2</td>\n",
       "      <td>0 days</td>\n",
       "    </tr>\n",
       "    <tr>\n",
       "      <th>5300505</th>\n",
       "      <td>2016-09-22 15:00:00</td>\n",
       "      <td>Overtime</td>\n",
       "      <td>5246000</td>\n",
       "      <td>MP163704 ISO: 214 ST GEORGE TCE, PERTH</td>\n",
       "      <td>Operational</td>\n",
       "      <td>0.0</td>\n",
       "      <td>41062207.0</td>\n",
       "      <td>NaN</td>\n",
       "      <td>False</td>\n",
       "      <td>2016</td>\n",
       "      <td>9</td>\n",
       "      <td>2016-09-22</td>\n",
       "      <td>Noon</td>\n",
       "      <td>Spring</td>\n",
       "      <td>3</td>\n",
       "      <td>1 days</td>\n",
       "    </tr>\n",
       "    <tr>\n",
       "      <th>5300956</th>\n",
       "      <td>2016-09-22 16:00:00</td>\n",
       "      <td>Overtime</td>\n",
       "      <td>5246000</td>\n",
       "      <td>MP163704 ISO: 214 ST GEORGE TCE, PERTH</td>\n",
       "      <td>Operational</td>\n",
       "      <td>0.0</td>\n",
       "      <td>41062207.0</td>\n",
       "      <td>NaN</td>\n",
       "      <td>False</td>\n",
       "      <td>2016</td>\n",
       "      <td>9</td>\n",
       "      <td>2016-09-22</td>\n",
       "      <td>Noon</td>\n",
       "      <td>Spring</td>\n",
       "      <td>3</td>\n",
       "      <td>0 days</td>\n",
       "    </tr>\n",
       "  </tbody>\n",
       "</table>\n",
       "</div>"
      ],
      "text/plain": [
       "              Work_DateTime TIME_TYPE  WORK_NO  \\\n",
       "53      2014-06-17 15:00:00  Overtime  4283069   \n",
       "54      2014-06-17 16:00:00  Overtime  4283069   \n",
       "62      2014-06-18 15:00:00  Overtime  4283069   \n",
       "77      2014-06-24 15:00:00  Overtime  4594215   \n",
       "78      2014-06-24 16:00:00  Overtime  4594215   \n",
       "79      2014-06-26 15:00:00  Overtime  4594215   \n",
       "80      2014-06-26 16:00:00  Overtime  4594215   \n",
       "2031624 2015-05-28 15:00:00  Overtime  4852915   \n",
       "2032149 2015-05-28 16:00:00  Overtime  4852915   \n",
       "2040989 2015-05-29 15:00:00  Overtime  4852915   \n",
       "2041459 2015-05-29 16:00:00  Overtime  4852915   \n",
       "2061816 2015-06-03 15:00:00  Overtime  4853064   \n",
       "2062358 2015-06-03 16:00:00  Overtime  4853064   \n",
       "2071977 2015-06-04 15:00:00  Overtime  4853064   \n",
       "2072499 2015-06-04 16:00:00  Overtime  4853064   \n",
       "2072721 2015-06-04 17:00:00  Overtime  4853064   \n",
       "2081402 2015-06-05 15:00:00  Overtime  4853064   \n",
       "2081850 2015-06-05 16:00:00  Overtime  4853064   \n",
       "2102902 2015-06-09 15:00:00  Overtime  4801865   \n",
       "2103401 2015-06-09 16:00:00  Overtime  4801865   \n",
       "2113055 2015-06-10 15:00:00  Overtime  4482459   \n",
       "2233176 2015-06-26 15:00:00  Overtime  4840187   \n",
       "2233628 2015-06-26 16:00:00  Overtime  4840187   \n",
       "2253658 2015-06-30 15:00:00  Overtime  4865928   \n",
       "2254153 2015-06-30 16:00:00  Overtime  4865928   \n",
       "2339067 2015-07-13 15:00:00  Overtime  4765159   \n",
       "2339410 2015-07-13 16:00:00  Overtime  4765159   \n",
       "2367099 2015-07-16 15:00:00  Overtime  4651612   \n",
       "2367607 2015-07-16 16:00:00  Overtime  4651612   \n",
       "2375749 2015-07-17 15:00:00  Overtime  4805581   \n",
       "2484633 2015-08-03 15:00:00  Overtime  4878944   \n",
       "2485040 2015-08-03 16:00:00  Overtime  4878944   \n",
       "2684616 2015-08-31 15:00:00  Overtime  4762036   \n",
       "2685058 2015-08-31 16:00:00  Overtime  4762036   \n",
       "2734113 2015-09-07 15:00:00  Overtime  4912648   \n",
       "2734494 2015-09-07 16:00:00  Overtime  4912648   \n",
       "2743995 2015-09-08 15:00:00  Overtime  4911813   \n",
       "2901561 2015-10-01 15:00:00  Overtime  5029368   \n",
       "2902027 2015-10-01 16:00:00  Overtime  5029368   \n",
       "5291722 2016-09-21 15:00:00  Overtime  5130963   \n",
       "5292165 2016-09-21 16:00:00  Overtime  5130963   \n",
       "5300505 2016-09-22 15:00:00  Overtime  5246000   \n",
       "5300956 2016-09-22 16:00:00  Overtime  5246000   \n",
       "\n",
       "                                        WORK_DESC     FUNC_CAT  TOT_BRK_TM  \\\n",
       "53                                  VALIDATING...  Operational         0.0   \n",
       "54                                  VALIDATING...  Operational         0.0   \n",
       "62            Q1:BYF/Z002:ZR03:REPLACE INTER POLE  Operational         0.0   \n",
       "77             WCE BRIDGETOWN 242886 LABOUR 13/14  Operational         0.0   \n",
       "78             WCE BRIDGETOWN 242886 LABOUR 13/14  Operational         0.0   \n",
       "79             WCE BRIDGETOWN 242886 LABOUR 13/14  Operational         0.0   \n",
       "80             WCE BRIDGETOWN 242886 LABOUR 13/14  Operational         0.0   \n",
       "2031624             MUC/Z001:REPLACE LV CROSS ARM  Operational         0.0   \n",
       "2032149             MUC/Z001:REPLACE LV CROSS ARM  Operational         0.0   \n",
       "2040989             MUC/Z001:REPLACE LV CROSS ARM  Operational         0.0   \n",
       "2041459             MUC/Z001:REPLACE LV CROSS ARM  Operational         0.0   \n",
       "2061816        LOGSYS WAROONA WR 249830 LAB 14/15  Operational         0.0   \n",
       "2062358        LOGSYS WAROONA WR 249830 LAB 14/15  Operational         0.0   \n",
       "2071977        LOGSYS WAROONA WR 249830 LAB 14/15  Operational         0.0   \n",
       "2072499        LOGSYS WAROONA WR 249830 LAB 14/15  Operational         0.0   \n",
       "2072721        LOGSYS WAROONA WR 249830 LAB 14/15  Operational         0.0   \n",
       "2081402        LOGSYS WAROONA WR 249830 LAB 14/15  Operational         0.0   \n",
       "2081850        LOGSYS WAROONA WR 249830 LAB 14/15  Operational         0.0   \n",
       "2102902  SM010266 FY14/15 HV & LV BFMP-HARVEY (SC  Operational         0.0   \n",
       "2103401  SM010266 FY14/15 HV & LV BFMP-HARVEY (SC  Operational         0.0   \n",
       "2113055           WCE PERE/MING/MORA LABOUR 13/14  Operational         0.0   \n",
       "2233176          SM010298 14/15 HV SC204 BROOKTON  Operational         0.0   \n",
       "2233628          SM010298 14/15 HV SC204 BROOKTON  Operational         0.0   \n",
       "2253658                    TCS: POLE DISTRIBUTION  Operational         0.0   \n",
       "2254153                    TCS: POLE DISTRIBUTION  Operational         0.0   \n",
       "2339067                 TCS: LV CABLE UNDERGROUND  Operational         0.0   \n",
       "2339410                 TCS: LV CABLE UNDERGROUND  Operational         0.0   \n",
       "2367099          NET KELMSCOTT WR243071 LAB 14/15  Operational         0.0   \n",
       "2367607          NET KELMSCOTT WR243071 LAB 14/15  Operational         0.0   \n",
       "2375749   MS015599 BUCKLAND PRECINCT, MOSMAN PARK  Operational         0.0   \n",
       "2484633           MED/Z006:BFM:REPLACE ANGLE POLE  Operational         0.0   \n",
       "2485040           MED/Z006:BFM:REPLACE ANGLE POLE  Operational         0.0   \n",
       "2684616     BYF/Z018:REPLACE DOF WITH FAULT TAMER  Operational         0.0   \n",
       "2685058     BYF/Z018:REPLACE DOF WITH FAULT TAMER  Operational         0.0   \n",
       "2734113  GTN/Z521:REPLACE HV CROSS ARM & INSULATO  Operational         0.0   \n",
       "2734494  GTN/Z521:REPLACE HV CROSS ARM & INSULATO  Operational         0.0   \n",
       "2743995        ALB/Z101:REPLACE INTERMEDIATE POLE  Operational         0.0   \n",
       "2901561                    TCS: POLE DISTRIBUTION  Operational         0.0   \n",
       "2902027                    TCS: POLE DISTRIBUTION  Operational         0.0   \n",
       "5291722   SCEE BUNDLE PM LABOUR COSTS WS23222-071  Operational         0.0   \n",
       "5292165   SCEE BUNDLE PM LABOUR COSTS WS23222-071  Operational         0.0   \n",
       "5300505    MP163704 ISO: 214 ST GEORGE TCE, PERTH  Operational         0.0   \n",
       "5300956    MP163704 ISO: 214 ST GEORGE TCE, PERTH  Operational         0.0   \n",
       "\n",
       "         EmpNo_Anon Incident_Number  incident  Year  Month        Date  \\\n",
       "53       41062207.0             NaN     False  2014      6  2014-06-17   \n",
       "54       41062207.0             NaN     False  2014      6  2014-06-17   \n",
       "62       41062207.0             NaN     False  2014      6  2014-06-18   \n",
       "77       41062207.0             NaN     False  2014      6  2014-06-24   \n",
       "78       41062207.0             NaN     False  2014      6  2014-06-24   \n",
       "79       41062207.0             NaN     False  2014      6  2014-06-26   \n",
       "80       41062207.0             NaN     False  2014      6  2014-06-26   \n",
       "2031624  41062207.0             NaN     False  2015      5  2015-05-28   \n",
       "2032149  41062207.0             NaN     False  2015      5  2015-05-28   \n",
       "2040989  41062207.0             NaN     False  2015      5  2015-05-29   \n",
       "2041459  41062207.0             NaN     False  2015      5  2015-05-29   \n",
       "2061816  41062207.0             NaN     False  2015      6  2015-06-03   \n",
       "2062358  41062207.0             NaN     False  2015      6  2015-06-03   \n",
       "2071977  41062207.0             NaN     False  2015      6  2015-06-04   \n",
       "2072499  41062207.0             NaN     False  2015      6  2015-06-04   \n",
       "2072721  41062207.0             NaN     False  2015      6  2015-06-04   \n",
       "2081402  41062207.0             NaN     False  2015      6  2015-06-05   \n",
       "2081850  41062207.0             NaN     False  2015      6  2015-06-05   \n",
       "2102902  41062207.0             NaN     False  2015      6  2015-06-09   \n",
       "2103401  41062207.0             NaN     False  2015      6  2015-06-09   \n",
       "2113055  41062207.0             NaN     False  2015      6  2015-06-10   \n",
       "2233176  41062207.0             NaN     False  2015      6  2015-06-26   \n",
       "2233628  41062207.0             NaN     False  2015      6  2015-06-26   \n",
       "2253658  41062207.0             NaN     False  2015      6  2015-06-30   \n",
       "2254153  41062207.0             NaN     False  2015      6  2015-06-30   \n",
       "2339067  41062207.0             NaN     False  2015      7  2015-07-13   \n",
       "2339410  41062207.0             NaN     False  2015      7  2015-07-13   \n",
       "2367099  41062207.0             NaN     False  2015      7  2015-07-16   \n",
       "2367607  41062207.0             NaN     False  2015      7  2015-07-16   \n",
       "2375749  41062207.0             NaN     False  2015      7  2015-07-17   \n",
       "2484633  41062207.0             NaN     False  2015      8  2015-08-03   \n",
       "2485040  41062207.0             NaN     False  2015      8  2015-08-03   \n",
       "2684616  41062207.0             NaN     False  2015      8  2015-08-31   \n",
       "2685058  41062207.0             NaN     False  2015      8  2015-08-31   \n",
       "2734113  41062207.0             NaN     False  2015      9  2015-09-07   \n",
       "2734494  41062207.0             NaN     False  2015      9  2015-09-07   \n",
       "2743995  41062207.0             NaN     False  2015      9  2015-09-08   \n",
       "2901561  41062207.0             NaN     False  2015     10  2015-10-01   \n",
       "2902027  41062207.0             NaN     False  2015     10  2015-10-01   \n",
       "5291722  41062207.0             NaN     False  2016      9  2016-09-21   \n",
       "5292165  41062207.0             NaN     False  2016      9  2016-09-21   \n",
       "5300505  41062207.0             NaN     False  2016      9  2016-09-22   \n",
       "5300956  41062207.0             NaN     False  2016      9  2016-09-22   \n",
       "\n",
       "          period  season  day_of_week      gap  \n",
       "53          Noon  Winter            1      NaT  \n",
       "54          Noon  Winter            1   0 days  \n",
       "62          Noon  Winter            2   1 days  \n",
       "77          Noon  Winter            1   6 days  \n",
       "78          Noon  Winter            1   0 days  \n",
       "79          Noon  Winter            3   2 days  \n",
       "80          Noon  Winter            3   0 days  \n",
       "2031624     Noon  Autumn            3 336 days  \n",
       "2032149     Noon  Autumn            3   0 days  \n",
       "2040989     Noon  Autumn            4   1 days  \n",
       "2041459     Noon  Autumn            4   0 days  \n",
       "2061816     Noon  Winter            2   5 days  \n",
       "2062358     Noon  Winter            2   0 days  \n",
       "2071977     Noon  Winter            3   1 days  \n",
       "2072499     Noon  Winter            3   0 days  \n",
       "2072721  Evening  Winter            3   0 days  \n",
       "2081402     Noon  Winter            4   1 days  \n",
       "2081850     Noon  Winter            4   0 days  \n",
       "2102902     Noon  Winter            1   4 days  \n",
       "2103401     Noon  Winter            1   0 days  \n",
       "2113055     Noon  Winter            2   1 days  \n",
       "2233176     Noon  Winter            4  16 days  \n",
       "2233628     Noon  Winter            4   0 days  \n",
       "2253658     Noon  Winter            1   4 days  \n",
       "2254153     Noon  Winter            1   0 days  \n",
       "2339067     Noon  Winter            0  13 days  \n",
       "2339410     Noon  Winter            0   0 days  \n",
       "2367099     Noon  Winter            3   3 days  \n",
       "2367607     Noon  Winter            3   0 days  \n",
       "2375749     Noon  Winter            4   1 days  \n",
       "2484633     Noon  Winter            0  17 days  \n",
       "2485040     Noon  Winter            0   0 days  \n",
       "2684616     Noon  Winter            0  28 days  \n",
       "2685058     Noon  Winter            0   0 days  \n",
       "2734113     Noon  Spring            0   7 days  \n",
       "2734494     Noon  Spring            0   0 days  \n",
       "2743995     Noon  Spring            1   1 days  \n",
       "2901561     Noon  Spring            3  23 days  \n",
       "2902027     Noon  Spring            3   0 days  \n",
       "5291722     Noon  Spring            2 356 days  \n",
       "5292165     Noon  Spring            2   0 days  \n",
       "5300505     Noon  Spring            3   1 days  \n",
       "5300956     Noon  Spring            3   0 days  "
      ]
     },
     "execution_count": 133,
     "metadata": {},
     "output_type": "execute_result"
    }
   ],
   "source": [
    "subset.loc[subset[\"EmpNo_Anon\"]==41062207.0]"
   ]
  },
  {
   "cell_type": "code",
   "execution_count": null,
   "id": "4ce1edfe-2c11-4395-9d46-6f86ac01cf1b",
   "metadata": {},
   "outputs": [],
   "source": []
  },
  {
   "cell_type": "markdown",
   "id": "b9d6f661-6f1e-4ada-b3ef-5a5514e2d9d0",
   "metadata": {},
   "source": [
    "### CONSECUTIVE WORKING HOURS"
   ]
  },
  {
   "cell_type": "code",
   "execution_count": null,
   "id": "74251b0b-49f1-4140-ae20-3c93231ca59b",
   "metadata": {},
   "outputs": [],
   "source": []
  },
  {
   "cell_type": "markdown",
   "id": "e0e4088f-1408-4fe9-888f-17536aa98e5b",
   "metadata": {},
   "source": [
    "### CONSECUTIVE WORKING DAYS"
   ]
  },
  {
   "cell_type": "code",
   "execution_count": null,
   "id": "de1b9047-6d62-417f-8811-f5989e8b8a42",
   "metadata": {},
   "outputs": [],
   "source": []
  },
  {
   "cell_type": "markdown",
   "id": "163d5f18-ef33-470e-8fe4-07085c555990",
   "metadata": {},
   "source": [
    "### BREAK IN A WORKING DAY\n",
    "\n",
    "The objective is to try to figure out when the break was taken"
   ]
  },
  {
   "cell_type": "code",
   "execution_count": null,
   "id": "5381779e-5b0c-4aba-9a85-eafa01917c25",
   "metadata": {},
   "outputs": [],
   "source": [
    "temp = subset.loc[subset[\"TOT_BRK_TM\"]>0]"
   ]
  },
  {
   "cell_type": "code",
   "execution_count": null,
   "id": "ebe61121-c9fe-48db-9582-bca7f78b8da6",
   "metadata": {},
   "outputs": [],
   "source": [
    "temp.shape, temp.shape[0]/subset.shape[0]"
   ]
  },
  {
   "cell_type": "markdown",
   "id": "d40e9ffc-8227-4b5c-9a90-a70f05554a2a",
   "metadata": {},
   "source": [
    "Let's analyse a couple of TOT_BRK_TM on a particular day"
   ]
  },
  {
   "cell_type": "code",
   "execution_count": null,
   "id": "6dcbc71f-e0fe-4419-9b44-5841d6ba1ef0",
   "metadata": {},
   "outputs": [],
   "source": [
    "temp.sample(n=10)"
   ]
  },
  {
   "cell_type": "code",
   "execution_count": null,
   "id": "8249211b-3059-4e57-86e1-8f0a7d34b1f6",
   "metadata": {},
   "outputs": [],
   "source": [
    "temp.loc[temp[\"Date\"]==pd.to_datetime(\"2017-09-01\")][\"EmpNo_Anon\"].value_counts().head()"
   ]
  },
  {
   "cell_type": "code",
   "execution_count": null,
   "id": "198ed2e0-4506-41fa-8f5e-768b5b5ccaa2",
   "metadata": {},
   "outputs": [],
   "source": [
    "temp.loc[(temp[\"Date\"]==pd.to_datetime(\"2017-09-01\")) & (temp[\"EmpNo_Anon\"]==41099707.0)]"
   ]
  },
  {
   "cell_type": "code",
   "execution_count": null,
   "id": "30fdbabd-082b-475b-91eb-10a144917a0e",
   "metadata": {},
   "outputs": [],
   "source": [
    "2.727273*11"
   ]
  },
  {
   "cell_type": "markdown",
   "id": "192a157d-df26-4746-9a05-fab22a7e5194",
   "metadata": {},
   "source": [
    "How is it possible that someone's working for 11 hours with just half an hour break??"
   ]
  },
  {
   "cell_type": "code",
   "execution_count": null,
   "id": "7e56883d-7238-49c3-bb25-e67d1c9564a8",
   "metadata": {},
   "outputs": [],
   "source": []
  },
  {
   "cell_type": "markdown",
   "id": "daa3eda7-1eef-448e-927c-df01669f667c",
   "metadata": {},
   "source": [
    "### COUNT OF SAME TASK COUNT IN A DAY\n",
    "\n",
    "Finding out for how many hours in a day has an employee worked on the same task so far"
   ]
  },
  {
   "cell_type": "code",
   "execution_count": null,
   "id": "82e00f1a-354b-45e3-816d-6553b11b2be6",
   "metadata": {},
   "outputs": [],
   "source": [
    "def count_num_hours_per_work(group):\n",
    "    group[\"hours_per_task\"] = group[\"WORK_DESC\"].duplicated().cumsum()\n",
    "    return group"
   ]
  },
  {
   "cell_type": "code",
   "execution_count": null,
   "id": "2fd81b91-3187-4717-a5c2-8420970d7f36",
   "metadata": {},
   "outputs": [],
   "source": [
    "subset.head(200).groupby([\"EmpNo_Anon\", \"Date\", \"WORK_NO\"]).apply(count_num_hours_per_work).head(20)"
   ]
  },
  {
   "cell_type": "markdown",
   "id": "8b513487-9bef-4878-b90b-6c4e4fb8c5fd",
   "metadata": {},
   "source": [
    "**Takes too long to run**. Need to check feasibility"
   ]
  },
  {
   "cell_type": "code",
   "execution_count": null,
   "id": "0cba948d-d5dd-471e-a162-8875a285fd18",
   "metadata": {},
   "outputs": [],
   "source": []
  },
  {
   "cell_type": "code",
   "execution_count": null,
   "id": "6c659330-a57e-4628-8828-503cb76609ec",
   "metadata": {},
   "outputs": [],
   "source": []
  },
  {
   "cell_type": "code",
   "execution_count": null,
   "id": "cd9992c2-7fa1-4ecb-b911-69771307d82b",
   "metadata": {},
   "outputs": [],
   "source": []
  },
  {
   "cell_type": "code",
   "execution_count": null,
   "id": "2654ed00-5617-49a3-8b73-2a0b8c4ff5df",
   "metadata": {},
   "outputs": [],
   "source": []
  },
  {
   "cell_type": "code",
   "execution_count": null,
   "id": "07d68311-31aa-42d7-a969-c3e9ce3bfaa0",
   "metadata": {},
   "outputs": [],
   "source": []
  },
  {
   "cell_type": "code",
   "execution_count": null,
   "id": "cd413ba8-eeff-4a58-80ee-f7adf0d4b21f",
   "metadata": {},
   "outputs": [],
   "source": []
  },
  {
   "cell_type": "code",
   "execution_count": null,
   "id": "42e4be86-0c6f-444f-b6db-8d4bc53edee6",
   "metadata": {},
   "outputs": [],
   "source": []
  },
  {
   "cell_type": "code",
   "execution_count": null,
   "id": "f143e8fa-d34b-4640-adc3-06aa86caa4c6",
   "metadata": {},
   "outputs": [],
   "source": []
  }
 ],
 "metadata": {
  "kernelspec": {
   "display_name": "Python 3 (ipykernel)",
   "language": "python",
   "name": "python3"
  },
  "language_info": {
   "codemirror_mode": {
    "name": "ipython",
    "version": 3
   },
   "file_extension": ".py",
   "mimetype": "text/x-python",
   "name": "python",
   "nbconvert_exporter": "python",
   "pygments_lexer": "ipython3",
   "version": "3.7.0"
  }
 },
 "nbformat": 4,
 "nbformat_minor": 5
}
